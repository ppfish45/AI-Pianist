{
 "cells": [
  {
   "cell_type": "code",
   "execution_count": 1,
   "metadata": {},
   "outputs": [],
   "source": [
    "import keypress_recognition.models as models\n",
    "from keypress_recognition import dataset_p as dataset\n",
    "from keypress_recognition import dataset_t\n",
    "import numpy as np\n",
    "import matplotlib.pyplot as plt\n",
    "import cv2\n",
    "import torch\n",
    "%load_ext autoreload\n",
    "%autoreload 2"
   ]
  },
  {
   "cell_type": "code",
   "execution_count": 2,
   "metadata": {},
   "outputs": [],
   "source": [
    "concat = False\n",
    "delta = 3 if concat else 1\n",
    "channels = 3 * delta"
   ]
  },
  {
   "cell_type": "code",
   "execution_count": 3,
   "metadata": {},
   "outputs": [
    {
     "name": "stdout",
     "output_type": "stream",
     "text": [
      "Trying to load model from keypress_recognition/models/best_black_bundle.tar ...\n",
      "done\n",
      "Trying to load model from keypress_recognition/models/best_white_bundle.tar ...\n",
      "done\n"
     ]
    }
   ],
   "source": [
    "mod = {}\n",
    "mod['black'] = models.get_black_bundle_model(channels)\n",
    "mod['black'].load_model('keypress_recognition/models/best_black_bundle.tar')\n",
    "mod['white'] = models.get_white_bundle_model(channels)\n",
    "mod['white'].load_model('keypress_recognition/models/best_white_bundle.tar') "
   ]
  },
  {
   "cell_type": "code",
   "execution_count": 11,
   "metadata": {},
   "outputs": [
    {
     "name": "stdout",
     "output_type": "stream",
     "text": [
      "Start seperating keyboard ...\n",
      "  White single width: 21px\n",
      "  Black single width: 20px\n",
      "  White bundle width: 37px\n",
      "  Black bundle width: 36px\n"
     ]
    },
    {
     "data": {
      "application/vnd.jupyter.widget-view+json": {
       "model_id": "",
       "version_major": 2,
       "version_minor": 0
      },
      "text/plain": [
       "IntProgress(value=0, max=5000)"
      ]
     },
     "metadata": {},
     "output_type": "display_data"
    },
    {
     "name": "stdout",
     "output_type": "stream",
     "text": [
      "In testset: \n",
      "  # of pressed black key: 761\n",
      "  # of unpressed black key: 179239\n",
      "  # of pressed white key: 10831\n",
      "  # of unpressed white key: 249169\n"
     ]
    },
    {
     "data": {
      "application/vnd.jupyter.widget-view+json": {
       "model_id": "",
       "version_major": 2,
       "version_minor": 0
      },
      "text/plain": [
       "IntProgress(value=0, max=2993)"
      ]
     },
     "metadata": {},
     "output_type": "display_data"
    },
    {
     "name": "stdout",
     "output_type": "stream",
     "text": [
      "In valset: \n",
      "  # of pressed black key: 817\n",
      "  # of unpressed black key: 106931\n",
      "  # of pressed white key: 5090\n",
      "  # of unpressed white key: 150546\n"
     ]
    }
   ],
   "source": [
    "dataset.load_all_data(spliter=['test', 'val'], color=['black', 'white'], size=['bundle'], keypress=True, concatenate=concat, delta=delta)"
   ]
  },
  {
   "cell_type": "code",
   "execution_count": null,
   "metadata": {},
   "outputs": [],
   "source": [
    "result = np.zeros(dataset.X['bundle']['black']['test'])\n",
    "for inputs, labels, ind in dataset.data_batch(type='test', size='bundle', color='black', need_velocity=False):\n",
    "    _y = mod['black'].evaluate(inputs)\n",
    "    result[ind] = _y\n",
    "target = dataset.y['black']['test']\n",
    "acc = np.empty((2, 2), dtype=int)\n",
    "for i in (0, 1):\n",
    "    for j in (0, 1):\n",
    "        acc[i, j] = torch.sum((result == i) & (target == j)).tolist()\n",
    "print(mod['black'].evaluate_accuracy_matrix(acc))"
   ]
  },
  {
   "cell_type": "code",
   "execution_count": 5,
   "metadata": {},
   "outputs": [],
   "source": [
    "def visualize_keys(note):\n",
    "    \"\"\"\n",
    "    note: bool\n",
    "    return: str\n",
    "    \"\"\"\n",
    "    return (\"Y\" if note else \"N\")\n",
    "\n",
    "def display_concat_img(img, idx=None):\n",
    "    if concat:\n",
    "        if idx is None:\n",
    "            return img[:, :, :, 3:6]\n",
    "        else:\n",
    "            return img[idx, :, :, 3:6]\n",
    "    if idx is None:\n",
    "        return img\n",
    "    else:\n",
    "        return img[idx, :, :, :]\n"
   ]
  },
  {
   "cell_type": "code",
   "execution_count": 66,
   "metadata": {
    "scrolled": true
   },
   "outputs": [
    {
     "name": "stdout",
     "output_type": "stream",
     "text": [
      "black\n"
     ]
    },
    {
     "data": {
      "application/vnd.jupyter.widget-view+json": {
       "model_id": "",
       "version_major": 2,
       "version_minor": 0
      },
      "text/plain": [
       "IntProgress(value=0, max=358478)"
      ]
     },
     "metadata": {},
     "output_type": "display_data"
    },
    {
     "name": "stdout",
     "output_type": "stream",
     "text": [
      "[[178094    942]\n",
      " [  1170 178322]]\n",
      "Total data count 358528 Batch size 64\n",
      "Precision : 0.9935\n",
      "Recall    : 0.9947\n",
      "Accuracy  : 0.9941\n",
      "F1 Score  : 0.9941\n",
      "white\n"
     ]
    },
    {
     "data": {
      "application/vnd.jupyter.widget-view+json": {
       "model_id": "",
       "version_major": 2,
       "version_minor": 0
      },
      "text/plain": [
       "IntProgress(value=0, max=498338)"
      ]
     },
     "metadata": {},
     "output_type": "display_data"
    },
    {
     "name": "stdout",
     "output_type": "stream",
     "text": [
      "[[240311   7407]\n",
      " [  8873 241777]]\n",
      "Total data count 498368 Batch size 64\n",
      "Precision : 0.9646\n",
      "Recall    : 0.9703\n",
      "Accuracy  : 0.9673\n",
      "F1 Score  : 0.9674\n"
     ]
    }
   ],
   "source": [
    "for color in ('black', 'white'):\n",
    "    print(color)\n",
    "    results = mod[color].test(dataset, size='bundle', color=color, concatenate=concat)\n",
    "    for k, v in results.items():\n",
    "        print(\"{:10}: {:.4f}\".format(k.title(), v))"
   ]
  },
  {
   "cell_type": "code",
   "execution_count": 13,
   "metadata": {},
   "outputs": [
    {
     "data": {
      "application/vnd.jupyter.widget-view+json": {
       "model_id": "",
       "version_major": 2,
       "version_minor": 0
      },
      "text/plain": [
       "IntProgress(value=0, max=107748)"
      ]
     },
     "metadata": {},
     "output_type": "display_data"
    },
    {
     "name": "stdout",
     "output_type": "stream",
     "text": [
      "black\n",
      "[[106798    139]\n",
      " [   133    678]]\n",
      "(0.8360049321824907, 0.8298653610771114, 0.9974755911942681)\n"
     ]
    },
    {
     "data": {
      "application/vnd.jupyter.widget-view+json": {
       "model_id": "",
       "version_major": 2,
       "version_minor": 0
      },
      "text/plain": [
       "IntProgress(value=0, max=155636)"
      ]
     },
     "metadata": {},
     "output_type": "display_data"
    },
    {
     "name": "stdout",
     "output_type": "stream",
     "text": [
      "white\n",
      "[[149350   1073]\n",
      " [  1196   4017]]\n",
      "(0.770573566084788, 0.7891944990176817, 0.9854211107969878)\n"
     ]
    }
   ],
   "source": [
    "valresult = {}\n",
    "for color in ('black', 'white'):\n",
    "    dbatch = dataset.data_batch(type='val', size='bundle', color=color, need_velocity=False)\n",
    "    valresult[color] = np.zeros(len(dataset.X['bundle'][color]['val']))\n",
    "    for inputs, labels, ind in dbatch:\n",
    "        _y = mod[color].evaluate(inputs, threshold=0.95 if color=='black' else 0.92).cpu().numpy() # (batchsize, )\n",
    "        valresult[color][ind] = _y \n",
    "    target = dataset.y[color]['val'] > 0\n",
    "    acc = np.empty((2, 2), dtype=int)\n",
    "    for i in (0, 1):\n",
    "        for j in (0, 1):\n",
    "            acc[i, j] = np.sum(np.logical_and(valresult[color] == i, target == j))\n",
    "    print(color)\n",
    "    print(acc)\n",
    "    print(mod[color].evaluate_accuracy_matrix(acc))"
   ]
  },
  {
   "cell_type": "code",
   "execution_count": 16,
   "metadata": {},
   "outputs": [
    {
     "name": "stdout",
     "output_type": "stream",
     "text": [
      "(107748,)\n",
      "2993.0\n",
      "2993.0\n",
      "(2993, 52)\n"
     ]
    }
   ],
   "source": [
    "print(valresult['black'].shape)\n",
    "print(valresult['black'].shape[0] / 36)\n",
    "print(valresult['white'].shape[0] / 52)\n",
    "reshaped = {\n",
    "    'black': valresult['black'].reshape(2993, 36),\n",
    "    'white': valresult['white'].reshape(2993, 52)\n",
    "}\n",
    "print(reshaped['white'].shape)"
   ]
  },
  {
   "cell_type": "code",
   "execution_count": 17,
   "metadata": {},
   "outputs": [
    {
     "name": "stdout",
     "output_type": "stream",
     "text": [
      "(2993, 128)\n"
     ]
    }
   ],
   "source": [
    "fuck = dataset_t.merge_two_colors(reshaped['white'], reshaped['black'])\n",
    "assert fuck.shape == (2993, 88)\n",
    "fucked = np.pad(fuck, ((0, 0), (21, 19)), mode='constant', constant_values=0)\n",
    "print(fucked.shape)\n",
    "np.save('./out/val_result_bundle.npy', fucked)\n",
    "np.save('./out/val_result_black_bundle.npy', reshaped['black'])\n",
    "np.save('./out/val_result_white_bundle.npy', reshaped['white'])"
   ]
  },
  {
   "cell_type": "code",
   "execution_count": 85,
   "metadata": {},
   "outputs": [
    {
     "data": {
      "application/vnd.jupyter.widget-view+json": {
       "model_id": "",
       "version_major": 2,
       "version_minor": 0
      },
      "text/plain": [
       "IntProgress(value=0, max=358478)"
      ]
     },
     "metadata": {},
     "output_type": "display_data"
    },
    {
     "name": "stdout",
     "output_type": "stream",
     "text": [
      "black\n",
      "[[179136     90]\n",
      " [   103    671]]\n",
      "(0.8669250645994832, 0.8817345597897503, 0.9989277777777777)\n"
     ]
    },
    {
     "data": {
      "application/vnd.jupyter.widget-view+json": {
       "model_id": "",
       "version_major": 2,
       "version_minor": 0
      },
      "text/plain": [
       "IntProgress(value=0, max=498338)"
      ]
     },
     "metadata": {},
     "output_type": "display_data"
    },
    {
     "name": "stdout",
     "output_type": "stream",
     "text": [
      "white\n",
      "[[246805   2123]\n",
      " [  2364   8708]]\n",
      "(0.7864884393063584, 0.8039885513802973, 0.9827423076923076)\n"
     ]
    }
   ],
   "source": [
    "fuckyouresult = {}\n",
    "for color in ('black', 'white'):\n",
    "    dbatch = dataset.data_batch(type='test', size='bundle', color=color, need_velocity=False)\n",
    "    fuckyouresult[color] = np.zeros(len(dataset.X['bundle'][color]['test']))\n",
    "    for inputs, labels, ind in dbatch:\n",
    "        _y = mod[color].evaluate(inputs, threshold=0.94 if color=='black' else 0.88).cpu().numpy() # (batchsize, )\n",
    "        fuckyouresult[color][ind] = _y \n",
    "    target = dataset.y[color]['test'] > 0\n",
    "    acc = np.empty((2, 2), dtype=int)\n",
    "    for i in (0, 1):\n",
    "        for j in (0, 1):\n",
    "            acc[i, j] = np.sum(np.logical_and(fuckyouresult[color] == i, target == j))\n",
    "    print(color)\n",
    "    print(acc)\n",
    "    print(mod[color].evaluate_accuracy_matrix(acc))"
   ]
  },
  {
   "cell_type": "code",
   "execution_count": 87,
   "metadata": {},
   "outputs": [
    {
     "name": "stdout",
     "output_type": "stream",
     "text": [
      "(180000,)\n",
      "5000.0\n",
      "5000.0\n",
      "(5000, 52)\n",
      "[[0. 0. 0. ... 0. 0. 0.]\n",
      " [0. 0. 0. ... 0. 0. 0.]\n",
      " [0. 0. 0. ... 0. 0. 0.]\n",
      " ...\n",
      " [0. 0. 0. ... 0. 0. 0.]\n",
      " [0. 0. 0. ... 0. 0. 0.]\n",
      " [0. 0. 0. ... 0. 0. 0.]]\n"
     ]
    }
   ],
   "source": [
    "print(fuckyouresult['black'].shape)\n",
    "print(fuckyouresult['black'].shape[0] / 36)\n",
    "print(fuckyouresult['white'].shape[0] / 52)\n",
    "reshaped = {\n",
    "    'black': fuckyouresult['black'].reshape(5000, 36),\n",
    "    'white': fuckyouresult['white'].reshape(5000, 52)\n",
    "}\n",
    "print(reshaped['white'].shape)\n",
    "print(reshaped['black'])"
   ]
  },
  {
   "cell_type": "code",
   "execution_count": 91,
   "metadata": {},
   "outputs": [
    {
     "name": "stdout",
     "output_type": "stream",
     "text": [
      "(5000, 88)\n",
      "(5000, 128)\n"
     ]
    }
   ],
   "source": [
    "fuck = dataset_t.merge_two_colors(reshaped['white'], reshaped['black'])\n",
    "assert fuck.shape == (5000, 88)\n",
    "print(fuck.shape)\n",
    "fucked = np.pad(fuck, ((0, 0), (21, 19)), mode='constant', constant_values=0)\n",
    "print(fucked.shape)\n",
    "np.save('./out/test_result_bundle.npy', fucked)\n",
    "np.save('./out/test_result_black_bundle.npy', reshaped['black'])\n",
    "np.save('./out/test_result_black_bundle.npy', reshaped['white'])"
   ]
  },
  {
   "cell_type": "code",
   "execution_count": 46,
   "metadata": {
    "scrolled": false
   },
   "outputs": [
    {
     "data": {
      "application/vnd.jupyter.widget-view+json": {
       "model_id": "",
       "version_major": 2,
       "version_minor": 0
      },
      "text/plain": [
       "IntProgress(value=0, max=5000)"
      ]
     },
     "metadata": {},
     "output_type": "display_data"
    },
    {
     "name": "stdout",
     "output_type": "stream",
     "text": [
      "float64 (5000, 36)\n"
     ]
    }
   ],
   "source": [
    "# ! we disable threshold at first\n",
    "\n",
    "blacknpy = np.empty((0, 36))\n",
    "whitenpy = np.empty((0, 52))\n",
    "for whites, blacks in dataset_t.data_batch(size='bundle'):\n",
    "    blackout = mod['black'].evaluate(blacks, threshold=None).cpu().numpy()\n",
    "    whiteout = mod['white'].evaluate(whites, threshold=None).cpu().numpy()\n",
    "#     out = dataset_t.merge_two_colors(whiteout, blackout)\n",
    "    blacknpy = np.concatenate((blacknpy, blackout[None]), axis=0)\n",
    "    whitenpy = np.concatenate((whitenpy, whiteout[None]), axis=0)\n",
    "print(blacknpy.dtype, blacknpy.shape)"
   ]
  },
  {
   "cell_type": "code",
   "execution_count": null,
   "metadata": {},
   "outputs": [],
   "source": [
    "label = np.load('keypress_recognition/dataset/y_test/y_test.npy')\n",
    "label = label[:, 21:109] > 0\n",
    "print(label.shape)\n",
    "\n",
    "black_mask = np.array([1, 4, 6, 9, 11, 13, 16, 18, 21, 23, 25, 28, 30, 33, 35, 37, 40, 42, 45, 47, 49, 52, 54, 57, 59, 61, 64,\n",
    "    66, 69, 71, 73, 76, 78, 81, 83, 85])\n",
    "white_mask = np.array([0, 2, 3, 5, 7, 8, 10, 12, 14, 15, 17, 19, 20, 22, 24, 26, 27, 29, 31, 32, 34, 36, 38, 39, 41, 43, 44, 46, 48,\n",
    "    50, 51, 53, 55, 56, 58, 60, 62, 63, 65, 67, 68, 70, 72, 74, 75, 77, 79, 80, 82, 84, 86, 87])"
   ]
  },
  {
   "cell_type": "code",
   "execution_count": 40,
   "metadata": {
    "scrolled": true
   },
   "outputs": [
    {
     "name": "stdout",
     "output_type": "stream",
     "text": [
      "{'accuracy': 0.9856944444444444, 'precision': 0.010787486515641856, 'recall': 0.026281208935611037, 'F1 score': 0.015296367112810709}\n",
      "{'accuracy': 0.8991269230769231, 'precision': 0.10278637770897833, 'recall': 0.18391653586926415, 'F1 score': 0.1318724967726987}\n"
     ]
    }
   ],
   "source": [
    "blackpred = blacknpy > 0.5\n",
    "print(dataset_t.evaluate(blackpred, label[:, black_mask]))\n",
    "whitepred = whitenpy > 0.5\n",
    "print(dataset_t.evaluate(whitepred, label[:, white_mask]))"
   ]
  },
  {
   "cell_type": "code",
   "execution_count": 30,
   "metadata": {},
   "outputs": [
    {
     "name": "stdout",
     "output_type": "stream",
     "text": [
      "[[ True  True  True  True  True  True  True  True  True  True  True  True\n",
      "   True  True  True  True  True  True  True  True  True  True  True  True\n",
      "   True  True  True  True  True  True  True  True  True  True  True  True\n",
      "   True  True  True  True  True  True  True  True  True  True  True  True\n",
      "   True  True  True  True  True  True  True  True  True  True  True  True\n",
      "   True  True  True  True  True  True  True  True  True  True  True  True\n",
      "   True  True  True  True  True  True  True  True  True  True  True  True\n",
      "   True  True  True  True]]\n"
     ]
    }
   ],
   "source": [
    "pred = dataset_t.merge_two_colors(whitepred, blackpred)\n",
    "print(pred.shape)\n",
    "eva = dataset_t.evaluate(pred, label)\n",
    "print(eva)"
   ]
  },
  {
   "cell_type": "code",
   "execution_count": null,
   "metadata": {},
   "outputs": [],
   "source": []
  }
 ],
 "metadata": {
  "kernelspec": {
   "display_name": "Python 3",
   "language": "python",
   "name": "python3"
  },
  "language_info": {
   "codemirror_mode": {
    "name": "ipython",
    "version": 3
   },
   "file_extension": ".py",
   "mimetype": "text/x-python",
   "name": "python",
   "nbconvert_exporter": "python",
   "pygments_lexer": "ipython3",
   "version": "3.6.4"
  }
 },
 "nbformat": 4,
 "nbformat_minor": 2
}
