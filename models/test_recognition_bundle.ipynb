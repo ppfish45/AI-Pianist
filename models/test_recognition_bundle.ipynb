{
 "cells": [
  {
   "cell_type": "code",
   "execution_count": 1,
   "metadata": {},
   "outputs": [],
   "source": [
    "import keypress_recognition.models as models\n",
    "from keypress_recognition import dataset_p as dataset\n",
    "import numpy as np\n",
    "import matplotlib.pyplot as plt\n",
    "import cv2\n",
    "%load_ext autoreload\n",
    "%autoreload 2"
   ]
  },
  {
   "cell_type": "code",
   "execution_count": 2,
   "metadata": {},
   "outputs": [],
   "source": [
    "concat = False\n",
    "delta = 3 if concat else 1\n",
    "channels = 3 * delta"
   ]
  },
  {
   "cell_type": "code",
   "execution_count": 4,
   "metadata": {},
   "outputs": [
    {
     "name": "stdout",
     "output_type": "stream",
     "text": [
      "Trying to load model from keypress_recognition/models/best_black_bundle.tar ...\n",
      "done\n",
      "Trying to load model from keypress_recognition/models/best_white_bundle.tar ...\n",
      "done\n"
     ]
    }
   ],
   "source": [
    "mod = {}\n",
    "mod['black'] = models.get_black_bundle_model(channels)\n",
    "mod['black'].load_model('keypress_recognition/models/best_black_bundle.tar')\n",
    "mod['white'] = models.get_white_bundle_model(channels)\n",
    "mod['white'].load_model('keypress_recognition/models/best_white_bundle.tar') "
   ]
  },
  {
   "cell_type": "code",
   "execution_count": 5,
   "metadata": {},
   "outputs": [
    {
     "name": "stdout",
     "output_type": "stream",
     "text": [
      "Start seperating keyboard ...\n",
      "  White single width: 21px\n",
      "  Black single width: 20px\n",
      "  White bundle width: 37px\n",
      "  Black bundle width: 36px\n"
     ]
    },
    {
     "data": {
      "application/vnd.jupyter.widget-view+json": {
       "model_id": "",
       "version_major": 2,
       "version_minor": 0
      },
      "text/plain": [
       "IntProgress(value=0, max=14273)"
      ]
     },
     "metadata": {},
     "output_type": "display_data"
    },
    {
     "name": "stdout",
     "output_type": "stream",
     "text": [
      "In trainset: \n",
      "  # of pressed black key: 8755\n",
      "  # of unpressed black key: 44141\n",
      "  # of pressed white key: 19083\n",
      "  # of unpressed white key: 57799\n"
     ]
    },
    {
     "data": {
      "application/vnd.jupyter.widget-view+json": {
       "model_id": "",
       "version_major": 2,
       "version_minor": 0
      },
      "text/plain": [
       "IntProgress(value=0, max=5000)"
      ]
     },
     "metadata": {},
     "output_type": "display_data"
    },
    {
     "name": "stdout",
     "output_type": "stream",
     "text": [
      "In testset: \n",
      "  # of pressed black key: 761\n",
      "  # of unpressed black key: 22531\n",
      "  # of pressed white key: 10831\n",
      "  # of unpressed white key: 23055\n"
     ]
    },
    {
     "data": {
      "application/vnd.jupyter.widget-view+json": {
       "model_id": "",
       "version_major": 2,
       "version_minor": 0
      },
      "text/plain": [
       "IntProgress(value=0, max=2993)"
      ]
     },
     "metadata": {},
     "output_type": "display_data"
    },
    {
     "name": "stdout",
     "output_type": "stream",
     "text": [
      "In valset: \n",
      "  # of pressed black key: 817\n",
      "  # of unpressed black key: 10697\n",
      "  # of pressed white key: 5090\n",
      "  # of unpressed white key: 11944\n"
     ]
    }
   ],
   "source": [
    "dataset.load_all_data(color=['black', 'white'], size=['bundle'], keypress=True, concatenate=concat, delta=delta)"
   ]
  },
  {
   "cell_type": "code",
   "execution_count": 6,
   "metadata": {},
   "outputs": [],
   "source": [
    "def visualize_keys(note):\n",
    "    \"\"\"\n",
    "    note: bool\n",
    "    return: str\n",
    "    \"\"\"\n",
    "    return (\"Y\" if note else \"N\")\n",
    "\n",
    "def display_concat_img(img, idx=None):\n",
    "    if concat:\n",
    "        if idx is None:\n",
    "            return img[:, :, :, 3:6]\n",
    "        else:\n",
    "            return img[idx, :, :, 3:6]\n",
    "    if idx is None:\n",
    "        return img\n",
    "    else:\n",
    "        return img[idx, :, :, :]\n"
   ]
  },
  {
   "cell_type": "code",
   "execution_count": 7,
   "metadata": {},
   "outputs": [
    {
     "data": {
      "application/vnd.jupyter.widget-view+json": {
       "model_id": "",
       "version_major": 2,
       "version_minor": 0
      },
      "text/plain": [
       "IntProgress(value=0, max=45062)"
      ]
     },
     "metadata": {},
     "output_type": "display_data"
    },
    {
     "name": "stdout",
     "output_type": "stream",
     "text": [
      "Precision : 0.9877\n",
      "Recall    : 0.9948\n",
      "Accuracy  : 0.9912\n",
      "F1 Score  : 0.9912\n"
     ]
    },
    {
     "data": {
      "application/vnd.jupyter.widget-view+json": {
       "model_id": "",
       "version_major": 2,
       "version_minor": 0
      },
      "text/plain": [
       "IntProgress(value=0, max=46110)"
      ]
     },
     "metadata": {},
     "output_type": "display_data"
    },
    {
     "name": "stdout",
     "output_type": "stream",
     "text": [
      "Precision : 0.9574\n",
      "Recall    : 0.9706\n",
      "Accuracy  : 0.9637\n",
      "F1 Score  : 0.9639\n"
     ]
    }
   ],
   "source": [
    "for color in ('black', 'white'):\n",
    "    results = mod[color].test(dataset, size='bundle', color=color, concatenate=concat)\n",
    "    for k, v in results.items():\n",
    "        print(\"{:10}: {:.4f}\".format(k.title(), v))"
   ]
  },
  {
   "cell_type": "code",
   "execution_count": null,
   "metadata": {},
   "outputs": [],
   "source": [
    "pred = {}\n",
    "for color in ('black', 'white'):\n",
    "    inputs = np.transpose(dataset.X['bundle'][color]['test'], (0, 3, 1, 2))\n",
    "    print(inputs.shape)\n",
    "    pred[color] = mod[color].evaluate(inputs)\n",
    "    pred[color] = pred[color].numpy()\n",
    "    np.save(f'{color}_prediction.npy', pred[color])"
   ]
  },
  {
   "cell_type": "code",
   "execution_count": null,
   "metadata": {},
   "outputs": [],
   "source": []
  },
  {
   "cell_type": "code",
   "execution_count": null,
   "metadata": {},
   "outputs": [],
   "source": []
  }
 ],
 "metadata": {
  "kernelspec": {
   "display_name": "Environment (conda_pytorch_p36)",
   "language": "python",
   "name": "conda_pytorch_p36"
  },
  "language_info": {
   "codemirror_mode": {
    "name": "ipython",
    "version": 3
   },
   "file_extension": ".py",
   "mimetype": "text/x-python",
   "name": "python",
   "nbconvert_exporter": "python",
   "pygments_lexer": "ipython3",
   "version": "3.6.5"
  }
 },
 "nbformat": 4,
 "nbformat_minor": 2
}
