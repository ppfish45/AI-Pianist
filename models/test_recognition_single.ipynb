{
 "cells": [
  {
   "cell_type": "code",
   "execution_count": 15,
   "metadata": {},
   "outputs": [
    {
     "name": "stdout",
     "output_type": "stream",
     "text": [
      "The autoreload extension is already loaded. To reload it, use:\n",
      "  %reload_ext autoreload\n"
     ]
    }
   ],
   "source": [
    "import keypress_recognition.models as models\n",
    "from keypress_recognition import dataset_p as dataset\n",
    "from keypress_recognition import dataset_t\n",
    "import numpy as np\n",
    "import matplotlib.pyplot as plt\n",
    "import cv2\n",
    "%load_ext autoreload\n",
    "%autoreload 2"
   ]
  },
  {
   "cell_type": "code",
   "execution_count": 2,
   "metadata": {},
   "outputs": [],
   "source": [
    "concat = False\n",
    "delta = 3 if concat else 1\n",
    "channels = 3 * delta"
   ]
  },
  {
   "cell_type": "code",
   "execution_count": 3,
   "metadata": {},
   "outputs": [
    {
     "name": "stdout",
     "output_type": "stream",
     "text": [
      "Trying to load model from keypress_recognition/models/best_black_model.tar ...\n",
      "done\n",
      "Trying to load model from keypress_recognition/models/best_white_model.tar ...\n",
      "done\n"
     ]
    }
   ],
   "source": [
    "mod = {}\n",
    "mod['black'] = models.get_black_key_model(channels)\n",
    "mod['black'].load_model('keypress_recognition/models/best_black_model.tar')\n",
    "mod['white'] = models.get_white_key_model(channels)\n",
    "mod['white'].load_model('keypress_recognition/models/best_white_model.tar') "
   ]
  },
  {
   "cell_type": "code",
   "execution_count": 4,
   "metadata": {},
   "outputs": [
    {
     "name": "stdout",
     "output_type": "stream",
     "text": [
      "Start seperating keyboard ...\n",
      "  White single width: 21px\n",
      "  Black single width: 20px\n",
      "  White bundle width: 37px\n",
      "  Black bundle width: 36px\n"
     ]
    },
    {
     "data": {
      "application/vnd.jupyter.widget-view+json": {
       "model_id": "",
       "version_major": 2,
       "version_minor": 0
      },
      "text/plain": [
       "IntProgress(value=0, max=14273)"
      ]
     },
     "metadata": {},
     "output_type": "display_data"
    },
    {
     "name": "stdout",
     "output_type": "stream",
     "text": [
      "In trainset: \n",
      "  # of pressed black key: 8755\n",
      "  # of unpressed black key: 43822\n",
      "  # of pressed white key: 19083\n",
      "  # of unpressed white key: 57344\n"
     ]
    },
    {
     "data": {
      "application/vnd.jupyter.widget-view+json": {
       "model_id": "",
       "version_major": 2,
       "version_minor": 0
      },
      "text/plain": [
       "IntProgress(value=0, max=5000)"
      ]
     },
     "metadata": {},
     "output_type": "display_data"
    },
    {
     "name": "stdout",
     "output_type": "stream",
     "text": [
      "In testset: \n",
      "  # of pressed black key: 761\n",
      "  # of unpressed black key: 22609\n",
      "  # of pressed white key: 10831\n",
      "  # of unpressed white key: 23167\n"
     ]
    },
    {
     "data": {
      "application/vnd.jupyter.widget-view+json": {
       "model_id": "",
       "version_major": 2,
       "version_minor": 0
      },
      "text/plain": [
       "IntProgress(value=0, max=2993)"
      ]
     },
     "metadata": {},
     "output_type": "display_data"
    },
    {
     "name": "stdout",
     "output_type": "stream",
     "text": [
      "In valset: \n",
      "  # of pressed black key: 817\n",
      "  # of unpressed black key: 10821\n",
      "  # of pressed white key: 5090\n",
      "  # of unpressed white key: 12125\n"
     ]
    }
   ],
   "source": [
    "dataset.load_all_data(color=['black', 'white'], size=['single'], keypress=True, concatenate=concat, delta=delta)"
   ]
  },
  {
   "cell_type": "code",
   "execution_count": 5,
   "metadata": {},
   "outputs": [],
   "source": [
    "def visualize_keys(note):\n",
    "    \"\"\"\n",
    "    note: bool\n",
    "    return: str\n",
    "    \"\"\"\n",
    "    return (\"Y\" if note else \"N\")\n",
    "\n",
    "def display_concat_img(img, idx=None):\n",
    "    if concat:\n",
    "        if idx is None:\n",
    "            return img[:, :, :, 3:6]\n",
    "        else:\n",
    "            return img[idx, :, :, 3:6]\n",
    "    if idx is None:\n",
    "        return img\n",
    "    else:\n",
    "        return img[idx, :, :, :]\n"
   ]
  },
  {
   "cell_type": "code",
   "execution_count": 10,
   "metadata": {},
   "outputs": [
    {
     "data": {
      "application/vnd.jupyter.widget-view+json": {
       "model_id": "",
       "version_major": 2,
       "version_minor": 0
      },
      "text/plain": [
       "IntProgress(value=0, max=44980)"
      ]
     },
     "metadata": {},
     "output_type": "display_data"
    },
    {
     "name": "stdout",
     "output_type": "stream",
     "text": [
      "Precision : 0.9820\n",
      "Recall    : 0.9921\n",
      "Accuracy  : 0.9870\n",
      "F1 Score  : 0.9870\n"
     ]
    },
    {
     "data": {
      "application/vnd.jupyter.widget-view+json": {
       "model_id": "",
       "version_major": 2,
       "version_minor": 0
      },
      "text/plain": [
       "IntProgress(value=0, max=45996)"
      ]
     },
     "metadata": {},
     "output_type": "display_data"
    },
    {
     "name": "stdout",
     "output_type": "stream",
     "text": [
      "Precision : 0.9263\n",
      "Recall    : 0.9495\n",
      "Accuracy  : 0.9370\n",
      "F1 Score  : 0.9378\n"
     ]
    }
   ],
   "source": [
    "for color in ('black', 'white'):\n",
    "    results = mod[color].test(dataset, size='single', color=color, concatenate=concat)\n",
    "    for k, v in results.items():\n",
    "        print(\"{:10}: {:.4f}\".format(k.title(), v))"
   ]
  },
  {
   "cell_type": "code",
   "execution_count": 32,
   "metadata": {},
   "outputs": [
    {
     "data": {
      "application/vnd.jupyter.widget-view+json": {
       "model_id": "",
       "version_major": 2,
       "version_minor": 0
      },
      "text/plain": [
       "IntProgress(value=0, max=5000)"
      ]
     },
     "metadata": {},
     "output_type": "display_data"
    }
   ],
   "source": [
    "npy = np.empty((0, 88), dtype=bool)\n",
    "for whites, blacks in dataset_t.data_batch(size='single'):\n",
    "#     print(blacks.shape, whites.shape)\n",
    "    blackout = mod['black'].evaluate(blacks).numpy()\n",
    "    whiteout = mod['white'].evaluate(whites).numpy()\n",
    "#     print(blackout.shape, whiteout.shape)\n",
    "#     print(blackout.dtype, whiteout.dtype)\n",
    "    out = dataset_t.merge_two_colors(whiteout, blackout, dtype=bool)\n",
    "    npy = np.concatenate((npy, out[None]), axis=0)\n",
    "#     np.save(f'{color}_prediction.npy', pred[color])"
   ]
  },
  {
   "cell_type": "code",
   "execution_count": 42,
   "metadata": {},
   "outputs": [
    {
     "name": "stdout",
     "output_type": "stream",
     "text": [
      "(5000, 88)\n"
     ]
    }
   ],
   "source": [
    "print(npy.shape)\n",
    "np.save('keypress_recognition/dataset/y_pred/y_pred_single.npy', npy)\n",
    "# print(blackout)\n",
    "# print(whiteout)\n",
    "# print(npy)\n",
    "# print(npy[0, np.array([27, 29, 31, 34])])"
   ]
  },
  {
   "cell_type": "code",
   "execution_count": 43,
   "metadata": {},
   "outputs": [
    {
     "name": "stdout",
     "output_type": "stream",
     "text": [
      "(5000, 88)\n",
      "0.9158568181818182\n"
     ]
    }
   ],
   "source": [
    "# sanity check\n",
    "label = np.load('keypress_recognition/dataset/y_test/y_test.npy')\n",
    "label = label[:, 21:109] > 0\n",
    "print(label.shape)\n",
    "accuracy = np.mean(label == npy)\n",
    "print(accuracy)"
   ]
  },
  {
   "cell_type": "code",
   "execution_count": null,
   "metadata": {},
   "outputs": [],
   "source": []
  }
 ],
 "metadata": {
  "kernelspec": {
   "display_name": "Environment (conda_pytorch_p36)",
   "language": "python",
   "name": "conda_pytorch_p36"
  },
  "language_info": {
   "codemirror_mode": {
    "name": "ipython",
    "version": 3
   },
   "file_extension": ".py",
   "mimetype": "text/x-python",
   "name": "python",
   "nbconvert_exporter": "python",
   "pygments_lexer": "ipython3",
   "version": "3.6.5"
  }
 },
 "nbformat": 4,
 "nbformat_minor": 2
}
