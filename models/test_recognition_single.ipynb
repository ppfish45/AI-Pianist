{
 "cells": [
  {
   "cell_type": "code",
   "execution_count": 1,
   "metadata": {},
   "outputs": [],
   "source": [
    "import keypress_recognition.models as models\n",
    "from keypress_recognition import dataset_p as dataset\n",
    "from keypress_recognition import dataset_t\n",
    "import numpy as np\n",
    "import matplotlib.pyplot as plt\n",
    "import cv2\n",
    "%load_ext autoreload\n",
    "%autoreload 2"
   ]
  },
  {
   "cell_type": "code",
   "execution_count": 2,
   "metadata": {},
   "outputs": [],
   "source": [
    "concat = False\n",
    "delta = 3 if concat else 1\n",
    "channels = 3 * delta"
   ]
  },
  {
   "cell_type": "code",
   "execution_count": 3,
   "metadata": {},
   "outputs": [
    {
     "name": "stdout",
     "output_type": "stream",
     "text": [
      "Trying to load model from keypress_recognition/models/best_black_model.tar ...\n",
      "done\n",
      "Trying to load model from keypress_recognition/models/best_white_model.tar ...\n",
      "done\n"
     ]
    }
   ],
   "source": [
    "mod = {}\n",
    "mod['black'] = models.get_black_key_model(channels)\n",
    "mod['black'].load_model('keypress_recognition/models/best_black_model.tar')\n",
    "mod['white'] = models.get_white_key_model(channels)\n",
    "mod['white'].load_model('keypress_recognition/models/best_white_model.tar') "
   ]
  },
  {
   "cell_type": "code",
   "execution_count": null,
   "metadata": {},
   "outputs": [
    {
     "name": "stdout",
     "output_type": "stream",
     "text": [
      "Start seperating keyboard ...\n",
      "  White single width: 21px\n",
      "  Black single width: 20px\n",
      "  White bundle width: 37px\n",
      "  Black bundle width: 36px\n"
     ]
    },
    {
     "data": {
      "application/vnd.jupyter.widget-view+json": {
       "model_id": "",
       "version_major": 2,
       "version_minor": 0
      },
      "text/plain": [
       "IntProgress(value=0, max=14273)"
      ]
     },
     "metadata": {},
     "output_type": "display_data"
    },
    {
     "name": "stdout",
     "output_type": "stream",
     "text": [
      "In trainset: \n",
      "  # of pressed black key: 8755\n",
      "  # of unpressed black key: 43949\n",
      "  # of pressed white key: 19083\n",
      "  # of unpressed white key: 57523\n"
     ]
    },
    {
     "data": {
      "application/vnd.jupyter.widget-view+json": {
       "model_id": "",
       "version_major": 2,
       "version_minor": 0
      },
      "text/plain": [
       "IntProgress(value=0, max=5000)"
      ]
     },
     "metadata": {},
     "output_type": "display_data"
    },
    {
     "name": "stdout",
     "output_type": "stream",
     "text": [
      "In testset: \n",
      "  # of pressed black key: 761\n",
      "  # of unpressed black key: 22436\n",
      "  # of pressed white key: 10831\n",
      "  # of unpressed white key: 22917\n"
     ]
    },
    {
     "data": {
      "application/vnd.jupyter.widget-view+json": {
       "model_id": "1359f54b0ef44deeb24ab727853beb30",
       "version_major": 2,
       "version_minor": 0
      },
      "text/plain": [
       "IntProgress(value=0, max=2993)"
      ]
     },
     "metadata": {},
     "output_type": "display_data"
    }
   ],
   "source": [
    "dataset.load_all_data(color=['black', 'white'], size=['single'], keypress=True, concatenate=concat, delta=delta)"
   ]
  },
  {
   "cell_type": "code",
   "execution_count": null,
   "metadata": {},
   "outputs": [],
   "source": [
    "def visualize_keys(note):\n",
    "    \"\"\"\n",
    "    note: bool\n",
    "    return: str\n",
    "    \"\"\"\n",
    "    return (\"Y\" if note else \"N\")\n",
    "\n",
    "def display_concat_img(img, idx=None):\n",
    "    if concat:\n",
    "        if idx is None:\n",
    "            return img[:, :, :, 3:6]\n",
    "        else:\n",
    "            return img[idx, :, :, 3:6]\n",
    "    if idx is None:\n",
    "        return img\n",
    "    else:\n",
    "        return img[idx, :, :, :]\n"
   ]
  },
  {
   "cell_type": "code",
   "execution_count": null,
   "metadata": {},
   "outputs": [],
   "source": [
    "for color in ('black', 'white'):\n",
    "    results = mod[color].test(dataset, size='single', color=color, concatenate=concat)\n",
    "    for k, v in results.items():\n",
    "        print(\"{:10}: {:.4f}\".format(k.title(), v))"
   ]
  },
  {
   "cell_type": "code",
   "execution_count": 4,
   "metadata": {},
   "outputs": [
    {
     "data": {
      "application/vnd.jupyter.widget-view+json": {
       "model_id": "",
       "version_major": 2,
       "version_minor": 0
      },
      "text/plain": [
       "IntProgress(value=0, max=5000)"
      ]
     },
     "metadata": {},
     "output_type": "display_data"
    }
   ],
   "source": [
    "npy = np.empty((0, 88), dtype=bool)\n",
    "for whites, blacks in dataset_t.data_batch(size='single'):\n",
    "#     print(blacks.shape, whites.shape)\n",
    "    blackout = mod['black'].evaluate(blacks).numpy()\n",
    "    whiteout = mod['white'].evaluate(whites).numpy()\n",
    "#     print(blackout.shape, whiteout.shape)\n",
    "#     print(blackout.dtype, whiteout.dtype)\n",
    "    out = dataset_t.merge_two_colors(whiteout, blackout, dtype=bool)\n",
    "    npy = np.concatenate((npy, out[None]), axis=0)\n",
    "#     np.save(f'{color}_prediction.npy', pred[color])"
   ]
  },
  {
   "cell_type": "code",
   "execution_count": 5,
   "metadata": {},
   "outputs": [
    {
     "name": "stdout",
     "output_type": "stream",
     "text": [
      "(5000, 88)\n"
     ]
    }
   ],
   "source": [
    "print(npy.shape)\n",
    "np.save('keypress_recognition/dataset/y_pred/y_pred_single.npy', npy)\n",
    "# print(blackout)\n",
    "# print(whiteout)\n",
    "# print(npy)\n",
    "# print(npy[0, np.array([27, 29, 31, 34])])"
   ]
  },
  {
   "cell_type": "code",
   "execution_count": 6,
   "metadata": {},
   "outputs": [
    {
     "name": "stdout",
     "output_type": "stream",
     "text": [
      "(5000, 88)\n",
      "{'accuracy': 0.9331522727272727, 'precision': 0.08375764936702948, 'recall': 0.15467563837129056, 'F1 score': 0.10866995969574837}\n"
     ]
    }
   ],
   "source": [
    "# sanity check\n",
    "label = np.load('keypress_recognition/dataset/y_test/y_test.npy')\n",
    "label = label[:, 21:109] > 0\n",
    "print(label.shape)\n",
    "eva = dataset_t.evaluate(npy, label)\n",
    "print(eva)"
   ]
  },
  {
   "cell_type": "code",
   "execution_count": 7,
   "metadata": {},
   "outputs": [
    {
     "name": "stdout",
     "output_type": "stream",
     "text": [
      "{'accuracy': 0.9830166666666666, 'precision': 0.008561643835616438, 'recall': 0.026281208935611037, 'F1 score': 0.012915724895059733}\n",
      "{'accuracy': 0.8986307692307692, 'precision': 0.09296838131193959, 'recall': 0.16369679623303482, 'F1 score': 0.11858738545916661}\n"
     ]
    }
   ],
   "source": [
    "black_mask = np.array([1, 4, 6, 9, 11, 13, 16, 18, 21, 23, 25, 28, 30, 33, 35, 37, 40, 42, 45, 47, 49, 52, 54, 57, 59, 61, 64,\n",
    "    66, 69, 71, 73, 76, 78, 81, 83, 85])\n",
    "white_mask = np.array([0, 2, 3, 5, 7, 8, 10, 12, 14, 15, 17, 19, 20, 22, 24, 26, 27, 29, 31, 32, 34, 36, 38, 39, 41, 43, 44, 46, 48,\n",
    "    50, 51, 53, 55, 56, 58, 60, 62, 63, 65, 67, 68, 70, 72, 74, 75, 77, 79, 80, 82, 84, 86, 87])\n",
    "print(dataset_t.evaluate(npy[:, black_mask], label[:, black_mask]))\n",
    "print(dataset_t.evaluate(npy[:, white_mask], label[:, white_mask]))"
   ]
  },
  {
   "cell_type": "code",
   "execution_count": null,
   "metadata": {},
   "outputs": [],
   "source": []
  }
 ],
 "metadata": {
  "kernelspec": {
   "display_name": "Environment (conda_pytorch_p36)",
   "language": "python",
   "name": "conda_pytorch_p36"
  },
  "language_info": {
   "codemirror_mode": {
    "name": "ipython",
    "version": 3
   },
   "file_extension": ".py",
   "mimetype": "text/x-python",
   "name": "python",
   "nbconvert_exporter": "python",
   "pygments_lexer": "ipython3",
   "version": "3.6.5"
  }
 },
 "nbformat": 4,
 "nbformat_minor": 2
}
