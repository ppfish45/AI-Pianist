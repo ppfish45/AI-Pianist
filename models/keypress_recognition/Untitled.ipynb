{
 "cells": [
  {
   "cell_type": "code",
   "execution_count": 1,
   "metadata": {},
   "outputs": [],
   "source": [
    "import cv2\n",
    "import numpy as np"
   ]
  },
  {
   "cell_type": "code",
   "execution_count": 2,
   "metadata": {},
   "outputs": [],
   "source": [
    "img = cv2.imread('sample.jpg')"
   ]
  },
  {
   "cell_type": "code",
   "execution_count": 3,
   "metadata": {},
   "outputs": [],
   "source": [
    "def get_black_boundaries(img, expected_width=16):\n",
    "    '''\n",
    "    want a grayscale image, (h, w) format\n",
    "    '''\n",
    "    img = cv2.cvtColor(img, cv2.COLOR_BGR2GRAY)\n",
    "    blur = cv2.GaussianBlur(img, (5, 5), 0)\n",
    "    _, bw = cv2.threshold(blur, 127, 255, cv2.THRESH_OTSU)\n",
    "    upper = np.mean(bw[0:5], axis=0)\n",
    "    \n",
    "    black_keys = []\n",
    "\n",
    "    last = -1\n",
    "\n",
    "    for i, x in enumerate(upper):\n",
    "        if x <= 255 / 5:\n",
    "            if last == -1:\n",
    "                last = i\n",
    "        else:\n",
    "            if last != -1:\n",
    "                black_keys.append([last, i - 1])\n",
    "                last = -1\n",
    "\n",
    "    for i, coor in enumerate(black_keys):\n",
    "        x, y = coor\n",
    "        offset = (expected_width - (y - x + 1)) // 2\n",
    "        coor[0] = x - offset\n",
    "        coor[1] = y + (expected_width - (y - x + 1) - offset)\n",
    "    \n",
    "    return np.array(black_keys)\n"
   ]
  },
  {
   "cell_type": "code",
   "execution_count": 14,
   "metadata": {},
   "outputs": [
    {
     "name": "stdout",
     "output_type": "stream",
     "text": [
      "[[255 255 255 ... 255 255 255]\n",
      " [255 255 255 ... 255 255 255]\n",
      " [255 255 255 ... 255 255 255]\n",
      " [255 255 255 ... 255 255 255]\n",
      " [255 255 255 ... 255 255 255]]\n"
     ]
    },
    {
     "data": {
      "image/png": "[encoded data removed]",
      "text/plain": [
       "<matplotlib.figure.Figure at 0x129be4048>"
      ]
     },
     "metadata": {},
     "output_type": "display_data"
    }
   ],
   "source": [
    "_img = cv2.cvtColor(img, cv2.COLOR_BGR2GRAY)\n",
    "blur = cv2.GaussianBlur(_img, (5, 5), 0)\n",
    "_, bw = cv2.threshold(blur, 127, 255, cv2.THRESH_OTSU)\n",
    "_bw = bw[0:5]\n",
    "\n",
    "import matplotlib.pyplot as plt\n",
    "\n",
    "print(_bw)\n",
    "plt.figure(figsize=[20, 40])\n",
    "plt.imshow(cv2.cvtColor(_bw, cv2.COLOR_GRAY2RGB))\n",
    "cv2.imwrite('test.jpg', _bw)\n",
    "plt.show()"
   ]
  },
  {
   "cell_type": "code",
   "execution_count": null,
   "metadata": {},
   "outputs": [],
   "source": []
  }
 ],
 "metadata": {
  "kernelspec": {
   "display_name": "Python 3",
   "language": "python",
   "name": "python3"
  },
  "language_info": {
   "codemirror_mode": {
    "name": "ipython",
    "version": 3
   },
   "file_extension": ".py",
   "mimetype": "text/x-python",
   "name": "python",
   "nbconvert_exporter": "python",
   "pygments_lexer": "ipython3",
   "version": "3.6.4"
  }
 },
 "nbformat": 4,
 "nbformat_minor": 2
}
