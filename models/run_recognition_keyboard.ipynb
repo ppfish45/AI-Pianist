{
 "cells": [
  {
   "cell_type": "code",
   "execution_count": 31,
   "metadata": {},
   "outputs": [],
   "source": [
    "import copy\n",
    "from keypress_recognition.models import keyboard_model\n",
    "from keypress_recognition import dataset\n",
    "import numpy as np\n",
    "import matplotlib.pyplot as plt"
   ]
  },
  {
   "cell_type": "code",
   "execution_count": 25,
   "metadata": {},
   "outputs": [
    {
     "name": "stdout",
     "output_type": "stream",
     "text": [
      "(88,) (88,)\n",
      "🏐🌚🏐🏐🌚🏐🌚🏐🏐🌚🏐🌚🏐🌚🏐🏐🌚🏐🌚🏐🏐🌚🏐🌚🏐🌚🏐🏐🌚🏐🌚🏐🏐🌚🏐🌚🏐🌚🏐🏐🌚🏐🌚🏐🏐🌚🏐🌚🏐🌚🏐🏐🌚🏐🌚🏐🏐🌚🏐🌚🏐🌚🏐🏐🌚🏐🌚🏐🏐🌚🏐🌚🏐🌚🏐🏐🌚🏐🌚🏐🏐🌚🏐🌚🏐🌚🏐🏐\n",
      "🔷🔶🔷🔶🔷🔷🔷🔷🔷🔷🔷🔷🔷🔷🔷🔷🔷🔷🔷🔷🔷🔷🔷🔷🔷🔷🔷🔷🔷🔷🔷🔷🔷🔷🔷🔷🔷🔷🔷🔷🔷🔷🔷🔷🔷🔷🔷🔷🔷🔷🔷🔷🔷🔷🔷🔷🔷🔷🔷🔷🔷🔷🔷🔷🔷🔷🔷🔷🔷🔷🔷🔷🔷🔷🔷🔷🔷🔷🔷🔷🔷🔷🔷🔷🔷🔷🔷🔷\n"
     ]
    }
   ],
   "source": [
    "black_indices = np.array([1, 4, 6, 9, 11, 13, 16, 18, 21, 23, 25, 28, 30, 33, 35, 37, 40, 42, 45, 47, 49, 52, 54, 57, 59, 61, 64, 66, 69, 71, 73, 76, 78, 81, 83, 85])\n",
    "def visualize_keys(notes):\n",
    "    \"\"\"\n",
    "    notes: size (88,)\n",
    "    \"\"\"\n",
    "    key_color = np.zeros(88, dtype=bool)\n",
    "    key_color[black_indices] = True\n",
    "    print(key_color.shape, notes.shape)\n",
    "    for i in key_color:\n",
    "        print(\"🌚\" if i else \"🏐\", end=\"\")\n",
    "    print()\n",
    "    for i in notes:\n",
    "        print(\"🔶\" if i else \"🔷\", end=\"\")\n",
    "    print()\n",
    "visualize_keys(np.array([0,1,0,1] + [0]*84))"
   ]
  },
  {
   "cell_type": "code",
   "execution_count": 26,
   "metadata": {},
   "outputs": [
    {
     "name": "stdout",
     "output_type": "stream",
     "text": [
      "Samples from X_train: \n"
     ]
    },
    {
     "ename": "NameError",
     "evalue": "name 'dataset' is not defined",
     "output_type": "error",
     "traceback": [
      "\u001b[1;31m---------------------------------------------------------------------------\u001b[0m",
      "\u001b[1;31mNameError\u001b[0m                                 Traceback (most recent call last)",
      "\u001b[1;32m<ipython-input-26-e574837aa68a>\u001b[0m in \u001b[0;36m<module>\u001b[1;34m\u001b[0m\n\u001b[0;32m      8\u001b[0m \u001b[1;33m\u001b[0m\u001b[0m\n\u001b[0;32m      9\u001b[0m     \u001b[1;32mfor\u001b[0m \u001b[0mi\u001b[0m \u001b[1;32min\u001b[0m \u001b[0mrange\u001b[0m\u001b[1;33m(\u001b[0m\u001b[1;36m0\u001b[0m\u001b[1;33m,\u001b[0m \u001b[1;36m2\u001b[0m\u001b[1;33m)\u001b[0m\u001b[1;33m:\u001b[0m\u001b[1;33m\u001b[0m\u001b[1;33m\u001b[0m\u001b[0m\n\u001b[1;32m---> 10\u001b[1;33m         \u001b[0mimg\u001b[0m\u001b[1;33m,\u001b[0m \u001b[0mnotes\u001b[0m \u001b[1;33m=\u001b[0m \u001b[0mdataset\u001b[0m\u001b[1;33m.\u001b[0m\u001b[0mget_sample\u001b[0m\u001b[1;33m(\u001b[0m\u001b[0m_type\u001b[0m\u001b[1;33m)\u001b[0m\u001b[1;33m\u001b[0m\u001b[1;33m\u001b[0m\u001b[0m\n\u001b[0m\u001b[0;32m     11\u001b[0m         \u001b[0maxarr\u001b[0m\u001b[1;33m[\u001b[0m\u001b[0mi\u001b[0m\u001b[1;33m]\u001b[0m\u001b[1;33m.\u001b[0m\u001b[0mimshow\u001b[0m\u001b[1;33m(\u001b[0m\u001b[0mimg\u001b[0m\u001b[1;33m)\u001b[0m\u001b[1;33m\u001b[0m\u001b[1;33m\u001b[0m\u001b[0m\n\u001b[0;32m     12\u001b[0m         \u001b[0mvisualize_keys\u001b[0m\u001b[1;33m(\u001b[0m\u001b[0mnotes\u001b[0m\u001b[1;33m)\u001b[0m\u001b[1;33m\u001b[0m\u001b[1;33m\u001b[0m\u001b[0m\n",
      "\u001b[1;31mNameError\u001b[0m: name 'dataset' is not defined"
     ]
    },
    {
     "data": {
      "image/png": "[encoded data removed]",
      "text/plain": [
       "<Figure size 1152x1152 with 2 Axes>"
      ]
     },
     "metadata": {
      "needs_background": "light"
     },
     "output_type": "display_data"
    }
   ],
   "source": [
    "# print several keyboard images with labels\n",
    "\n",
    "for _type in ['train', 'test', 'val']:\n",
    "\n",
    "    print(f'Samples from X_{_type}: ')\n",
    "\n",
    "    fig, axarr = plt.subplots(1, 2, figsize=[16, 16])\n",
    "\n",
    "    for i in range(0, 2):\n",
    "        img, notes = dataset.get_sample(_type, mode=2)\n",
    "        axarr[i].imshow(img)\n",
    "        visualize_keys(notes)\n",
    "\n",
    "    plt.show()"
   ]
  },
  {
   "cell_type": "code",
   "execution_count": null,
   "metadata": {},
   "outputs": [],
   "source": [
    "keyboard_model.load_model('keypress_recognition/best_keyboard_model.tar')"
   ]
  },
  {
   "cell_type": "code",
   "execution_count": null,
   "metadata": {},
   "outputs": [],
   "source": [
    "# load images into memory\n",
    "\n",
    "dataset.load_to_memory(spliter=['train', 'val'])"
   ]
  },
  {
   "cell_type": "code",
   "execution_count": null,
   "metadata": {},
   "outputs": [],
   "source": [
    "keyboard_model.train(batch_size=32, num_epochs=20,\n",
    "                     learning_rate=1e-3,\n",
    "                     dirs=[0],\n",
    "                     best_path='keypress_recognition/best_keyboard_model.tar',\n",
    "                     current_path='keypress_recognition/current_keyboard.tar')"
   ]
  },
  {
   "cell_type": "code",
   "execution_count": null,
   "metadata": {},
   "outputs": [],
   "source": [
    "X, _ = dataset.get_sample('train', mode=2)\n",
    "plt.imshow(X)\n",
    "plt.show()\n",
    "X = np.transpose(X, [2, 0, 1])[None]\n",
    "y = keyboard_model.evaluate(X)[0]\n",
    "visualize_keys(y)"
   ]
  }
 ],
 "metadata": {
  "kernelspec": {
   "display_name": "Python 3",
   "language": "python",
   "name": "python3"
  },
  "language_info": {
   "codemirror_mode": {
    "name": "ipython",
    "version": 3
   },
   "file_extension": ".py",
   "mimetype": "text/x-python",
   "name": "python",
   "nbconvert_exporter": "python",
   "pygments_lexer": "ipython3",
   "version": "3.7.3"
  }
 },
 "nbformat": 4,
 "nbformat_minor": 2
}
