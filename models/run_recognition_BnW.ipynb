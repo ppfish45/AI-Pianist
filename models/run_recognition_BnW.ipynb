{
 "cells": [
  {
   "cell_type": "code",
   "execution_count": 5,
   "metadata": {},
   "outputs": [],
   "source": [
    "import copy\n",
    "from keypress_recognition.models import black_key_model as bmodel, white_key_model as wmodel\n",
    "from keypress_recognition import dataset\n",
    "import numpy as np\n",
    "import matplotlib.pyplot as plt"
   ]
  },
  {
   "cell_type": "code",
   "execution_count": 4,
   "metadata": {},
   "outputs": [
    {
     "name": "stdout",
     "output_type": "stream",
     "text": [
      "Pressed\n"
     ]
    }
   ],
   "source": [
    "black_indices = np.array([1, 4, 6, 9, 11, 13, 16, 18, 21, 23, 25, 28, 30, 33, 35, 37, 40, 42, 45, 47, 49, 52, 54, 57, 59, 61, 64, 66, 69, 71, 73, 76, 78, 81, 83, 85])\n",
    "def visualize_keys(note):\n",
    "    \"\"\"\n",
    "    note: bool\n",
    "    return: str\n",
    "    \"\"\"\n",
    "    return (\"Pressed\" if note else \"Not Pressed\")\n",
    "visualize_keys(True)"
   ]
  },
  {
   "cell_type": "code",
   "execution_count": null,
   "metadata": {},
   "outputs": [],
   "source": [
    "# print several images with labels\n",
    "\n",
    "for _type in ['train', 'test', 'val']:\n",
    "\n",
    "    print(f'Samples from X_{_type}: ')\n",
    "\n",
    "    fig, axarr = plt.subplots(2, 2, figsize=[16, 16])\n",
    "\n",
    "    for i in range(0, 2):\n",
    "        imgw, imgb, notew, noteb = dataset.get_sample(_type, mode=0)\n",
    "        axarr[i, 0].imshow(imgw)\n",
    "        axarr[i, 0].set_title(visualize_keys(notew))\n",
    "        axarr[i, 1].imshow(imgb)\n",
    "        axarr[i, 1].set_title(visualize_keys(noteb))\n",
    "\n",
    "    plt.show()"
   ]
  },
  {
   "cell_type": "code",
   "execution_count": null,
   "metadata": {},
   "outputs": [],
   "source": [
    "bmodel.load_model('keypress_recognition/best_black_model.tar')\n",
    "wmodel.load_model('keypress_recognition/best_white_model.tar')"
   ]
  },
  {
   "cell_type": "code",
   "execution_count": null,
   "metadata": {},
   "outputs": [],
   "source": [
    "# load images into memory\n",
    "\n",
    "dataset.load_to_memory(spliter=['train', 'val'])"
   ]
  },
  {
   "cell_type": "code",
   "execution_count": null,
   "metadata": {},
   "outputs": [],
   "source": [
    "bmodel.train(batch_size=32, num_epochs=20,\n",
    "                     learning_rate=1e-3,\n",
    "                     dirs=[0],\n",
    "                     best_path='keypress_recognition/best_black_model.tar',\n",
    "                     current_path='keypress_recognition/current_black.tar')"
   ]
  },
  {
   "cell_type": "code",
   "execution_count": null,
   "metadata": {},
   "outputs": [],
   "source": [
    "wmodel.train(batch_size=32, num_epochs=20,\n",
    "                     learning_rate=1e-3,\n",
    "                     dirs=[0],\n",
    "                     best_path='keypress_recognition/best_white_model.tar',\n",
    "                     current_path='keypress_recognition/current_white.tar')"
   ]
  },
  {
   "cell_type": "code",
   "execution_count": null,
   "metadata": {},
   "outputs": [],
   "source": [
    "Xw, Xb, _, _ = dataset.get_sample('train', mode=0)\n",
    "fig, axarr = plt.subplots(1, 2, figsize=[16, 16])\n",
    "axarr[0].imshow(Xw)\n",
    "axarr[1].imshow(Xb)\n",
    "\n",
    "Xw = np.transpose(Xw, [2, 0, 1])[None]\n",
    "Xb = np.transpose(Xb, [2, 0, 1])[None]\n",
    "yw = wmodel.evaluate(Xw)[0]\n",
    "yb = bmodel.evaluate(Xb)[0]\n",
    "axarr[0].set_title(visualize_keys(yw))\n",
    "axarr[1].set_title(visualize_keys(yb))\n",
    "\n",
    "plt.show()"
   ]
  }
 ],
 "metadata": {
  "kernelspec": {
   "display_name": "Python 3",
   "language": "python",
   "name": "python3"
  },
  "language_info": {
   "codemirror_mode": {
    "name": "ipython",
    "version": 3
   },
   "file_extension": ".py",
   "mimetype": "text/x-python",
   "name": "python",
   "nbconvert_exporter": "python",
   "pygments_lexer": "ipython3",
   "version": "3.7.3"
  }
 },
 "nbformat": 4,
 "nbformat_minor": 2
}
