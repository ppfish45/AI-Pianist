{
 "cells": [
  {
   "cell_type": "code",
   "execution_count": 1,
   "metadata": {},
   "outputs": [],
   "source": [
    "import keypress_recognition.models as models\n",
    "from keypress_recognition import dataset_p as dataset\n",
    "import numpy as np\n",
    "import matplotlib.pyplot as plt\n",
    "import cv2\n",
    "%load_ext autoreload\n",
    "%autoreload 2"
   ]
  },
  {
   "cell_type": "code",
   "execution_count": 2,
   "metadata": {},
   "outputs": [],
   "source": [
    "concat = False\n",
    "delta = 3 if concat else 1\n",
    "channels = 3 * delta"
   ]
  },
  {
   "cell_type": "code",
   "execution_count": 3,
   "metadata": {},
   "outputs": [
    {
     "name": "stdout",
     "output_type": "stream",
     "text": [
      "Start seperating keyboard ...\n",
      "  White single width: 21px\n",
      "  Black single width: 20px\n",
      "  White bundle width: 37px\n",
      "  Black bundle width: 36px\n"
     ]
    },
    {
     "data": {
      "application/vnd.jupyter.widget-view+json": {
       "model_id": "",
       "version_major": 2,
       "version_minor": 0
      },
      "text/plain": [
       "IntProgress(value=0, max=14273)"
      ]
     },
     "metadata": {},
     "output_type": "display_data"
    },
    {
     "name": "stdout",
     "output_type": "stream",
     "text": [
      "In trainset: \n",
      "  # of pressed black key: 8755\n",
      "  # of unpressed black key: 43701\n"
     ]
    },
    {
     "data": {
      "application/vnd.jupyter.widget-view+json": {
       "model_id": "",
       "version_major": 2,
       "version_minor": 0
      },
      "text/plain": [
       "IntProgress(value=0, max=5000)"
      ]
     },
     "metadata": {},
     "output_type": "display_data"
    },
    {
     "name": "stdout",
     "output_type": "stream",
     "text": [
      "In testset: \n",
      "  # of pressed black key: 761\n",
      "  # of unpressed black key: 22514\n"
     ]
    },
    {
     "data": {
      "application/vnd.jupyter.widget-view+json": {
       "model_id": "",
       "version_major": 2,
       "version_minor": 0
      },
      "text/plain": [
       "IntProgress(value=0, max=2993)"
      ]
     },
     "metadata": {},
     "output_type": "display_data"
    },
    {
     "name": "stdout",
     "output_type": "stream",
     "text": [
      "In valset: \n",
      "  # of pressed black key: 817\n",
      "  # of unpressed black key: 10902\n"
     ]
    }
   ],
   "source": [
    "dataset.load_all_data(color=['black'], size=['single'], keypress=True, concatenate=concat, delta=delta)"
   ]
  },
  {
   "cell_type": "code",
   "execution_count": 4,
   "metadata": {},
   "outputs": [],
   "source": [
    "def visualize_keys(note):\n",
    "    \"\"\"\n",
    "    note: bool\n",
    "    return: str\n",
    "    \"\"\"\n",
    "    return (\"Y\" if note else \"N\")\n",
    "\n",
    "def display_concat_img(img, idx=None):\n",
    "    if concat:\n",
    "        if idx is None:\n",
    "            return img[:, :, :, 3:6]\n",
    "        else:\n",
    "            return img[idx, :, :, 3:6]\n",
    "    if idx is None:\n",
    "        return img\n",
    "    else:\n",
    "        return img[idx, :, :, :]\n"
   ]
  },
  {
   "cell_type": "code",
   "execution_count": 5,
   "metadata": {
    "scrolled": false
   },
   "outputs": [
    {
     "name": "stdout",
     "output_type": "stream",
     "text": [
      "Samples from X_train: \n"
     ]
    },
    {
     "data": {
      "application/vnd.jupyter.widget-view+json": {
       "model_id": "392f3496a7164033bcc77a67cc93df92",
       "version_major": 2,
       "version_minor": 0
      },
      "text/plain": [
       "IntProgress(value=0, max=87402)"
      ]
     },
     "metadata": {},
     "output_type": "display_data"
    },
    {
     "name": "stdout",
     "output_type": "stream",
     "text": [
      "(2, 106, 20, 3)\n",
      "1 0\n",
      "Samples from X_test: \n"
     ]
    },
    {
     "data": {
      "application/vnd.jupyter.widget-view+json": {
       "model_id": "3fadfe02a6394fddbca69356104cc914",
       "version_major": 2,
       "version_minor": 0
      },
      "text/plain": [
       "IntProgress(value=0, max=23275)"
      ]
     },
     "metadata": {},
     "output_type": "display_data"
    },
    {
     "name": "stdout",
     "output_type": "stream",
     "text": [
      "(2, 106, 20, 3)\n",
      "0 0\n",
      "Samples from X_val: \n"
     ]
    },
    {
     "data": {
      "application/vnd.jupyter.widget-view+json": {
       "model_id": "14ded27196c44c2988c7dd79187fd29b",
       "version_major": 2,
       "version_minor": 0
      },
      "text/plain": [
       "IntProgress(value=0, max=11719)"
      ]
     },
     "metadata": {},
     "output_type": "display_data"
    },
    {
     "name": "stdout",
     "output_type": "stream",
     "text": [
      "(2, 106, 20, 3)\n",
      "0 0\n"
     ]
    },
    {
     "data": {
      "image/png": "[encoded data removed]",
      "text/plain": [
       "<Figure size 288x432 with 6 Axes>"
      ]
     },
     "metadata": {},
     "output_type": "display_data"
    }
   ],
   "source": [
    "# print several images with labels\n",
    "fig, axarr = plt.subplots(3, 2, figsize=[4, 6])\n",
    "for ii, _type in enumerate(['train', 'test', 'val']):\n",
    "\n",
    "    print(f'Samples from X_{_type}: ')\n",
    "\n",
    "    for imgb, noteb, _ in dataset.data_batch(type=_type, size='single', color='black', batch_size=2, NCHW=False, need_velocity=False, concatenate=concat):\n",
    "        print(imgb.shape)\n",
    "        print(noteb[0], noteb[1])\n",
    "        axarr[ii,0].imshow(cv2.cvtColor(display_concat_img(imgb, 0), cv2.COLOR_BGR2RGB))\n",
    "        axarr[ii,0].set_title(visualize_keys(noteb[0]) + '\\n' + _type)\n",
    "        axarr[ii,0].axis('off')\n",
    "        axarr[ii,1].imshow(cv2.cvtColor(display_concat_img(imgb, 1), cv2.COLOR_BGR2RGB))\n",
    "        axarr[ii,1].set_title(visualize_keys(noteb[1]) + '\\n' + _type)\n",
    "        axarr[ii,1].axis('off')\n",
    "        break\n",
    "\n",
    "plt.show()"
   ]
  },
  {
   "cell_type": "code",
   "execution_count": 6,
   "metadata": {
    "scrolled": false
   },
   "outputs": [
    {
     "name": "stdout",
     "output_type": "stream",
     "text": [
      "Epoch 1/200\n"
     ]
    },
    {
     "data": {
      "application/vnd.jupyter.widget-view+json": {
       "model_id": "",
       "version_major": 2,
       "version_minor": 0
      },
      "text/plain": [
       "IntProgress(value=0, max=87402)"
      ]
     },
     "metadata": {},
     "output_type": "display_data"
    },
    {
     "name": "stdout",
     "output_type": "stream",
     "text": [
      "train Loss: 0.3570\n",
      "[[39464  2703]\n",
      " [ 4248 41009]]\n",
      "Precision: 0.91\n",
      "Recall   : 0.94\n",
      "Accuracy : 0.92\n"
     ]
    },
    {
     "data": {
      "application/vnd.jupyter.widget-view+json": {
       "model_id": "",
       "version_major": 2,
       "version_minor": 0
      },
      "text/plain": [
       "IntProgress(value=0, max=11719)"
      ]
     },
     "metadata": {},
     "output_type": "display_data"
    },
    {
     "name": "stdout",
     "output_type": "stream",
     "text": [
      "val Loss: 0.1530\n",
      "[[10304    27]\n",
      " [  623   790]]\n",
      "Precision: 0.56\n",
      "Recall   : 0.97\n",
      "Accuracy : 0.94\n",
      "The best model has been saved to keypress_recognition/best_black_model.tar ...\n",
      "Current mode has been saved to keypress_recognition/current_black.tar ...\n",
      "\n",
      "Epoch 2/200\n"
     ]
    },
    {
     "data": {
      "application/vnd.jupyter.widget-view+json": {
       "model_id": "",
       "version_major": 2,
       "version_minor": 0
      },
      "text/plain": [
       "IntProgress(value=0, max=87402)"
      ]
     },
     "metadata": {},
     "output_type": "display_data"
    },
    {
     "name": "stdout",
     "output_type": "stream",
     "text": [
      "train Loss: 0.3236\n",
      "[[39751  2986]\n",
      " [ 3961 40726]]\n",
      "Precision: 0.91\n",
      "Recall   : 0.93\n",
      "Accuracy : 0.92\n"
     ]
    },
    {
     "data": {
      "application/vnd.jupyter.widget-view+json": {
       "model_id": "",
       "version_major": 2,
       "version_minor": 0
      },
      "text/plain": [
       "IntProgress(value=0, max=11719)"
      ]
     },
     "metadata": {},
     "output_type": "display_data"
    },
    {
     "name": "stdout",
     "output_type": "stream",
     "text": [
      "val Loss: 0.2146\n",
      "[[9986    2]\n",
      " [ 941  815]]\n",
      "Precision: 0.46\n",
      "Recall   : 1.00\n",
      "Accuracy : 0.92\n",
      "Current mode has been saved to keypress_recognition/current_black.tar ...\n",
      "\n",
      "Epoch 3/200\n"
     ]
    },
    {
     "data": {
      "application/vnd.jupyter.widget-view+json": {
       "model_id": "",
       "version_major": 2,
       "version_minor": 0
      },
      "text/plain": [
       "IntProgress(value=0, max=87402)"
      ]
     },
     "metadata": {},
     "output_type": "display_data"
    },
    {
     "name": "stdout",
     "output_type": "stream",
     "text": [
      "train Loss: 0.3201\n",
      "[[39694  3178]\n",
      " [ 4018 40534]]\n",
      "Precision: 0.91\n",
      "Recall   : 0.93\n",
      "Accuracy : 0.92\n"
     ]
    },
    {
     "data": {
      "application/vnd.jupyter.widget-view+json": {
       "model_id": "",
       "version_major": 2,
       "version_minor": 0
      },
      "text/plain": [
       "IntProgress(value=0, max=11719)"
      ]
     },
     "metadata": {},
     "output_type": "display_data"
    },
    {
     "name": "stdout",
     "output_type": "stream",
     "text": [
      "val Loss: 0.0643\n",
      "[[10904   279]\n",
      " [   23   538]]\n",
      "Precision: 0.96\n",
      "Recall   : 0.66\n",
      "Accuracy : 0.97\n",
      "The best model has been saved to keypress_recognition/best_black_model.tar ...\n",
      "Current mode has been saved to keypress_recognition/current_black.tar ...\n",
      "\n",
      "Epoch 4/200\n"
     ]
    },
    {
     "data": {
      "application/vnd.jupyter.widget-view+json": {
       "model_id": "",
       "version_major": 2,
       "version_minor": 0
      },
      "text/plain": [
       "IntProgress(value=0, max=87402)"
      ]
     },
     "metadata": {},
     "output_type": "display_data"
    },
    {
     "name": "stdout",
     "output_type": "stream",
     "text": [
      "train Loss: 0.3140\n",
      "[[40008  2985]\n",
      " [ 3704 40727]]\n",
      "Precision: 0.92\n",
      "Recall   : 0.93\n",
      "Accuracy : 0.92\n"
     ]
    },
    {
     "data": {
      "application/vnd.jupyter.widget-view+json": {
       "model_id": "",
       "version_major": 2,
       "version_minor": 0
      },
      "text/plain": [
       "IntProgress(value=0, max=11719)"
      ]
     },
     "metadata": {},
     "output_type": "display_data"
    },
    {
     "name": "stdout",
     "output_type": "stream",
     "text": [
      "val Loss: 0.0901\n",
      "[[10610    37]\n",
      " [  317   780]]\n",
      "Precision: 0.71\n",
      "Recall   : 0.95\n",
      "Accuracy : 0.97\n",
      "Current mode has been saved to keypress_recognition/current_black.tar ...\n",
      "\n",
      "Epoch 5/200\n"
     ]
    },
    {
     "data": {
      "application/vnd.jupyter.widget-view+json": {
       "model_id": "",
       "version_major": 2,
       "version_minor": 0
      },
      "text/plain": [
       "IntProgress(value=0, max=87402)"
      ]
     },
     "metadata": {},
     "output_type": "display_data"
    },
    {
     "name": "stdout",
     "output_type": "stream",
     "text": [
      "train Loss: 0.3152\n",
      "[[39890  3104]\n",
      " [ 3822 40608]]\n",
      "Precision: 0.91\n",
      "Recall   : 0.93\n",
      "Accuracy : 0.92\n"
     ]
    },
    {
     "data": {
      "application/vnd.jupyter.widget-view+json": {
       "model_id": "",
       "version_major": 2,
       "version_minor": 0
      },
      "text/plain": [
       "IntProgress(value=0, max=11719)"
      ]
     },
     "metadata": {},
     "output_type": "display_data"
    },
    {
     "name": "stdout",
     "output_type": "stream",
     "text": [
      "val Loss: 0.0661\n",
      "[[10807   230]\n",
      " [  120   587]]\n",
      "Precision: 0.83\n",
      "Recall   : 0.72\n",
      "Accuracy : 0.97\n",
      "Current mode has been saved to keypress_recognition/current_black.tar ...\n",
      "\n",
      "Epoch 6/200\n"
     ]
    },
    {
     "data": {
      "application/vnd.jupyter.widget-view+json": {
       "model_id": "",
       "version_major": 2,
       "version_minor": 0
      },
      "text/plain": [
       "IntProgress(value=0, max=87402)"
      ]
     },
     "metadata": {},
     "output_type": "display_data"
    },
    {
     "name": "stdout",
     "output_type": "stream",
     "text": [
      "train Loss: 0.3150\n",
      "[[39698  3114]\n",
      " [ 4014 40598]]\n",
      "Precision: 0.91\n",
      "Recall   : 0.93\n",
      "Accuracy : 0.92\n"
     ]
    },
    {
     "data": {
      "application/vnd.jupyter.widget-view+json": {
       "model_id": "",
       "version_major": 2,
       "version_minor": 0
      },
      "text/plain": [
       "IntProgress(value=0, max=11719)"
      ]
     },
     "metadata": {},
     "output_type": "display_data"
    },
    {
     "name": "stdout",
     "output_type": "stream",
     "text": [
      "val Loss: 0.0667\n",
      "[[10845   243]\n",
      " [   82   574]]\n",
      "Precision: 0.88\n",
      "Recall   : 0.70\n",
      "Accuracy : 0.97\n",
      "Current mode has been saved to keypress_recognition/current_black.tar ...\n",
      "\n",
      "Epoch 7/200\n"
     ]
    },
    {
     "data": {
      "application/vnd.jupyter.widget-view+json": {
       "model_id": "",
       "version_major": 2,
       "version_minor": 0
      },
      "text/plain": [
       "IntProgress(value=0, max=87402)"
      ]
     },
     "metadata": {},
     "output_type": "display_data"
    },
    {
     "name": "stdout",
     "output_type": "stream",
     "text": [
      "train Loss: 0.3129\n",
      "[[39962  3164]\n",
      " [ 3750 40548]]\n",
      "Precision: 0.92\n",
      "Recall   : 0.93\n",
      "Accuracy : 0.92\n"
     ]
    },
    {
     "data": {
      "application/vnd.jupyter.widget-view+json": {
       "model_id": "",
       "version_major": 2,
       "version_minor": 0
      },
      "text/plain": [
       "IntProgress(value=0, max=11719)"
      ]
     },
     "metadata": {},
     "output_type": "display_data"
    },
    {
     "name": "stdout",
     "output_type": "stream",
     "text": [
      "val Loss: 0.0769\n",
      "[[10613    27]\n",
      " [  314   790]]\n",
      "Precision: 0.72\n",
      "Recall   : 0.97\n",
      "Accuracy : 0.97\n",
      "Current mode has been saved to keypress_recognition/current_black.tar ...\n",
      "\n",
      "Epoch 8/200\n"
     ]
    },
    {
     "data": {
      "application/vnd.jupyter.widget-view+json": {
       "model_id": "",
       "version_major": 2,
       "version_minor": 0
      },
      "text/plain": [
       "IntProgress(value=0, max=87402)"
      ]
     },
     "metadata": {},
     "output_type": "display_data"
    },
    {
     "name": "stdout",
     "output_type": "stream",
     "text": [
      "train Loss: 0.3109\n",
      "[[40054  2837]\n",
      " [ 3658 40875]]\n",
      "Precision: 0.92\n",
      "Recall   : 0.94\n",
      "Accuracy : 0.93\n"
     ]
    },
    {
     "data": {
      "application/vnd.jupyter.widget-view+json": {
       "model_id": "",
       "version_major": 2,
       "version_minor": 0
      },
      "text/plain": [
       "IntProgress(value=0, max=11719)"
      ]
     },
     "metadata": {},
     "output_type": "display_data"
    },
    {
     "name": "stdout",
     "output_type": "stream",
     "text": [
      "val Loss: 0.1604\n",
      "[[10445    16]\n",
      " [  482   801]]\n",
      "Precision: 0.62\n",
      "Recall   : 0.98\n",
      "Accuracy : 0.96\n",
      "Current mode has been saved to keypress_recognition/current_black.tar ...\n",
      "\n",
      "Epoch 9/200\n"
     ]
    },
    {
     "data": {
      "application/vnd.jupyter.widget-view+json": {
       "model_id": "",
       "version_major": 2,
       "version_minor": 0
      },
      "text/plain": [
       "IntProgress(value=0, max=87402)"
      ]
     },
     "metadata": {},
     "output_type": "display_data"
    },
    {
     "name": "stdout",
     "output_type": "stream",
     "text": [
      "train Loss: 0.3111\n",
      "[[40101  2821]\n",
      " [ 3611 40891]]\n",
      "Precision: 0.92\n",
      "Recall   : 0.94\n",
      "Accuracy : 0.93\n"
     ]
    },
    {
     "data": {
      "application/vnd.jupyter.widget-view+json": {
       "model_id": "",
       "version_major": 2,
       "version_minor": 0
      },
      "text/plain": [
       "IntProgress(value=0, max=11719)"
      ]
     },
     "metadata": {},
     "output_type": "display_data"
    },
    {
     "name": "stdout",
     "output_type": "stream",
     "text": [
      "val Loss: 0.0564\n",
      "[[10737    55]\n",
      " [  190   762]]\n",
      "Precision: 0.80\n",
      "Recall   : 0.93\n",
      "Accuracy : 0.98\n",
      "The best model has been saved to keypress_recognition/best_black_model.tar ...\n",
      "Current mode has been saved to keypress_recognition/current_black.tar ...\n",
      "\n",
      "Epoch 10/200\n"
     ]
    },
    {
     "data": {
      "application/vnd.jupyter.widget-view+json": {
       "model_id": "",
       "version_major": 2,
       "version_minor": 0
      },
      "text/plain": [
       "IntProgress(value=0, max=87402)"
      ]
     },
     "metadata": {},
     "output_type": "display_data"
    },
    {
     "name": "stdout",
     "output_type": "stream",
     "text": [
      "train Loss: 0.3135\n",
      "[[40094  2815]\n",
      " [ 3618 40897]]\n",
      "Precision: 0.92\n",
      "Recall   : 0.94\n",
      "Accuracy : 0.93\n"
     ]
    },
    {
     "data": {
      "application/vnd.jupyter.widget-view+json": {
       "model_id": "",
       "version_major": 2,
       "version_minor": 0
      },
      "text/plain": [
       "IntProgress(value=0, max=11719)"
      ]
     },
     "metadata": {},
     "output_type": "display_data"
    },
    {
     "name": "stdout",
     "output_type": "stream",
     "text": [
      "val Loss: 0.0839\n",
      "[[10700   121]\n",
      " [  227   696]]\n",
      "Precision: 0.75\n",
      "Recall   : 0.85\n",
      "Accuracy : 0.97\n",
      "Current mode has been saved to keypress_recognition/current_black.tar ...\n",
      "\n",
      "Epoch 11/200\n"
     ]
    },
    {
     "data": {
      "application/vnd.jupyter.widget-view+json": {
       "model_id": "",
       "version_major": 2,
       "version_minor": 0
      },
      "text/plain": [
       "IntProgress(value=0, max=87402)"
      ]
     },
     "metadata": {},
     "output_type": "display_data"
    },
    {
     "name": "stdout",
     "output_type": "stream",
     "text": [
      "train Loss: 0.2941\n",
      "[[40594  2170]\n",
      " [ 3118 41542]]\n",
      "Precision: 0.93\n",
      "Recall   : 0.95\n",
      "Accuracy : 0.94\n"
     ]
    },
    {
     "data": {
      "application/vnd.jupyter.widget-view+json": {
       "model_id": "",
       "version_major": 2,
       "version_minor": 0
      },
      "text/plain": [
       "IntProgress(value=0, max=11719)"
      ]
     },
     "metadata": {},
     "output_type": "display_data"
    },
    {
     "name": "stdout",
     "output_type": "stream",
     "text": [
      "val Loss: 0.0924\n",
      "[[10596    38]\n",
      " [  331   779]]\n",
      "Precision: 0.70\n",
      "Recall   : 0.95\n",
      "Accuracy : 0.97\n",
      "Current mode has been saved to keypress_recognition/current_black.tar ...\n",
      "\n",
      "Epoch 12/200\n"
     ]
    },
    {
     "data": {
      "application/vnd.jupyter.widget-view+json": {
       "model_id": "",
       "version_major": 2,
       "version_minor": 0
      },
      "text/plain": [
       "IntProgress(value=0, max=87402)"
      ]
     },
     "metadata": {},
     "output_type": "display_data"
    },
    {
     "name": "stdout",
     "output_type": "stream",
     "text": [
      "train Loss: 0.2920\n",
      "[[40514  2157]\n",
      " [ 3198 41555]]\n",
      "Precision: 0.93\n",
      "Recall   : 0.95\n",
      "Accuracy : 0.94\n"
     ]
    },
    {
     "data": {
      "application/vnd.jupyter.widget-view+json": {
       "model_id": "",
       "version_major": 2,
       "version_minor": 0
      },
      "text/plain": [
       "IntProgress(value=0, max=11719)"
      ]
     },
     "metadata": {},
     "output_type": "display_data"
    },
    {
     "name": "stdout",
     "output_type": "stream",
     "text": [
      "val Loss: 0.0779\n",
      "[[10628    29]\n",
      " [  299   788]]\n",
      "Precision: 0.72\n",
      "Recall   : 0.96\n",
      "Accuracy : 0.97\n",
      "Current mode has been saved to keypress_recognition/current_black.tar ...\n",
      "\n",
      "Epoch 13/200\n"
     ]
    },
    {
     "data": {
      "application/vnd.jupyter.widget-view+json": {
       "model_id": "",
       "version_major": 2,
       "version_minor": 0
      },
      "text/plain": [
       "IntProgress(value=0, max=87402)"
      ]
     },
     "metadata": {},
     "output_type": "display_data"
    },
    {
     "name": "stdout",
     "output_type": "stream",
     "text": [
      "train Loss: 0.2910\n",
      "[[40537  2335]\n",
      " [ 3175 41377]]\n",
      "Precision: 0.93\n",
      "Recall   : 0.95\n",
      "Accuracy : 0.94\n"
     ]
    },
    {
     "data": {
      "application/vnd.jupyter.widget-view+json": {
       "model_id": "",
       "version_major": 2,
       "version_minor": 0
      },
      "text/plain": [
       "IntProgress(value=0, max=11719)"
      ]
     },
     "metadata": {},
     "output_type": "display_data"
    },
    {
     "name": "stdout",
     "output_type": "stream",
     "text": [
      "val Loss: 0.0690\n",
      "[[10640    30]\n",
      " [  287   787]]\n",
      "Precision: 0.73\n",
      "Recall   : 0.96\n",
      "Accuracy : 0.97\n",
      "Current mode has been saved to keypress_recognition/current_black.tar ...\n",
      "\n",
      "Epoch 14/200\n"
     ]
    },
    {
     "data": {
      "application/vnd.jupyter.widget-view+json": {
       "model_id": "",
       "version_major": 2,
       "version_minor": 0
      },
      "text/plain": [
       "IntProgress(value=0, max=87402)"
      ]
     },
     "metadata": {},
     "output_type": "display_data"
    },
    {
     "name": "stdout",
     "output_type": "stream",
     "text": [
      "train Loss: 0.2880\n",
      "[[40555  2311]\n",
      " [ 3157 41401]]\n",
      "Precision: 0.93\n",
      "Recall   : 0.95\n",
      "Accuracy : 0.94\n"
     ]
    },
    {
     "data": {
      "application/vnd.jupyter.widget-view+json": {
       "model_id": "",
       "version_major": 2,
       "version_minor": 0
      },
      "text/plain": [
       "IntProgress(value=0, max=11719)"
      ]
     },
     "metadata": {},
     "output_type": "display_data"
    },
    {
     "name": "stdout",
     "output_type": "stream",
     "text": [
      "val Loss: 0.1383\n",
      "[[10308     8]\n",
      " [  619   809]]\n",
      "Precision: 0.57\n",
      "Recall   : 0.99\n",
      "Accuracy : 0.95\n",
      "Current mode has been saved to keypress_recognition/current_black.tar ...\n",
      "\n",
      "Epoch 15/200\n"
     ]
    },
    {
     "data": {
      "application/vnd.jupyter.widget-view+json": {
       "model_id": "",
       "version_major": 2,
       "version_minor": 0
      },
      "text/plain": [
       "IntProgress(value=0, max=87402)"
      ]
     },
     "metadata": {},
     "output_type": "display_data"
    },
    {
     "name": "stdout",
     "output_type": "stream",
     "text": [
      "train Loss: 0.2892\n",
      "[[40570  2252]\n",
      " [ 3142 41460]]\n",
      "Precision: 0.93\n",
      "Recall   : 0.95\n",
      "Accuracy : 0.94\n"
     ]
    },
    {
     "data": {
      "application/vnd.jupyter.widget-view+json": {
       "model_id": "",
       "version_major": 2,
       "version_minor": 0
      },
      "text/plain": [
       "IntProgress(value=0, max=11719)"
      ]
     },
     "metadata": {},
     "output_type": "display_data"
    },
    {
     "name": "stdout",
     "output_type": "stream",
     "text": [
      "val Loss: 0.1380\n",
      "[[10384    15]\n",
      " [  543   802]]\n",
      "Precision: 0.60\n",
      "Recall   : 0.98\n",
      "Accuracy : 0.95\n",
      "Current mode has been saved to keypress_recognition/current_black.tar ...\n",
      "\n",
      "Epoch 16/200\n"
     ]
    },
    {
     "data": {
      "application/vnd.jupyter.widget-view+json": {
       "model_id": "",
       "version_major": 2,
       "version_minor": 0
      },
      "text/plain": [
       "IntProgress(value=0, max=87402)"
      ]
     },
     "metadata": {},
     "output_type": "display_data"
    },
    {
     "name": "stdout",
     "output_type": "stream",
     "text": [
      "train Loss: 0.2892\n",
      "[[40637  2188]\n",
      " [ 3075 41524]]\n",
      "Precision: 0.93\n",
      "Recall   : 0.95\n",
      "Accuracy : 0.94\n"
     ]
    },
    {
     "data": {
      "application/vnd.jupyter.widget-view+json": {
       "model_id": "",
       "version_major": 2,
       "version_minor": 0
      },
      "text/plain": [
       "IntProgress(value=0, max=11719)"
      ]
     },
     "metadata": {},
     "output_type": "display_data"
    },
    {
     "name": "stdout",
     "output_type": "stream",
     "text": [
      "val Loss: 0.0679\n",
      "[[10763   126]\n",
      " [  164   691]]\n",
      "Precision: 0.81\n",
      "Recall   : 0.85\n",
      "Accuracy : 0.98\n",
      "Current mode has been saved to keypress_recognition/current_black.tar ...\n",
      "\n",
      "Epoch 17/200\n"
     ]
    },
    {
     "data": {
      "application/vnd.jupyter.widget-view+json": {
       "model_id": "",
       "version_major": 2,
       "version_minor": 0
      },
      "text/plain": [
       "IntProgress(value=0, max=87402)"
      ]
     },
     "metadata": {},
     "output_type": "display_data"
    },
    {
     "name": "stdout",
     "output_type": "stream",
     "text": [
      "train Loss: 0.2894\n",
      "[[40498  2255]\n",
      " [ 3214 41457]]\n",
      "Precision: 0.93\n",
      "Recall   : 0.95\n",
      "Accuracy : 0.94\n"
     ]
    },
    {
     "data": {
      "application/vnd.jupyter.widget-view+json": {
       "model_id": "",
       "version_major": 2,
       "version_minor": 0
      },
      "text/plain": [
       "IntProgress(value=0, max=11719)"
      ]
     },
     "metadata": {},
     "output_type": "display_data"
    },
    {
     "name": "stdout",
     "output_type": "stream",
     "text": [
      "val Loss: 0.1473\n",
      "[[10375    14]\n",
      " [  552   803]]\n",
      "Precision: 0.59\n",
      "Recall   : 0.98\n",
      "Accuracy : 0.95\n",
      "Current mode has been saved to keypress_recognition/current_black.tar ...\n",
      "\n",
      "Epoch 18/200\n"
     ]
    },
    {
     "data": {
      "application/vnd.jupyter.widget-view+json": {
       "model_id": "",
       "version_major": 2,
       "version_minor": 0
      },
      "text/plain": [
       "IntProgress(value=0, max=87402)"
      ]
     },
     "metadata": {},
     "output_type": "display_data"
    },
    {
     "name": "stdout",
     "output_type": "stream",
     "text": [
      "train Loss: 0.2902\n",
      "[[40479  2287]\n",
      " [ 3233 41425]]\n",
      "Precision: 0.93\n",
      "Recall   : 0.95\n",
      "Accuracy : 0.94\n"
     ]
    },
    {
     "data": {
      "application/vnd.jupyter.widget-view+json": {
       "model_id": "",
       "version_major": 2,
       "version_minor": 0
      },
      "text/plain": [
       "IntProgress(value=0, max=11719)"
      ]
     },
     "metadata": {},
     "output_type": "display_data"
    },
    {
     "name": "stdout",
     "output_type": "stream",
     "text": [
      "val Loss: 0.0799\n",
      "[[10617    33]\n",
      " [  310   784]]\n",
      "Precision: 0.72\n",
      "Recall   : 0.96\n",
      "Accuracy : 0.97\n",
      "Current mode has been saved to keypress_recognition/current_black.tar ...\n",
      "\n",
      "Epoch 19/200\n"
     ]
    },
    {
     "data": {
      "application/vnd.jupyter.widget-view+json": {
       "model_id": "",
       "version_major": 2,
       "version_minor": 0
      },
      "text/plain": [
       "IntProgress(value=0, max=87402)"
      ]
     },
     "metadata": {},
     "output_type": "display_data"
    },
    {
     "name": "stdout",
     "output_type": "stream",
     "text": [
      "train Loss: 0.2847\n",
      "[[40664  2048]\n",
      " [ 3048 41664]]\n",
      "Precision: 0.93\n",
      "Recall   : 0.95\n",
      "Accuracy : 0.94\n"
     ]
    },
    {
     "data": {
      "application/vnd.jupyter.widget-view+json": {
       "model_id": "",
       "version_major": 2,
       "version_minor": 0
      },
      "text/plain": [
       "IntProgress(value=0, max=11719)"
      ]
     },
     "metadata": {},
     "output_type": "display_data"
    },
    {
     "name": "stdout",
     "output_type": "stream",
     "text": [
      "val Loss: 0.0566\n",
      "[[10864   237]\n",
      " [   63   580]]\n",
      "Precision: 0.90\n",
      "Recall   : 0.71\n",
      "Accuracy : 0.97\n",
      "Current mode has been saved to keypress_recognition/current_black.tar ...\n",
      "\n",
      "Epoch 20/200\n"
     ]
    },
    {
     "data": {
      "application/vnd.jupyter.widget-view+json": {
       "model_id": "",
       "version_major": 2,
       "version_minor": 0
      },
      "text/plain": [
       "IntProgress(value=0, max=87402)"
      ]
     },
     "metadata": {},
     "output_type": "display_data"
    },
    {
     "name": "stdout",
     "output_type": "stream",
     "text": [
      "train Loss: 0.2873\n",
      "[[40442  2123]\n",
      " [ 3270 41589]]\n",
      "Precision: 0.93\n",
      "Recall   : 0.95\n",
      "Accuracy : 0.94\n"
     ]
    },
    {
     "data": {
      "application/vnd.jupyter.widget-view+json": {
       "model_id": "",
       "version_major": 2,
       "version_minor": 0
      },
      "text/plain": [
       "IntProgress(value=0, max=11719)"
      ]
     },
     "metadata": {},
     "output_type": "display_data"
    },
    {
     "name": "stdout",
     "output_type": "stream",
     "text": [
      "val Loss: 0.0797\n",
      "[[10629    41]\n",
      " [  298   776]]\n",
      "Precision: 0.72\n",
      "Recall   : 0.95\n",
      "Accuracy : 0.97\n",
      "Current mode has been saved to keypress_recognition/current_black.tar ...\n",
      "\n",
      "Epoch 21/200\n"
     ]
    },
    {
     "data": {
      "application/vnd.jupyter.widget-view+json": {
       "model_id": "",
       "version_major": 2,
       "version_minor": 0
      },
      "text/plain": [
       "IntProgress(value=0, max=87402)"
      ]
     },
     "metadata": {},
     "output_type": "display_data"
    },
    {
     "name": "stdout",
     "output_type": "stream",
     "text": [
      "train Loss: 0.2736\n",
      "[[40888  1906]\n",
      " [ 2824 41806]]\n",
      "Precision: 0.94\n",
      "Recall   : 0.96\n",
      "Accuracy : 0.95\n"
     ]
    },
    {
     "data": {
      "application/vnd.jupyter.widget-view+json": {
       "model_id": "",
       "version_major": 2,
       "version_minor": 0
      },
      "text/plain": [
       "IntProgress(value=0, max=11719)"
      ]
     },
     "metadata": {},
     "output_type": "display_data"
    },
    {
     "name": "stdout",
     "output_type": "stream",
     "text": [
      "val Loss: 0.1068\n",
      "[[10483    10]\n",
      " [  444   807]]\n",
      "Precision: 0.65\n",
      "Recall   : 0.99\n",
      "Accuracy : 0.96\n",
      "Current mode has been saved to keypress_recognition/current_black.tar ...\n",
      "\n",
      "Epoch 22/200\n"
     ]
    },
    {
     "data": {
      "application/vnd.jupyter.widget-view+json": {
       "model_id": "",
       "version_major": 2,
       "version_minor": 0
      },
      "text/plain": [
       "IntProgress(value=0, max=87402)"
      ]
     },
     "metadata": {},
     "output_type": "display_data"
    },
    {
     "name": "stdout",
     "output_type": "stream",
     "text": [
      "train Loss: 0.2706\n",
      "[[40951  1814]\n",
      " [ 2761 41898]]\n",
      "Precision: 0.94\n",
      "Recall   : 0.96\n",
      "Accuracy : 0.95\n"
     ]
    },
    {
     "data": {
      "application/vnd.jupyter.widget-view+json": {
       "model_id": "",
       "version_major": 2,
       "version_minor": 0
      },
      "text/plain": [
       "IntProgress(value=0, max=11719)"
      ]
     },
     "metadata": {},
     "output_type": "display_data"
    },
    {
     "name": "stdout",
     "output_type": "stream",
     "text": [
      "val Loss: 0.0877\n",
      "[[10553    28]\n",
      " [  374   789]]\n",
      "Precision: 0.68\n",
      "Recall   : 0.97\n",
      "Accuracy : 0.97\n",
      "Current mode has been saved to keypress_recognition/current_black.tar ...\n",
      "\n",
      "Epoch 23/200\n"
     ]
    },
    {
     "data": {
      "application/vnd.jupyter.widget-view+json": {
       "model_id": "",
       "version_major": 2,
       "version_minor": 0
      },
      "text/plain": [
       "IntProgress(value=0, max=87402)"
      ]
     },
     "metadata": {},
     "output_type": "display_data"
    },
    {
     "name": "stdout",
     "output_type": "stream",
     "text": [
      "train Loss: 0.2714\n",
      "[[40775  1988]\n",
      " [ 2937 41724]]\n",
      "Precision: 0.93\n",
      "Recall   : 0.95\n",
      "Accuracy : 0.94\n"
     ]
    },
    {
     "data": {
      "application/vnd.jupyter.widget-view+json": {
       "model_id": "",
       "version_major": 2,
       "version_minor": 0
      },
      "text/plain": [
       "IntProgress(value=0, max=11719)"
      ]
     },
     "metadata": {},
     "output_type": "display_data"
    },
    {
     "name": "stdout",
     "output_type": "stream",
     "text": [
      "val Loss: 0.1506\n",
      "[[10284    10]\n",
      " [  643   807]]\n",
      "Precision: 0.56\n",
      "Recall   : 0.99\n",
      "Accuracy : 0.94\n",
      "Current mode has been saved to keypress_recognition/current_black.tar ...\n",
      "\n",
      "Epoch 24/200\n"
     ]
    },
    {
     "data": {
      "application/vnd.jupyter.widget-view+json": {
       "model_id": "",
       "version_major": 2,
       "version_minor": 0
      },
      "text/plain": [
       "IntProgress(value=0, max=87402)"
      ]
     },
     "metadata": {},
     "output_type": "display_data"
    },
    {
     "name": "stdout",
     "output_type": "stream",
     "text": [
      "train Loss: 0.2717\n",
      "[[40859  1981]\n",
      " [ 2853 41731]]\n",
      "Precision: 0.94\n",
      "Recall   : 0.95\n",
      "Accuracy : 0.94\n"
     ]
    },
    {
     "data": {
      "application/vnd.jupyter.widget-view+json": {
       "model_id": "",
       "version_major": 2,
       "version_minor": 0
      },
      "text/plain": [
       "IntProgress(value=0, max=11719)"
      ]
     },
     "metadata": {},
     "output_type": "display_data"
    },
    {
     "name": "stdout",
     "output_type": "stream",
     "text": [
      "val Loss: 0.1818\n",
      "[[10229     5]\n",
      " [  698   812]]\n",
      "Precision: 0.54\n",
      "Recall   : 0.99\n",
      "Accuracy : 0.94\n",
      "Current mode has been saved to keypress_recognition/current_black.tar ...\n",
      "\n",
      "Epoch 25/200\n"
     ]
    },
    {
     "data": {
      "application/vnd.jupyter.widget-view+json": {
       "model_id": "",
       "version_major": 2,
       "version_minor": 0
      },
      "text/plain": [
       "IntProgress(value=0, max=87402)"
      ]
     },
     "metadata": {},
     "output_type": "display_data"
    },
    {
     "name": "stdout",
     "output_type": "stream",
     "text": [
      "train Loss: 0.2710\n",
      "[[40839  2027]\n",
      " [ 2873 41685]]\n",
      "Precision: 0.94\n",
      "Recall   : 0.95\n",
      "Accuracy : 0.94\n"
     ]
    },
    {
     "data": {
      "application/vnd.jupyter.widget-view+json": {
       "model_id": "",
       "version_major": 2,
       "version_minor": 0
      },
      "text/plain": [
       "IntProgress(value=0, max=11719)"
      ]
     },
     "metadata": {},
     "output_type": "display_data"
    },
    {
     "name": "stdout",
     "output_type": "stream",
     "text": [
      "val Loss: 0.1323\n",
      "[[10482    14]\n",
      " [  445   803]]\n",
      "Precision: 0.64\n",
      "Recall   : 0.98\n",
      "Accuracy : 0.96\n",
      "Current mode has been saved to keypress_recognition/current_black.tar ...\n",
      "\n",
      "Epoch 26/200\n"
     ]
    },
    {
     "data": {
      "application/vnd.jupyter.widget-view+json": {
       "model_id": "",
       "version_major": 2,
       "version_minor": 0
      },
      "text/plain": [
       "IntProgress(value=0, max=87402)"
      ]
     },
     "metadata": {},
     "output_type": "display_data"
    },
    {
     "name": "stdout",
     "output_type": "stream",
     "text": [
      "train Loss: 0.2719\n",
      "[[40876  1926]\n",
      " [ 2836 41786]]\n",
      "Precision: 0.94\n",
      "Recall   : 0.96\n",
      "Accuracy : 0.95\n"
     ]
    },
    {
     "data": {
      "application/vnd.jupyter.widget-view+json": {
       "model_id": "",
       "version_major": 2,
       "version_minor": 0
      },
      "text/plain": [
       "IntProgress(value=0, max=11719)"
      ]
     },
     "metadata": {},
     "output_type": "display_data"
    },
    {
     "name": "stdout",
     "output_type": "stream",
     "text": [
      "val Loss: 0.1100\n",
      "[[10418    12]\n",
      " [  509   805]]\n",
      "Precision: 0.61\n",
      "Recall   : 0.99\n",
      "Accuracy : 0.96\n",
      "Current mode has been saved to keypress_recognition/current_black.tar ...\n",
      "\n",
      "Epoch 27/200\n"
     ]
    },
    {
     "data": {
      "application/vnd.jupyter.widget-view+json": {
       "model_id": "",
       "version_major": 2,
       "version_minor": 0
      },
      "text/plain": [
       "IntProgress(value=0, max=87402)"
      ]
     },
     "metadata": {},
     "output_type": "display_data"
    },
    {
     "name": "stdout",
     "output_type": "stream",
     "text": [
      "train Loss: 0.2705\n",
      "[[40783  1965]\n",
      " [ 2929 41747]]\n",
      "Precision: 0.93\n",
      "Recall   : 0.96\n",
      "Accuracy : 0.94\n"
     ]
    },
    {
     "data": {
      "application/vnd.jupyter.widget-view+json": {
       "model_id": "",
       "version_major": 2,
       "version_minor": 0
      },
      "text/plain": [
       "IntProgress(value=0, max=11719)"
      ]
     },
     "metadata": {},
     "output_type": "display_data"
    },
    {
     "name": "stdout",
     "output_type": "stream",
     "text": [
      "val Loss: 0.1112\n",
      "[[10511    14]\n",
      " [  416   803]]\n",
      "Precision: 0.66\n",
      "Recall   : 0.98\n",
      "Accuracy : 0.96\n",
      "Current mode has been saved to keypress_recognition/current_black.tar ...\n",
      "\n",
      "Epoch 28/200\n"
     ]
    },
    {
     "data": {
      "application/vnd.jupyter.widget-view+json": {
       "model_id": "",
       "version_major": 2,
       "version_minor": 0
      },
      "text/plain": [
       "IntProgress(value=0, max=87402)"
      ]
     },
     "metadata": {},
     "output_type": "display_data"
    },
    {
     "name": "stdout",
     "output_type": "stream",
     "text": [
      "train Loss: 0.2700\n",
      "[[40879  2011]\n",
      " [ 2833 41701]]\n",
      "Precision: 0.94\n",
      "Recall   : 0.95\n",
      "Accuracy : 0.94\n"
     ]
    },
    {
     "data": {
      "application/vnd.jupyter.widget-view+json": {
       "model_id": "",
       "version_major": 2,
       "version_minor": 0
      },
      "text/plain": [
       "IntProgress(value=0, max=11719)"
      ]
     },
     "metadata": {},
     "output_type": "display_data"
    },
    {
     "name": "stdout",
     "output_type": "stream",
     "text": [
      "val Loss: 0.0806\n",
      "[[10606    28]\n",
      " [  321   789]]\n",
      "Precision: 0.71\n",
      "Recall   : 0.97\n",
      "Accuracy : 0.97\n",
      "Current mode has been saved to keypress_recognition/current_black.tar ...\n",
      "\n",
      "Epoch 29/200\n"
     ]
    },
    {
     "data": {
      "application/vnd.jupyter.widget-view+json": {
       "model_id": "",
       "version_major": 2,
       "version_minor": 0
      },
      "text/plain": [
       "IntProgress(value=0, max=87402)"
      ]
     },
     "metadata": {},
     "output_type": "display_data"
    },
    {
     "name": "stdout",
     "output_type": "stream",
     "text": [
      "train Loss: 0.2700\n",
      "[[40812  1948]\n",
      " [ 2900 41764]]\n",
      "Precision: 0.94\n",
      "Recall   : 0.96\n",
      "Accuracy : 0.94\n"
     ]
    },
    {
     "data": {
      "application/vnd.jupyter.widget-view+json": {
       "model_id": "",
       "version_major": 2,
       "version_minor": 0
      },
      "text/plain": [
       "IntProgress(value=0, max=11719)"
      ]
     },
     "metadata": {},
     "output_type": "display_data"
    },
    {
     "name": "stdout",
     "output_type": "stream",
     "text": [
      "val Loss: 0.0807\n",
      "[[10616    27]\n",
      " [  311   790]]\n",
      "Precision: 0.72\n",
      "Recall   : 0.97\n",
      "Accuracy : 0.97\n",
      "Current mode has been saved to keypress_recognition/current_black.tar ...\n",
      "\n",
      "Epoch 30/200\n"
     ]
    },
    {
     "data": {
      "application/vnd.jupyter.widget-view+json": {
       "model_id": "",
       "version_major": 2,
       "version_minor": 0
      },
      "text/plain": [
       "IntProgress(value=0, max=87402)"
      ]
     },
     "metadata": {},
     "output_type": "display_data"
    },
    {
     "name": "stdout",
     "output_type": "stream",
     "text": [
      "train Loss: 0.2688\n",
      "[[40818  2074]\n",
      " [ 2894 41638]]\n",
      "Precision: 0.94\n",
      "Recall   : 0.95\n",
      "Accuracy : 0.94\n"
     ]
    },
    {
     "data": {
      "application/vnd.jupyter.widget-view+json": {
       "model_id": "",
       "version_major": 2,
       "version_minor": 0
      },
      "text/plain": [
       "IntProgress(value=0, max=11719)"
      ]
     },
     "metadata": {},
     "output_type": "display_data"
    },
    {
     "name": "stdout",
     "output_type": "stream",
     "text": [
      "val Loss: 0.0776\n",
      "[[10637    21]\n",
      " [  290   796]]\n",
      "Precision: 0.73\n",
      "Recall   : 0.97\n",
      "Accuracy : 0.97\n",
      "Current mode has been saved to keypress_recognition/current_black.tar ...\n",
      "\n",
      "Epoch 31/200\n"
     ]
    },
    {
     "data": {
      "application/vnd.jupyter.widget-view+json": {
       "model_id": "",
       "version_major": 2,
       "version_minor": 0
      },
      "text/plain": [
       "IntProgress(value=0, max=87402)"
      ]
     },
     "metadata": {},
     "output_type": "display_data"
    },
    {
     "name": "stdout",
     "output_type": "stream",
     "text": [
      "train Loss: 0.2583\n",
      "[[41123  1681]\n",
      " [ 2589 42031]]\n",
      "Precision: 0.94\n",
      "Recall   : 0.96\n",
      "Accuracy : 0.95\n"
     ]
    },
    {
     "data": {
      "application/vnd.jupyter.widget-view+json": {
       "model_id": "",
       "version_major": 2,
       "version_minor": 0
      },
      "text/plain": [
       "IntProgress(value=0, max=11719)"
      ]
     },
     "metadata": {},
     "output_type": "display_data"
    },
    {
     "name": "stdout",
     "output_type": "stream",
     "text": [
      "val Loss: 0.0948\n",
      "[[10561    18]\n",
      " [  366   799]]\n",
      "Precision: 0.69\n",
      "Recall   : 0.98\n",
      "Accuracy : 0.97\n",
      "Current mode has been saved to keypress_recognition/current_black.tar ...\n",
      "\n",
      "Epoch 32/200\n"
     ]
    },
    {
     "data": {
      "application/vnd.jupyter.widget-view+json": {
       "model_id": "",
       "version_major": 2,
       "version_minor": 0
      },
      "text/plain": [
       "IntProgress(value=0, max=87402)"
      ]
     },
     "metadata": {},
     "output_type": "display_data"
    },
    {
     "name": "stdout",
     "output_type": "stream",
     "text": [
      "train Loss: 0.2584\n",
      "[[41095  1721]\n",
      " [ 2617 41991]]\n",
      "Precision: 0.94\n",
      "Recall   : 0.96\n",
      "Accuracy : 0.95\n"
     ]
    },
    {
     "data": {
      "application/vnd.jupyter.widget-view+json": {
       "model_id": "",
       "version_major": 2,
       "version_minor": 0
      },
      "text/plain": [
       "IntProgress(value=0, max=11719)"
      ]
     },
     "metadata": {},
     "output_type": "display_data"
    },
    {
     "name": "stdout",
     "output_type": "stream",
     "text": [
      "val Loss: 0.0778\n",
      "[[10589    16]\n",
      " [  338   801]]\n",
      "Precision: 0.70\n",
      "Recall   : 0.98\n",
      "Accuracy : 0.97\n",
      "Current mode has been saved to keypress_recognition/current_black.tar ...\n",
      "\n",
      "Epoch 33/200\n"
     ]
    },
    {
     "data": {
      "application/vnd.jupyter.widget-view+json": {
       "model_id": "",
       "version_major": 2,
       "version_minor": 0
      },
      "text/plain": [
       "IntProgress(value=0, max=87402)"
      ]
     },
     "metadata": {},
     "output_type": "display_data"
    },
    {
     "name": "stdout",
     "output_type": "stream",
     "text": [
      "train Loss: 0.2600\n",
      "[[41052  1648]\n",
      " [ 2660 42064]]\n",
      "Precision: 0.94\n",
      "Recall   : 0.96\n",
      "Accuracy : 0.95\n"
     ]
    },
    {
     "data": {
      "application/vnd.jupyter.widget-view+json": {
       "model_id": "",
       "version_major": 2,
       "version_minor": 0
      },
      "text/plain": [
       "IntProgress(value=0, max=11719)"
      ]
     },
     "metadata": {},
     "output_type": "display_data"
    },
    {
     "name": "stdout",
     "output_type": "stream",
     "text": [
      "val Loss: 0.0791\n",
      "[[10619    25]\n",
      " [  308   792]]\n",
      "Precision: 0.72\n",
      "Recall   : 0.97\n",
      "Accuracy : 0.97\n",
      "Current mode has been saved to keypress_recognition/current_black.tar ...\n",
      "\n",
      "Epoch 34/200\n"
     ]
    },
    {
     "data": {
      "application/vnd.jupyter.widget-view+json": {
       "model_id": "",
       "version_major": 2,
       "version_minor": 0
      },
      "text/plain": [
       "IntProgress(value=0, max=87402)"
      ]
     },
     "metadata": {},
     "output_type": "display_data"
    },
    {
     "name": "stdout",
     "output_type": "stream",
     "text": [
      "train Loss: 0.2587\n",
      "[[41083  1672]\n",
      " [ 2629 42040]]\n",
      "Precision: 0.94\n",
      "Recall   : 0.96\n",
      "Accuracy : 0.95\n"
     ]
    },
    {
     "data": {
      "application/vnd.jupyter.widget-view+json": {
       "model_id": "",
       "version_major": 2,
       "version_minor": 0
      },
      "text/plain": [
       "IntProgress(value=0, max=11719)"
      ]
     },
     "metadata": {},
     "output_type": "display_data"
    },
    {
     "name": "stdout",
     "output_type": "stream",
     "text": [
      "val Loss: 0.0715\n",
      "[[10678    32]\n",
      " [  249   785]]\n",
      "Precision: 0.76\n",
      "Recall   : 0.96\n",
      "Accuracy : 0.98\n",
      "Current mode has been saved to keypress_recognition/current_black.tar ...\n",
      "\n",
      "Epoch 35/200\n"
     ]
    },
    {
     "data": {
      "application/vnd.jupyter.widget-view+json": {
       "model_id": "",
       "version_major": 2,
       "version_minor": 0
      },
      "text/plain": [
       "IntProgress(value=0, max=87402)"
      ]
     },
     "metadata": {},
     "output_type": "display_data"
    },
    {
     "name": "stdout",
     "output_type": "stream",
     "text": [
      "train Loss: 0.2578\n",
      "[[41128  1667]\n",
      " [ 2584 42045]]\n",
      "Precision: 0.94\n",
      "Recall   : 0.96\n",
      "Accuracy : 0.95\n"
     ]
    },
    {
     "data": {
      "application/vnd.jupyter.widget-view+json": {
       "model_id": "",
       "version_major": 2,
       "version_minor": 0
      },
      "text/plain": [
       "IntProgress(value=0, max=11719)"
      ]
     },
     "metadata": {},
     "output_type": "display_data"
    },
    {
     "name": "stdout",
     "output_type": "stream",
     "text": [
      "val Loss: 0.0869\n",
      "[[10601    25]\n",
      " [  326   792]]\n",
      "Precision: 0.71\n",
      "Recall   : 0.97\n",
      "Accuracy : 0.97\n",
      "Current mode has been saved to keypress_recognition/current_black.tar ...\n",
      "\n",
      "Epoch 36/200\n"
     ]
    },
    {
     "data": {
      "application/vnd.jupyter.widget-view+json": {
       "model_id": "",
       "version_major": 2,
       "version_minor": 0
      },
      "text/plain": [
       "IntProgress(value=0, max=87402)"
      ]
     },
     "metadata": {},
     "output_type": "display_data"
    },
    {
     "name": "stdout",
     "output_type": "stream",
     "text": [
      "train Loss: 0.2569\n",
      "[[41124  1684]\n",
      " [ 2588 42028]]\n",
      "Precision: 0.94\n",
      "Recall   : 0.96\n",
      "Accuracy : 0.95\n"
     ]
    },
    {
     "data": {
      "application/vnd.jupyter.widget-view+json": {
       "model_id": "",
       "version_major": 2,
       "version_minor": 0
      },
      "text/plain": [
       "IntProgress(value=0, max=11719)"
      ]
     },
     "metadata": {},
     "output_type": "display_data"
    },
    {
     "name": "stdout",
     "output_type": "stream",
     "text": [
      "val Loss: 0.0785\n",
      "[[10611    21]\n",
      " [  316   796]]\n",
      "Precision: 0.72\n",
      "Recall   : 0.97\n",
      "Accuracy : 0.97\n",
      "Current mode has been saved to keypress_recognition/current_black.tar ...\n",
      "\n",
      "Epoch 37/200\n"
     ]
    },
    {
     "data": {
      "application/vnd.jupyter.widget-view+json": {
       "model_id": "",
       "version_major": 2,
       "version_minor": 0
      },
      "text/plain": [
       "IntProgress(value=0, max=87402)"
      ]
     },
     "metadata": {},
     "output_type": "display_data"
    },
    {
     "name": "stdout",
     "output_type": "stream",
     "text": [
      "train Loss: 0.2584\n",
      "[[41081  1743]\n",
      " [ 2631 41969]]\n",
      "Precision: 0.94\n",
      "Recall   : 0.96\n",
      "Accuracy : 0.95\n"
     ]
    },
    {
     "data": {
      "application/vnd.jupyter.widget-view+json": {
       "model_id": "",
       "version_major": 2,
       "version_minor": 0
      },
      "text/plain": [
       "IntProgress(value=0, max=11719)"
      ]
     },
     "metadata": {},
     "output_type": "display_data"
    },
    {
     "name": "stdout",
     "output_type": "stream",
     "text": [
      "val Loss: 0.0692\n",
      "[[10690    39]\n",
      " [  237   778]]\n",
      "Precision: 0.77\n",
      "Recall   : 0.95\n",
      "Accuracy : 0.98\n",
      "Current mode has been saved to keypress_recognition/current_black.tar ...\n",
      "\n",
      "Epoch 38/200\n"
     ]
    },
    {
     "data": {
      "application/vnd.jupyter.widget-view+json": {
       "model_id": "",
       "version_major": 2,
       "version_minor": 0
      },
      "text/plain": [
       "IntProgress(value=0, max=87402)"
      ]
     },
     "metadata": {},
     "output_type": "display_data"
    },
    {
     "name": "stdout",
     "output_type": "stream",
     "text": [
      "train Loss: 0.2564\n",
      "[[41082  1692]\n",
      " [ 2630 42020]]\n",
      "Precision: 0.94\n",
      "Recall   : 0.96\n",
      "Accuracy : 0.95\n"
     ]
    },
    {
     "data": {
      "application/vnd.jupyter.widget-view+json": {
       "model_id": "",
       "version_major": 2,
       "version_minor": 0
      },
      "text/plain": [
       "IntProgress(value=0, max=11719)"
      ]
     },
     "metadata": {},
     "output_type": "display_data"
    },
    {
     "name": "stdout",
     "output_type": "stream",
     "text": [
      "val Loss: 0.0812\n",
      "[[10610    20]\n",
      " [  317   797]]\n",
      "Precision: 0.72\n",
      "Recall   : 0.98\n",
      "Accuracy : 0.97\n",
      "Current mode has been saved to keypress_recognition/current_black.tar ...\n",
      "\n",
      "Epoch 39/200\n"
     ]
    },
    {
     "data": {
      "application/vnd.jupyter.widget-view+json": {
       "model_id": "",
       "version_major": 2,
       "version_minor": 0
      },
      "text/plain": [
       "IntProgress(value=0, max=87402)"
      ]
     },
     "metadata": {},
     "output_type": "display_data"
    },
    {
     "name": "stdout",
     "output_type": "stream",
     "text": [
      "train Loss: 0.2576\n",
      "[[41062  1699]\n",
      " [ 2650 42013]]\n",
      "Precision: 0.94\n",
      "Recall   : 0.96\n",
      "Accuracy : 0.95\n"
     ]
    },
    {
     "data": {
      "application/vnd.jupyter.widget-view+json": {
       "model_id": "",
       "version_major": 2,
       "version_minor": 0
      },
      "text/plain": [
       "IntProgress(value=0, max=11719)"
      ]
     },
     "metadata": {},
     "output_type": "display_data"
    },
    {
     "name": "stdout",
     "output_type": "stream",
     "text": [
      "val Loss: 0.1395\n",
      "[[10303     7]\n",
      " [  624   810]]\n",
      "Precision: 0.56\n",
      "Recall   : 0.99\n",
      "Accuracy : 0.95\n",
      "Current mode has been saved to keypress_recognition/current_black.tar ...\n",
      "\n",
      "Epoch 40/200\n"
     ]
    },
    {
     "data": {
      "application/vnd.jupyter.widget-view+json": {
       "model_id": "",
       "version_major": 2,
       "version_minor": 0
      },
      "text/plain": [
       "IntProgress(value=0, max=87402)"
      ]
     },
     "metadata": {},
     "output_type": "display_data"
    },
    {
     "name": "stdout",
     "output_type": "stream",
     "text": [
      "train Loss: 0.2564\n",
      "[[41054  1711]\n",
      " [ 2658 42001]]\n",
      "Precision: 0.94\n",
      "Recall   : 0.96\n",
      "Accuracy : 0.95\n"
     ]
    },
    {
     "data": {
      "application/vnd.jupyter.widget-view+json": {
       "model_id": "",
       "version_major": 2,
       "version_minor": 0
      },
      "text/plain": [
       "IntProgress(value=0, max=11719)"
      ]
     },
     "metadata": {},
     "output_type": "display_data"
    },
    {
     "name": "stdout",
     "output_type": "stream",
     "text": [
      "val Loss: 0.1204\n",
      "[[10382     9]\n",
      " [  545   808]]\n",
      "Precision: 0.60\n",
      "Recall   : 0.99\n",
      "Accuracy : 0.95\n",
      "Current mode has been saved to keypress_recognition/current_black.tar ...\n",
      "\n",
      "Epoch 41/200\n"
     ]
    },
    {
     "data": {
      "application/vnd.jupyter.widget-view+json": {
       "model_id": "",
       "version_major": 2,
       "version_minor": 0
      },
      "text/plain": [
       "IntProgress(value=0, max=87402)"
      ]
     },
     "metadata": {},
     "output_type": "display_data"
    },
    {
     "name": "stdout",
     "output_type": "stream",
     "text": [
      "train Loss: 0.2496\n",
      "[[41207  1549]\n",
      " [ 2505 42163]]\n",
      "Precision: 0.94\n",
      "Recall   : 0.96\n",
      "Accuracy : 0.95\n"
     ]
    },
    {
     "data": {
      "application/vnd.jupyter.widget-view+json": {
       "model_id": "",
       "version_major": 2,
       "version_minor": 0
      },
      "text/plain": [
       "IntProgress(value=0, max=11719)"
      ]
     },
     "metadata": {},
     "output_type": "display_data"
    },
    {
     "name": "stdout",
     "output_type": "stream",
     "text": [
      "val Loss: 0.0776\n",
      "[[10630    23]\n",
      " [  297   794]]\n",
      "Precision: 0.73\n",
      "Recall   : 0.97\n",
      "Accuracy : 0.97\n",
      "Current mode has been saved to keypress_recognition/current_black.tar ...\n",
      "\n",
      "Epoch 42/200\n"
     ]
    },
    {
     "data": {
      "application/vnd.jupyter.widget-view+json": {
       "model_id": "",
       "version_major": 2,
       "version_minor": 0
      },
      "text/plain": [
       "IntProgress(value=0, max=87402)"
      ]
     },
     "metadata": {},
     "output_type": "display_data"
    },
    {
     "name": "stdout",
     "output_type": "stream",
     "text": [
      "train Loss: 0.2492\n",
      "[[41257  1532]\n",
      " [ 2455 42180]]\n",
      "Precision: 0.94\n",
      "Recall   : 0.96\n",
      "Accuracy : 0.95\n"
     ]
    },
    {
     "data": {
      "application/vnd.jupyter.widget-view+json": {
       "model_id": "",
       "version_major": 2,
       "version_minor": 0
      },
      "text/plain": [
       "IntProgress(value=0, max=11719)"
      ]
     },
     "metadata": {},
     "output_type": "display_data"
    },
    {
     "name": "stdout",
     "output_type": "stream",
     "text": [
      "val Loss: 0.0830\n",
      "[[10617    16]\n",
      " [  310   801]]\n",
      "Precision: 0.72\n",
      "Recall   : 0.98\n",
      "Accuracy : 0.97\n",
      "Current mode has been saved to keypress_recognition/current_black.tar ...\n",
      "\n",
      "Epoch 43/200\n"
     ]
    },
    {
     "data": {
      "application/vnd.jupyter.widget-view+json": {
       "model_id": "",
       "version_major": 2,
       "version_minor": 0
      },
      "text/plain": [
       "IntProgress(value=0, max=87402)"
      ]
     },
     "metadata": {},
     "output_type": "display_data"
    },
    {
     "name": "stdout",
     "output_type": "stream",
     "text": [
      "train Loss: 0.2487\n",
      "[[41224  1594]\n",
      " [ 2488 42118]]\n",
      "Precision: 0.94\n",
      "Recall   : 0.96\n",
      "Accuracy : 0.95\n"
     ]
    },
    {
     "data": {
      "application/vnd.jupyter.widget-view+json": {
       "model_id": "",
       "version_major": 2,
       "version_minor": 0
      },
      "text/plain": [
       "IntProgress(value=0, max=11719)"
      ]
     },
     "metadata": {},
     "output_type": "display_data"
    },
    {
     "name": "stdout",
     "output_type": "stream",
     "text": [
      "val Loss: 0.0793\n",
      "[[10616    19]\n",
      " [  311   798]]\n",
      "Precision: 0.72\n",
      "Recall   : 0.98\n",
      "Accuracy : 0.97\n",
      "Current mode has been saved to keypress_recognition/current_black.tar ...\n",
      "\n",
      "Epoch 44/200\n"
     ]
    },
    {
     "data": {
      "application/vnd.jupyter.widget-view+json": {
       "model_id": "",
       "version_major": 2,
       "version_minor": 0
      },
      "text/plain": [
       "IntProgress(value=0, max=87402)"
      ]
     },
     "metadata": {},
     "output_type": "display_data"
    },
    {
     "name": "stdout",
     "output_type": "stream",
     "text": [
      "train Loss: 0.2485\n",
      "[[41266  1592]\n",
      " [ 2446 42120]]\n",
      "Precision: 0.95\n",
      "Recall   : 0.96\n",
      "Accuracy : 0.95\n"
     ]
    },
    {
     "data": {
      "application/vnd.jupyter.widget-view+json": {
       "model_id": "",
       "version_major": 2,
       "version_minor": 0
      },
      "text/plain": [
       "IntProgress(value=0, max=11719)"
      ]
     },
     "metadata": {},
     "output_type": "display_data"
    },
    {
     "name": "stdout",
     "output_type": "stream",
     "text": [
      "val Loss: 0.0932\n",
      "[[10512    15]\n",
      " [  415   802]]\n",
      "Precision: 0.66\n",
      "Recall   : 0.98\n",
      "Accuracy : 0.96\n",
      "Current mode has been saved to keypress_recognition/current_black.tar ...\n",
      "\n",
      "Epoch 45/200\n"
     ]
    },
    {
     "data": {
      "application/vnd.jupyter.widget-view+json": {
       "model_id": "",
       "version_major": 2,
       "version_minor": 0
      },
      "text/plain": [
       "IntProgress(value=0, max=87402)"
      ]
     },
     "metadata": {},
     "output_type": "display_data"
    },
    {
     "name": "stdout",
     "output_type": "stream",
     "text": [
      "train Loss: 0.2478\n",
      "[[41214  1547]\n",
      " [ 2498 42165]]\n",
      "Precision: 0.94\n",
      "Recall   : 0.96\n",
      "Accuracy : 0.95\n"
     ]
    },
    {
     "data": {
      "application/vnd.jupyter.widget-view+json": {
       "model_id": "",
       "version_major": 2,
       "version_minor": 0
      },
      "text/plain": [
       "IntProgress(value=0, max=11719)"
      ]
     },
     "metadata": {},
     "output_type": "display_data"
    },
    {
     "name": "stdout",
     "output_type": "stream",
     "text": [
      "val Loss: 0.0577\n",
      "[[10736    28]\n",
      " [  191   789]]\n",
      "Precision: 0.81\n",
      "Recall   : 0.97\n",
      "Accuracy : 0.98\n",
      "Current mode has been saved to keypress_recognition/current_black.tar ...\n",
      "\n",
      "Epoch 46/200\n"
     ]
    },
    {
     "data": {
      "application/vnd.jupyter.widget-view+json": {
       "model_id": "",
       "version_major": 2,
       "version_minor": 0
      },
      "text/plain": [
       "IntProgress(value=0, max=87402)"
      ]
     },
     "metadata": {},
     "output_type": "display_data"
    },
    {
     "name": "stdout",
     "output_type": "stream",
     "text": [
      "train Loss: 0.2477\n",
      "[[41260  1595]\n",
      " [ 2452 42117]]\n",
      "Precision: 0.94\n",
      "Recall   : 0.96\n",
      "Accuracy : 0.95\n"
     ]
    },
    {
     "data": {
      "application/vnd.jupyter.widget-view+json": {
       "model_id": "",
       "version_major": 2,
       "version_minor": 0
      },
      "text/plain": [
       "IntProgress(value=0, max=11719)"
      ]
     },
     "metadata": {},
     "output_type": "display_data"
    },
    {
     "name": "stdout",
     "output_type": "stream",
     "text": [
      "val Loss: 0.0900\n",
      "[[10542    15]\n",
      " [  385   802]]\n",
      "Precision: 0.68\n",
      "Recall   : 0.98\n",
      "Accuracy : 0.97\n",
      "Current mode has been saved to keypress_recognition/current_black.tar ...\n",
      "\n",
      "Epoch 47/200\n"
     ]
    },
    {
     "data": {
      "application/vnd.jupyter.widget-view+json": {
       "model_id": "",
       "version_major": 2,
       "version_minor": 0
      },
      "text/plain": [
       "IntProgress(value=0, max=87402)"
      ]
     },
     "metadata": {},
     "output_type": "display_data"
    },
    {
     "name": "stdout",
     "output_type": "stream",
     "text": [
      "train Loss: 0.2475\n",
      "[[41268  1544]\n",
      " [ 2444 42168]]\n",
      "Precision: 0.95\n",
      "Recall   : 0.96\n",
      "Accuracy : 0.95\n"
     ]
    },
    {
     "data": {
      "application/vnd.jupyter.widget-view+json": {
       "model_id": "",
       "version_major": 2,
       "version_minor": 0
      },
      "text/plain": [
       "IntProgress(value=0, max=11719)"
      ]
     },
     "metadata": {},
     "output_type": "display_data"
    },
    {
     "name": "stdout",
     "output_type": "stream",
     "text": [
      "val Loss: 0.1029\n",
      "[[10468    13]\n",
      " [  459   804]]\n",
      "Precision: 0.64\n",
      "Recall   : 0.98\n",
      "Accuracy : 0.96\n",
      "Current mode has been saved to keypress_recognition/current_black.tar ...\n",
      "\n",
      "Epoch 48/200\n"
     ]
    },
    {
     "data": {
      "application/vnd.jupyter.widget-view+json": {
       "model_id": "",
       "version_major": 2,
       "version_minor": 0
      },
      "text/plain": [
       "IntProgress(value=0, max=87402)"
      ]
     },
     "metadata": {},
     "output_type": "display_data"
    },
    {
     "name": "stdout",
     "output_type": "stream",
     "text": [
      "train Loss: 0.2474\n",
      "[[41215  1580]\n",
      " [ 2497 42132]]\n",
      "Precision: 0.94\n",
      "Recall   : 0.96\n",
      "Accuracy : 0.95\n"
     ]
    },
    {
     "data": {
      "application/vnd.jupyter.widget-view+json": {
       "model_id": "",
       "version_major": 2,
       "version_minor": 0
      },
      "text/plain": [
       "IntProgress(value=0, max=11719)"
      ]
     },
     "metadata": {},
     "output_type": "display_data"
    },
    {
     "name": "stdout",
     "output_type": "stream",
     "text": [
      "val Loss: 0.0813\n",
      "[[10598    15]\n",
      " [  329   802]]\n",
      "Precision: 0.71\n",
      "Recall   : 0.98\n",
      "Accuracy : 0.97\n",
      "Current mode has been saved to keypress_recognition/current_black.tar ...\n",
      "\n",
      "Epoch 49/200\n"
     ]
    },
    {
     "data": {
      "application/vnd.jupyter.widget-view+json": {
       "model_id": "",
       "version_major": 2,
       "version_minor": 0
      },
      "text/plain": [
       "IntProgress(value=0, max=87402)"
      ]
     },
     "metadata": {},
     "output_type": "display_data"
    },
    {
     "name": "stdout",
     "output_type": "stream",
     "text": [
      "train Loss: 0.2478\n",
      "[[41250  1523]\n",
      " [ 2462 42189]]\n",
      "Precision: 0.94\n",
      "Recall   : 0.97\n",
      "Accuracy : 0.95\n"
     ]
    },
    {
     "data": {
      "application/vnd.jupyter.widget-view+json": {
       "model_id": "",
       "version_major": 2,
       "version_minor": 0
      },
      "text/plain": [
       "IntProgress(value=0, max=11719)"
      ]
     },
     "metadata": {},
     "output_type": "display_data"
    },
    {
     "name": "stdout",
     "output_type": "stream",
     "text": [
      "val Loss: 0.0898\n",
      "[[10578    15]\n",
      " [  349   802]]\n",
      "Precision: 0.70\n",
      "Recall   : 0.98\n",
      "Accuracy : 0.97\n",
      "Current mode has been saved to keypress_recognition/current_black.tar ...\n",
      "\n",
      "Epoch 50/200\n"
     ]
    },
    {
     "data": {
      "application/vnd.jupyter.widget-view+json": {
       "model_id": "",
       "version_major": 2,
       "version_minor": 0
      },
      "text/plain": [
       "IntProgress(value=0, max=87402)"
      ]
     },
     "metadata": {},
     "output_type": "display_data"
    },
    {
     "name": "stdout",
     "output_type": "stream",
     "text": [
      "train Loss: 0.2476\n",
      "[[41287  1585]\n",
      " [ 2425 42127]]\n",
      "Precision: 0.95\n",
      "Recall   : 0.96\n",
      "Accuracy : 0.95\n"
     ]
    },
    {
     "data": {
      "application/vnd.jupyter.widget-view+json": {
       "model_id": "",
       "version_major": 2,
       "version_minor": 0
      },
      "text/plain": [
       "IntProgress(value=0, max=11719)"
      ]
     },
     "metadata": {},
     "output_type": "display_data"
    },
    {
     "name": "stdout",
     "output_type": "stream",
     "text": [
      "val Loss: 0.0860\n",
      "[[10590    15]\n",
      " [  337   802]]\n",
      "Precision: 0.70\n",
      "Recall   : 0.98\n",
      "Accuracy : 0.97\n",
      "Current mode has been saved to keypress_recognition/current_black.tar ...\n",
      "\n",
      "Epoch 51/200\n"
     ]
    },
    {
     "data": {
      "application/vnd.jupyter.widget-view+json": {
       "model_id": "",
       "version_major": 2,
       "version_minor": 0
      },
      "text/plain": [
       "IntProgress(value=0, max=87402)"
      ]
     },
     "metadata": {},
     "output_type": "display_data"
    },
    {
     "name": "stdout",
     "output_type": "stream",
     "text": [
      "train Loss: 0.2418\n",
      "[[41358  1507]\n",
      " [ 2354 42205]]\n",
      "Precision: 0.95\n",
      "Recall   : 0.97\n",
      "Accuracy : 0.96\n"
     ]
    },
    {
     "data": {
      "application/vnd.jupyter.widget-view+json": {
       "model_id": "",
       "version_major": 2,
       "version_minor": 0
      },
      "text/plain": [
       "IntProgress(value=0, max=11719)"
      ]
     },
     "metadata": {},
     "output_type": "display_data"
    },
    {
     "name": "stdout",
     "output_type": "stream",
     "text": [
      "val Loss: 0.0960\n",
      "[[10520    15]\n",
      " [  407   802]]\n",
      "Precision: 0.66\n",
      "Recall   : 0.98\n",
      "Accuracy : 0.96\n",
      "Current mode has been saved to keypress_recognition/current_black.tar ...\n",
      "\n",
      "Epoch 52/200\n"
     ]
    },
    {
     "data": {
      "application/vnd.jupyter.widget-view+json": {
       "model_id": "",
       "version_major": 2,
       "version_minor": 0
      },
      "text/plain": [
       "IntProgress(value=0, max=87402)"
      ]
     },
     "metadata": {},
     "output_type": "display_data"
    },
    {
     "name": "stdout",
     "output_type": "stream",
     "text": [
      "train Loss: 0.2418\n",
      "[[41295  1464]\n",
      " [ 2417 42248]]\n",
      "Precision: 0.95\n",
      "Recall   : 0.97\n",
      "Accuracy : 0.96\n"
     ]
    },
    {
     "data": {
      "application/vnd.jupyter.widget-view+json": {
       "model_id": "",
       "version_major": 2,
       "version_minor": 0
      },
      "text/plain": [
       "IntProgress(value=0, max=11719)"
      ]
     },
     "metadata": {},
     "output_type": "display_data"
    },
    {
     "name": "stdout",
     "output_type": "stream",
     "text": [
      "val Loss: 0.0899\n",
      "[[10546    13]\n",
      " [  381   804]]\n",
      "Precision: 0.68\n",
      "Recall   : 0.98\n",
      "Accuracy : 0.97\n",
      "Current mode has been saved to keypress_recognition/current_black.tar ...\n",
      "\n",
      "Epoch 53/200\n"
     ]
    },
    {
     "data": {
      "application/vnd.jupyter.widget-view+json": {
       "model_id": "",
       "version_major": 2,
       "version_minor": 0
      },
      "text/plain": [
       "IntProgress(value=0, max=87402)"
      ]
     },
     "metadata": {},
     "output_type": "display_data"
    },
    {
     "name": "stdout",
     "output_type": "stream",
     "text": [
      "train Loss: 0.2420\n",
      "[[41309  1508]\n",
      " [ 2403 42204]]\n",
      "Precision: 0.95\n",
      "Recall   : 0.97\n",
      "Accuracy : 0.96\n"
     ]
    },
    {
     "data": {
      "application/vnd.jupyter.widget-view+json": {
       "model_id": "",
       "version_major": 2,
       "version_minor": 0
      },
      "text/plain": [
       "IntProgress(value=0, max=11719)"
      ]
     },
     "metadata": {},
     "output_type": "display_data"
    },
    {
     "name": "stdout",
     "output_type": "stream",
     "text": [
      "val Loss: 0.1021\n",
      "[[10515     9]\n",
      " [  412   808]]\n",
      "Precision: 0.66\n",
      "Recall   : 0.99\n",
      "Accuracy : 0.96\n",
      "Current mode has been saved to keypress_recognition/current_black.tar ...\n",
      "\n",
      "Epoch 54/200\n"
     ]
    },
    {
     "data": {
      "application/vnd.jupyter.widget-view+json": {
       "model_id": "",
       "version_major": 2,
       "version_minor": 0
      },
      "text/plain": [
       "IntProgress(value=0, max=87402)"
      ]
     },
     "metadata": {},
     "output_type": "display_data"
    },
    {
     "name": "stdout",
     "output_type": "stream",
     "text": [
      "train Loss: 0.2420\n",
      "[[41357  1473]\n",
      " [ 2355 42239]]\n",
      "Precision: 0.95\n",
      "Recall   : 0.97\n",
      "Accuracy : 0.96\n"
     ]
    },
    {
     "data": {
      "application/vnd.jupyter.widget-view+json": {
       "model_id": "",
       "version_major": 2,
       "version_minor": 0
      },
      "text/plain": [
       "IntProgress(value=0, max=11719)"
      ]
     },
     "metadata": {},
     "output_type": "display_data"
    },
    {
     "name": "stdout",
     "output_type": "stream",
     "text": [
      "val Loss: 0.0762\n",
      "[[10622    16]\n",
      " [  305   801]]\n",
      "Precision: 0.72\n",
      "Recall   : 0.98\n",
      "Accuracy : 0.97\n",
      "Current mode has been saved to keypress_recognition/current_black.tar ...\n",
      "\n",
      "Epoch 55/200\n"
     ]
    },
    {
     "data": {
      "application/vnd.jupyter.widget-view+json": {
       "model_id": "",
       "version_major": 2,
       "version_minor": 0
      },
      "text/plain": [
       "IntProgress(value=0, max=87402)"
      ]
     },
     "metadata": {},
     "output_type": "display_data"
    },
    {
     "name": "stdout",
     "output_type": "stream",
     "text": [
      "train Loss: 0.2414\n",
      "[[41336  1498]\n",
      " [ 2376 42214]]\n",
      "Precision: 0.95\n",
      "Recall   : 0.97\n",
      "Accuracy : 0.96\n"
     ]
    },
    {
     "data": {
      "application/vnd.jupyter.widget-view+json": {
       "model_id": "",
       "version_major": 2,
       "version_minor": 0
      },
      "text/plain": [
       "IntProgress(value=0, max=11719)"
      ]
     },
     "metadata": {},
     "output_type": "display_data"
    },
    {
     "name": "stdout",
     "output_type": "stream",
     "text": [
      "val Loss: 0.1085\n",
      "[[10486     9]\n",
      " [  441   808]]\n",
      "Precision: 0.65\n",
      "Recall   : 0.99\n",
      "Accuracy : 0.96\n",
      "Current mode has been saved to keypress_recognition/current_black.tar ...\n",
      "\n",
      "Epoch 56/200\n"
     ]
    },
    {
     "data": {
      "application/vnd.jupyter.widget-view+json": {
       "model_id": "",
       "version_major": 2,
       "version_minor": 0
      },
      "text/plain": [
       "IntProgress(value=0, max=87402)"
      ]
     },
     "metadata": {},
     "output_type": "display_data"
    },
    {
     "name": "stdout",
     "output_type": "stream",
     "text": [
      "train Loss: 0.2423\n",
      "[[41343  1478]\n",
      " [ 2369 42234]]\n",
      "Precision: 0.95\n",
      "Recall   : 0.97\n",
      "Accuracy : 0.96\n"
     ]
    },
    {
     "data": {
      "application/vnd.jupyter.widget-view+json": {
       "model_id": "",
       "version_major": 2,
       "version_minor": 0
      },
      "text/plain": [
       "IntProgress(value=0, max=11719)"
      ]
     },
     "metadata": {},
     "output_type": "display_data"
    },
    {
     "name": "stdout",
     "output_type": "stream",
     "text": [
      "val Loss: 0.0833\n",
      "[[10592    15]\n",
      " [  335   802]]\n",
      "Precision: 0.71\n",
      "Recall   : 0.98\n",
      "Accuracy : 0.97\n",
      "Current mode has been saved to keypress_recognition/current_black.tar ...\n",
      "\n",
      "Epoch 57/200\n"
     ]
    },
    {
     "data": {
      "application/vnd.jupyter.widget-view+json": {
       "model_id": "",
       "version_major": 2,
       "version_minor": 0
      },
      "text/plain": [
       "IntProgress(value=0, max=87402)"
      ]
     },
     "metadata": {},
     "output_type": "display_data"
    },
    {
     "name": "stdout",
     "output_type": "stream",
     "text": [
      "train Loss: 0.2415\n",
      "[[41345  1497]\n",
      " [ 2367 42215]]\n",
      "Precision: 0.95\n",
      "Recall   : 0.97\n",
      "Accuracy : 0.96\n"
     ]
    },
    {
     "data": {
      "application/vnd.jupyter.widget-view+json": {
       "model_id": "",
       "version_major": 2,
       "version_minor": 0
      },
      "text/plain": [
       "IntProgress(value=0, max=11719)"
      ]
     },
     "metadata": {},
     "output_type": "display_data"
    },
    {
     "name": "stdout",
     "output_type": "stream",
     "text": [
      "val Loss: 0.0797\n",
      "[[10600    16]\n",
      " [  327   801]]\n",
      "Precision: 0.71\n",
      "Recall   : 0.98\n",
      "Accuracy : 0.97\n",
      "Current mode has been saved to keypress_recognition/current_black.tar ...\n",
      "\n",
      "Epoch 58/200\n"
     ]
    },
    {
     "data": {
      "application/vnd.jupyter.widget-view+json": {
       "model_id": "",
       "version_major": 2,
       "version_minor": 0
      },
      "text/plain": [
       "IntProgress(value=0, max=87402)"
      ]
     },
     "metadata": {},
     "output_type": "display_data"
    },
    {
     "name": "stdout",
     "output_type": "stream",
     "text": [
      "train Loss: 0.2416\n",
      "[[41328  1530]\n",
      " [ 2384 42182]]\n",
      "Precision: 0.95\n",
      "Recall   : 0.96\n",
      "Accuracy : 0.96\n"
     ]
    },
    {
     "data": {
      "application/vnd.jupyter.widget-view+json": {
       "model_id": "",
       "version_major": 2,
       "version_minor": 0
      },
      "text/plain": [
       "IntProgress(value=0, max=11719)"
      ]
     },
     "metadata": {},
     "output_type": "display_data"
    },
    {
     "name": "stdout",
     "output_type": "stream",
     "text": [
      "val Loss: 0.0777\n",
      "[[10615    16]\n",
      " [  312   801]]\n",
      "Precision: 0.72\n",
      "Recall   : 0.98\n",
      "Accuracy : 0.97\n",
      "Current mode has been saved to keypress_recognition/current_black.tar ...\n",
      "\n",
      "Epoch 59/200\n"
     ]
    },
    {
     "data": {
      "application/vnd.jupyter.widget-view+json": {
       "model_id": "",
       "version_major": 2,
       "version_minor": 0
      },
      "text/plain": [
       "IntProgress(value=0, max=87402)"
      ]
     },
     "metadata": {},
     "output_type": "display_data"
    },
    {
     "name": "stdout",
     "output_type": "stream",
     "text": [
      "train Loss: 0.2409\n",
      "[[41346  1460]\n",
      " [ 2366 42252]]\n",
      "Precision: 0.95\n",
      "Recall   : 0.97\n",
      "Accuracy : 0.96\n"
     ]
    },
    {
     "data": {
      "application/vnd.jupyter.widget-view+json": {
       "model_id": "",
       "version_major": 2,
       "version_minor": 0
      },
      "text/plain": [
       "IntProgress(value=0, max=11719)"
      ]
     },
     "metadata": {},
     "output_type": "display_data"
    },
    {
     "name": "stdout",
     "output_type": "stream",
     "text": [
      "val Loss: 0.0947\n",
      "[[10538    14]\n",
      " [  389   803]]\n",
      "Precision: 0.67\n",
      "Recall   : 0.98\n",
      "Accuracy : 0.97\n",
      "Current mode has been saved to keypress_recognition/current_black.tar ...\n",
      "\n",
      "Epoch 60/200\n"
     ]
    },
    {
     "data": {
      "application/vnd.jupyter.widget-view+json": {
       "model_id": "",
       "version_major": 2,
       "version_minor": 0
      },
      "text/plain": [
       "IntProgress(value=0, max=87402)"
      ]
     },
     "metadata": {},
     "output_type": "display_data"
    },
    {
     "name": "stdout",
     "output_type": "stream",
     "text": [
      "train Loss: 0.2404\n",
      "[[41334  1498]\n",
      " [ 2378 42214]]\n",
      "Precision: 0.95\n",
      "Recall   : 0.97\n",
      "Accuracy : 0.96\n"
     ]
    },
    {
     "data": {
      "application/vnd.jupyter.widget-view+json": {
       "model_id": "",
       "version_major": 2,
       "version_minor": 0
      },
      "text/plain": [
       "IntProgress(value=0, max=11719)"
      ]
     },
     "metadata": {},
     "output_type": "display_data"
    },
    {
     "name": "stdout",
     "output_type": "stream",
     "text": [
      "val Loss: 0.0695\n",
      "[[10665    19]\n",
      " [  262   798]]\n",
      "Precision: 0.75\n",
      "Recall   : 0.98\n",
      "Accuracy : 0.98\n",
      "Current mode has been saved to keypress_recognition/current_black.tar ...\n",
      "\n",
      "Epoch 61/200\n"
     ]
    },
    {
     "data": {
      "application/vnd.jupyter.widget-view+json": {
       "model_id": "",
       "version_major": 2,
       "version_minor": 0
      },
      "text/plain": [
       "IntProgress(value=0, max=87402)"
      ]
     },
     "metadata": {},
     "output_type": "display_data"
    },
    {
     "name": "stdout",
     "output_type": "stream",
     "text": [
      "train Loss: 0.2376\n",
      "[[41374  1452]\n",
      " [ 2338 42260]]\n",
      "Precision: 0.95\n",
      "Recall   : 0.97\n",
      "Accuracy : 0.96\n"
     ]
    },
    {
     "data": {
      "application/vnd.jupyter.widget-view+json": {
       "model_id": "",
       "version_major": 2,
       "version_minor": 0
      },
      "text/plain": [
       "IntProgress(value=0, max=11719)"
      ]
     },
     "metadata": {},
     "output_type": "display_data"
    },
    {
     "name": "stdout",
     "output_type": "stream",
     "text": [
      "val Loss: 0.0858\n",
      "[[10574    13]\n",
      " [  353   804]]\n",
      "Precision: 0.69\n",
      "Recall   : 0.98\n",
      "Accuracy : 0.97\n",
      "Current mode has been saved to keypress_recognition/current_black.tar ...\n",
      "\n",
      "Epoch 62/200\n"
     ]
    },
    {
     "data": {
      "application/vnd.jupyter.widget-view+json": {
       "model_id": "",
       "version_major": 2,
       "version_minor": 0
      },
      "text/plain": [
       "IntProgress(value=0, max=87402)"
      ]
     },
     "metadata": {},
     "output_type": "display_data"
    },
    {
     "name": "stdout",
     "output_type": "stream",
     "text": [
      "train Loss: 0.2382\n",
      "[[41389  1449]\n",
      " [ 2323 42263]]\n",
      "Precision: 0.95\n",
      "Recall   : 0.97\n",
      "Accuracy : 0.96\n"
     ]
    },
    {
     "data": {
      "application/vnd.jupyter.widget-view+json": {
       "model_id": "",
       "version_major": 2,
       "version_minor": 0
      },
      "text/plain": [
       "IntProgress(value=0, max=11719)"
      ]
     },
     "metadata": {},
     "output_type": "display_data"
    },
    {
     "name": "stdout",
     "output_type": "stream",
     "text": [
      "val Loss: 0.0801\n",
      "[[10607    15]\n",
      " [  320   802]]\n",
      "Precision: 0.71\n",
      "Recall   : 0.98\n",
      "Accuracy : 0.97\n",
      "Current mode has been saved to keypress_recognition/current_black.tar ...\n",
      "\n",
      "Epoch 63/200\n"
     ]
    },
    {
     "data": {
      "application/vnd.jupyter.widget-view+json": {
       "model_id": "",
       "version_major": 2,
       "version_minor": 0
      },
      "text/plain": [
       "IntProgress(value=0, max=87402)"
      ]
     },
     "metadata": {},
     "output_type": "display_data"
    },
    {
     "name": "stdout",
     "output_type": "stream",
     "text": [
      "train Loss: 0.2376\n",
      "[[41415  1407]\n",
      " [ 2297 42305]]\n",
      "Precision: 0.95\n",
      "Recall   : 0.97\n",
      "Accuracy : 0.96\n"
     ]
    },
    {
     "data": {
      "application/vnd.jupyter.widget-view+json": {
       "model_id": "",
       "version_major": 2,
       "version_minor": 0
      },
      "text/plain": [
       "IntProgress(value=0, max=11719)"
      ]
     },
     "metadata": {},
     "output_type": "display_data"
    },
    {
     "name": "stdout",
     "output_type": "stream",
     "text": [
      "val Loss: 0.0976\n",
      "[[10525    10]\n",
      " [  402   807]]\n",
      "Precision: 0.67\n",
      "Recall   : 0.99\n",
      "Accuracy : 0.96\n",
      "Current mode has been saved to keypress_recognition/current_black.tar ...\n",
      "\n",
      "Epoch 64/200\n"
     ]
    },
    {
     "data": {
      "application/vnd.jupyter.widget-view+json": {
       "model_id": "",
       "version_major": 2,
       "version_minor": 0
      },
      "text/plain": [
       "IntProgress(value=0, max=87402)"
      ]
     },
     "metadata": {},
     "output_type": "display_data"
    },
    {
     "name": "stdout",
     "output_type": "stream",
     "text": [
      "train Loss: 0.2372\n",
      "[[41389  1431]\n",
      " [ 2323 42281]]\n",
      "Precision: 0.95\n",
      "Recall   : 0.97\n",
      "Accuracy : 0.96\n"
     ]
    },
    {
     "data": {
      "application/vnd.jupyter.widget-view+json": {
       "model_id": "",
       "version_major": 2,
       "version_minor": 0
      },
      "text/plain": [
       "IntProgress(value=0, max=11719)"
      ]
     },
     "metadata": {},
     "output_type": "display_data"
    },
    {
     "name": "stdout",
     "output_type": "stream",
     "text": [
      "val Loss: 0.0951\n",
      "[[10534    11]\n",
      " [  393   806]]\n",
      "Precision: 0.67\n",
      "Recall   : 0.99\n",
      "Accuracy : 0.97\n",
      "Current mode has been saved to keypress_recognition/current_black.tar ...\n",
      "\n",
      "Epoch 65/200\n"
     ]
    },
    {
     "data": {
      "application/vnd.jupyter.widget-view+json": {
       "model_id": "",
       "version_major": 2,
       "version_minor": 0
      },
      "text/plain": [
       "IntProgress(value=0, max=87402)"
      ]
     },
     "metadata": {},
     "output_type": "display_data"
    },
    {
     "name": "stdout",
     "output_type": "stream",
     "text": [
      "train Loss: 0.2373\n",
      "[[41377  1455]\n",
      " [ 2335 42257]]\n",
      "Precision: 0.95\n",
      "Recall   : 0.97\n",
      "Accuracy : 0.96\n"
     ]
    },
    {
     "data": {
      "application/vnd.jupyter.widget-view+json": {
       "model_id": "",
       "version_major": 2,
       "version_minor": 0
      },
      "text/plain": [
       "IntProgress(value=0, max=11719)"
      ]
     },
     "metadata": {},
     "output_type": "display_data"
    },
    {
     "name": "stdout",
     "output_type": "stream",
     "text": [
      "val Loss: 0.0806\n",
      "[[10597    13]\n",
      " [  330   804]]\n",
      "Precision: 0.71\n",
      "Recall   : 0.98\n",
      "Accuracy : 0.97\n",
      "Current mode has been saved to keypress_recognition/current_black.tar ...\n",
      "\n",
      "Epoch 66/200\n"
     ]
    },
    {
     "data": {
      "application/vnd.jupyter.widget-view+json": {
       "model_id": "",
       "version_major": 2,
       "version_minor": 0
      },
      "text/plain": [
       "IntProgress(value=0, max=87402)"
      ]
     },
     "metadata": {},
     "output_type": "display_data"
    },
    {
     "name": "stdout",
     "output_type": "stream",
     "text": [
      "train Loss: 0.2365\n",
      "[[41399  1447]\n",
      " [ 2313 42265]]\n",
      "Precision: 0.95\n",
      "Recall   : 0.97\n",
      "Accuracy : 0.96\n"
     ]
    },
    {
     "data": {
      "application/vnd.jupyter.widget-view+json": {
       "model_id": "",
       "version_major": 2,
       "version_minor": 0
      },
      "text/plain": [
       "IntProgress(value=0, max=11719)"
      ]
     },
     "metadata": {},
     "output_type": "display_data"
    },
    {
     "name": "stdout",
     "output_type": "stream",
     "text": [
      "val Loss: 0.0778\n",
      "[[10619    19]\n",
      " [  308   798]]\n",
      "Precision: 0.72\n",
      "Recall   : 0.98\n",
      "Accuracy : 0.97\n",
      "Current mode has been saved to keypress_recognition/current_black.tar ...\n",
      "\n",
      "Epoch 67/200\n"
     ]
    },
    {
     "data": {
      "application/vnd.jupyter.widget-view+json": {
       "model_id": "",
       "version_major": 2,
       "version_minor": 0
      },
      "text/plain": [
       "IntProgress(value=0, max=87402)"
      ]
     },
     "metadata": {},
     "output_type": "display_data"
    },
    {
     "name": "stdout",
     "output_type": "stream",
     "text": [
      "train Loss: 0.2372\n",
      "[[41398  1456]\n",
      " [ 2314 42256]]\n",
      "Precision: 0.95\n",
      "Recall   : 0.97\n",
      "Accuracy : 0.96\n"
     ]
    },
    {
     "data": {
      "application/vnd.jupyter.widget-view+json": {
       "model_id": "",
       "version_major": 2,
       "version_minor": 0
      },
      "text/plain": [
       "IntProgress(value=0, max=11719)"
      ]
     },
     "metadata": {},
     "output_type": "display_data"
    },
    {
     "name": "stdout",
     "output_type": "stream",
     "text": [
      "val Loss: 0.0752\n",
      "[[10635    15]\n",
      " [  292   802]]\n",
      "Precision: 0.73\n",
      "Recall   : 0.98\n",
      "Accuracy : 0.97\n",
      "Current mode has been saved to keypress_recognition/current_black.tar ...\n",
      "\n",
      "Epoch 68/200\n"
     ]
    },
    {
     "data": {
      "application/vnd.jupyter.widget-view+json": {
       "model_id": "",
       "version_major": 2,
       "version_minor": 0
      },
      "text/plain": [
       "IntProgress(value=0, max=87402)"
      ]
     },
     "metadata": {},
     "output_type": "display_data"
    },
    {
     "name": "stdout",
     "output_type": "stream",
     "text": [
      "train Loss: 0.2369\n",
      "[[41369  1414]\n",
      " [ 2343 42298]]\n",
      "Precision: 0.95\n",
      "Recall   : 0.97\n",
      "Accuracy : 0.96\n"
     ]
    },
    {
     "data": {
      "application/vnd.jupyter.widget-view+json": {
       "model_id": "",
       "version_major": 2,
       "version_minor": 0
      },
      "text/plain": [
       "IntProgress(value=0, max=11719)"
      ]
     },
     "metadata": {},
     "output_type": "display_data"
    },
    {
     "name": "stdout",
     "output_type": "stream",
     "text": [
      "val Loss: 0.0789\n",
      "[[10621    16]\n",
      " [  306   801]]\n",
      "Precision: 0.72\n",
      "Recall   : 0.98\n",
      "Accuracy : 0.97\n",
      "Current mode has been saved to keypress_recognition/current_black.tar ...\n",
      "\n",
      "Epoch 69/200\n"
     ]
    },
    {
     "data": {
      "application/vnd.jupyter.widget-view+json": {
       "model_id": "",
       "version_major": 2,
       "version_minor": 0
      },
      "text/plain": [
       "IntProgress(value=0, max=87402)"
      ]
     },
     "metadata": {},
     "output_type": "display_data"
    },
    {
     "name": "stdout",
     "output_type": "stream",
     "text": [
      "train Loss: 0.2366\n",
      "[[41364  1468]\n",
      " [ 2348 42244]]\n",
      "Precision: 0.95\n",
      "Recall   : 0.97\n",
      "Accuracy : 0.96\n"
     ]
    },
    {
     "data": {
      "application/vnd.jupyter.widget-view+json": {
       "model_id": "",
       "version_major": 2,
       "version_minor": 0
      },
      "text/plain": [
       "IntProgress(value=0, max=11719)"
      ]
     },
     "metadata": {},
     "output_type": "display_data"
    },
    {
     "name": "stdout",
     "output_type": "stream",
     "text": [
      "val Loss: 0.0837\n",
      "[[10574    14]\n",
      " [  353   803]]\n",
      "Precision: 0.69\n",
      "Recall   : 0.98\n",
      "Accuracy : 0.97\n",
      "Current mode has been saved to keypress_recognition/current_black.tar ...\n",
      "\n",
      "Epoch 70/200\n"
     ]
    },
    {
     "data": {
      "application/vnd.jupyter.widget-view+json": {
       "model_id": "",
       "version_major": 2,
       "version_minor": 0
      },
      "text/plain": [
       "IntProgress(value=0, max=87402)"
      ]
     },
     "metadata": {},
     "output_type": "display_data"
    },
    {
     "name": "stdout",
     "output_type": "stream",
     "text": [
      "train Loss: 0.2357\n",
      "[[41414  1449]\n",
      " [ 2298 42263]]\n",
      "Precision: 0.95\n",
      "Recall   : 0.97\n",
      "Accuracy : 0.96\n"
     ]
    },
    {
     "data": {
      "application/vnd.jupyter.widget-view+json": {
       "model_id": "",
       "version_major": 2,
       "version_minor": 0
      },
      "text/plain": [
       "IntProgress(value=0, max=11719)"
      ]
     },
     "metadata": {},
     "output_type": "display_data"
    },
    {
     "name": "stdout",
     "output_type": "stream",
     "text": [
      "val Loss: 0.0625\n",
      "[[10725    32]\n",
      " [  202   785]]\n",
      "Precision: 0.80\n",
      "Recall   : 0.96\n",
      "Accuracy : 0.98\n",
      "Current mode has been saved to keypress_recognition/current_black.tar ...\n",
      "\n",
      "Epoch 71/200\n"
     ]
    },
    {
     "data": {
      "application/vnd.jupyter.widget-view+json": {
       "model_id": "",
       "version_major": 2,
       "version_minor": 0
      },
      "text/plain": [
       "IntProgress(value=0, max=87402)"
      ]
     },
     "metadata": {},
     "output_type": "display_data"
    },
    {
     "name": "stdout",
     "output_type": "stream",
     "text": [
      "train Loss: 0.2352\n",
      "[[41422  1435]\n",
      " [ 2290 42277]]\n",
      "Precision: 0.95\n",
      "Recall   : 0.97\n",
      "Accuracy : 0.96\n"
     ]
    },
    {
     "data": {
      "application/vnd.jupyter.widget-view+json": {
       "model_id": "",
       "version_major": 2,
       "version_minor": 0
      },
      "text/plain": [
       "IntProgress(value=0, max=11719)"
      ]
     },
     "metadata": {},
     "output_type": "display_data"
    },
    {
     "name": "stdout",
     "output_type": "stream",
     "text": [
      "val Loss: 0.0755\n",
      "[[10625    17]\n",
      " [  302   800]]\n",
      "Precision: 0.73\n",
      "Recall   : 0.98\n",
      "Accuracy : 0.97\n",
      "Current mode has been saved to keypress_recognition/current_black.tar ...\n",
      "\n",
      "Epoch 72/200\n"
     ]
    },
    {
     "data": {
      "application/vnd.jupyter.widget-view+json": {
       "model_id": "",
       "version_major": 2,
       "version_minor": 0
      },
      "text/plain": [
       "IntProgress(value=0, max=87402)"
      ]
     },
     "metadata": {},
     "output_type": "display_data"
    },
    {
     "name": "stdout",
     "output_type": "stream",
     "text": [
      "train Loss: 0.2350\n",
      "[[41402  1402]\n",
      " [ 2310 42310]]\n",
      "Precision: 0.95\n",
      "Recall   : 0.97\n",
      "Accuracy : 0.96\n"
     ]
    },
    {
     "data": {
      "application/vnd.jupyter.widget-view+json": {
       "model_id": "",
       "version_major": 2,
       "version_minor": 0
      },
      "text/plain": [
       "IntProgress(value=0, max=11719)"
      ]
     },
     "metadata": {},
     "output_type": "display_data"
    },
    {
     "name": "stdout",
     "output_type": "stream",
     "text": [
      "val Loss: 0.0768\n",
      "[[10633    14]\n",
      " [  294   803]]\n",
      "Precision: 0.73\n",
      "Recall   : 0.98\n",
      "Accuracy : 0.97\n",
      "Current mode has been saved to keypress_recognition/current_black.tar ...\n",
      "\n",
      "Epoch 73/200\n"
     ]
    },
    {
     "data": {
      "application/vnd.jupyter.widget-view+json": {
       "model_id": "",
       "version_major": 2,
       "version_minor": 0
      },
      "text/plain": [
       "IntProgress(value=0, max=87402)"
      ]
     },
     "metadata": {},
     "output_type": "display_data"
    },
    {
     "name": "stdout",
     "output_type": "stream",
     "text": [
      "train Loss: 0.2355\n",
      "[[41408  1438]\n",
      " [ 2304 42274]]\n",
      "Precision: 0.95\n",
      "Recall   : 0.97\n",
      "Accuracy : 0.96\n"
     ]
    },
    {
     "data": {
      "application/vnd.jupyter.widget-view+json": {
       "model_id": "",
       "version_major": 2,
       "version_minor": 0
      },
      "text/plain": [
       "IntProgress(value=0, max=11719)"
      ]
     },
     "metadata": {},
     "output_type": "display_data"
    },
    {
     "name": "stdout",
     "output_type": "stream",
     "text": [
      "val Loss: 0.0731\n",
      "[[10632    16]\n",
      " [  295   801]]\n",
      "Precision: 0.73\n",
      "Recall   : 0.98\n",
      "Accuracy : 0.97\n",
      "Current mode has been saved to keypress_recognition/current_black.tar ...\n",
      "\n",
      "Epoch 74/200\n"
     ]
    },
    {
     "data": {
      "application/vnd.jupyter.widget-view+json": {
       "model_id": "",
       "version_major": 2,
       "version_minor": 0
      },
      "text/plain": [
       "IntProgress(value=0, max=87402)"
      ]
     },
     "metadata": {},
     "output_type": "display_data"
    },
    {
     "name": "stdout",
     "output_type": "stream",
     "text": [
      "train Loss: 0.2345\n",
      "[[41403  1406]\n",
      " [ 2309 42306]]\n",
      "Precision: 0.95\n",
      "Recall   : 0.97\n",
      "Accuracy : 0.96\n"
     ]
    },
    {
     "data": {
      "application/vnd.jupyter.widget-view+json": {
       "model_id": "",
       "version_major": 2,
       "version_minor": 0
      },
      "text/plain": [
       "IntProgress(value=0, max=11719)"
      ]
     },
     "metadata": {},
     "output_type": "display_data"
    },
    {
     "name": "stdout",
     "output_type": "stream",
     "text": [
      "val Loss: 0.0764\n",
      "[[10620    15]\n",
      " [  307   802]]\n",
      "Precision: 0.72\n",
      "Recall   : 0.98\n",
      "Accuracy : 0.97\n",
      "Current mode has been saved to keypress_recognition/current_black.tar ...\n",
      "\n",
      "Epoch 75/200\n"
     ]
    },
    {
     "data": {
      "application/vnd.jupyter.widget-view+json": {
       "model_id": "",
       "version_major": 2,
       "version_minor": 0
      },
      "text/plain": [
       "IntProgress(value=0, max=87402)"
      ]
     },
     "metadata": {},
     "output_type": "display_data"
    },
    {
     "name": "stdout",
     "output_type": "stream",
     "text": [
      "train Loss: 0.2350\n",
      "[[41400  1428]\n",
      " [ 2312 42284]]\n",
      "Precision: 0.95\n",
      "Recall   : 0.97\n",
      "Accuracy : 0.96\n"
     ]
    },
    {
     "data": {
      "application/vnd.jupyter.widget-view+json": {
       "model_id": "",
       "version_major": 2,
       "version_minor": 0
      },
      "text/plain": [
       "IntProgress(value=0, max=11719)"
      ]
     },
     "metadata": {},
     "output_type": "display_data"
    },
    {
     "name": "stdout",
     "output_type": "stream",
     "text": [
      "val Loss: 0.0756\n",
      "[[10632    16]\n",
      " [  295   801]]\n",
      "Precision: 0.73\n",
      "Recall   : 0.98\n",
      "Accuracy : 0.97\n",
      "Current mode has been saved to keypress_recognition/current_black.tar ...\n",
      "\n",
      "Epoch 76/200\n"
     ]
    },
    {
     "data": {
      "application/vnd.jupyter.widget-view+json": {
       "model_id": "",
       "version_major": 2,
       "version_minor": 0
      },
      "text/plain": [
       "IntProgress(value=0, max=87402)"
      ]
     },
     "metadata": {},
     "output_type": "display_data"
    },
    {
     "name": "stdout",
     "output_type": "stream",
     "text": [
      "train Loss: 0.2345\n",
      "[[41428  1426]\n",
      " [ 2284 42286]]\n",
      "Precision: 0.95\n",
      "Recall   : 0.97\n",
      "Accuracy : 0.96\n"
     ]
    },
    {
     "data": {
      "application/vnd.jupyter.widget-view+json": {
       "model_id": "",
       "version_major": 2,
       "version_minor": 0
      },
      "text/plain": [
       "IntProgress(value=0, max=11719)"
      ]
     },
     "metadata": {},
     "output_type": "display_data"
    },
    {
     "name": "stdout",
     "output_type": "stream",
     "text": [
      "val Loss: 0.0725\n",
      "[[10657    17]\n",
      " [  270   800]]\n",
      "Precision: 0.75\n",
      "Recall   : 0.98\n",
      "Accuracy : 0.98\n",
      "Current mode has been saved to keypress_recognition/current_black.tar ...\n",
      "\n",
      "Epoch 77/200\n"
     ]
    },
    {
     "data": {
      "application/vnd.jupyter.widget-view+json": {
       "model_id": "",
       "version_major": 2,
       "version_minor": 0
      },
      "text/plain": [
       "IntProgress(value=0, max=87402)"
      ]
     },
     "metadata": {},
     "output_type": "display_data"
    },
    {
     "name": "stdout",
     "output_type": "stream",
     "text": [
      "train Loss: 0.2353\n",
      "[[41400  1399]\n",
      " [ 2312 42313]]\n",
      "Precision: 0.95\n",
      "Recall   : 0.97\n",
      "Accuracy : 0.96\n"
     ]
    },
    {
     "data": {
      "application/vnd.jupyter.widget-view+json": {
       "model_id": "",
       "version_major": 2,
       "version_minor": 0
      },
      "text/plain": [
       "IntProgress(value=0, max=11719)"
      ]
     },
     "metadata": {},
     "output_type": "display_data"
    },
    {
     "name": "stdout",
     "output_type": "stream",
     "text": [
      "val Loss: 0.0828\n",
      "[[10584    14]\n",
      " [  343   803]]\n",
      "Precision: 0.70\n",
      "Recall   : 0.98\n",
      "Accuracy : 0.97\n",
      "Current mode has been saved to keypress_recognition/current_black.tar ...\n",
      "\n",
      "Epoch 78/200\n"
     ]
    },
    {
     "data": {
      "application/vnd.jupyter.widget-view+json": {
       "model_id": "",
       "version_major": 2,
       "version_minor": 0
      },
      "text/plain": [
       "IntProgress(value=0, max=87402)"
      ]
     },
     "metadata": {},
     "output_type": "display_data"
    },
    {
     "name": "stdout",
     "output_type": "stream",
     "text": [
      "train Loss: 0.2331\n",
      "[[41430  1425]\n",
      " [ 2282 42287]]\n",
      "Precision: 0.95\n",
      "Recall   : 0.97\n",
      "Accuracy : 0.96\n"
     ]
    },
    {
     "data": {
      "application/vnd.jupyter.widget-view+json": {
       "model_id": "",
       "version_major": 2,
       "version_minor": 0
      },
      "text/plain": [
       "IntProgress(value=0, max=11719)"
      ]
     },
     "metadata": {},
     "output_type": "display_data"
    },
    {
     "name": "stdout",
     "output_type": "stream",
     "text": [
      "val Loss: 0.0820\n",
      "[[10586    12]\n",
      " [  341   805]]\n",
      "Precision: 0.70\n",
      "Recall   : 0.99\n",
      "Accuracy : 0.97\n",
      "Current mode has been saved to keypress_recognition/current_black.tar ...\n",
      "\n",
      "Epoch 79/200\n"
     ]
    },
    {
     "data": {
      "application/vnd.jupyter.widget-view+json": {
       "model_id": "",
       "version_major": 2,
       "version_minor": 0
      },
      "text/plain": [
       "IntProgress(value=0, max=87402)"
      ]
     },
     "metadata": {},
     "output_type": "display_data"
    },
    {
     "name": "stdout",
     "output_type": "stream",
     "text": [
      "train Loss: 0.2333\n",
      "[[41384  1424]\n",
      " [ 2328 42288]]\n",
      "Precision: 0.95\n",
      "Recall   : 0.97\n",
      "Accuracy : 0.96\n"
     ]
    },
    {
     "data": {
      "application/vnd.jupyter.widget-view+json": {
       "model_id": "",
       "version_major": 2,
       "version_minor": 0
      },
      "text/plain": [
       "IntProgress(value=0, max=11719)"
      ]
     },
     "metadata": {},
     "output_type": "display_data"
    },
    {
     "name": "stdout",
     "output_type": "stream",
     "text": [
      "val Loss: 0.0743\n",
      "[[10635    15]\n",
      " [  292   802]]\n",
      "Precision: 0.73\n",
      "Recall   : 0.98\n",
      "Accuracy : 0.97\n",
      "Current mode has been saved to keypress_recognition/current_black.tar ...\n",
      "\n",
      "Epoch 80/200\n"
     ]
    },
    {
     "data": {
      "application/vnd.jupyter.widget-view+json": {
       "model_id": "",
       "version_major": 2,
       "version_minor": 0
      },
      "text/plain": [
       "IntProgress(value=0, max=87402)"
      ]
     },
     "metadata": {},
     "output_type": "display_data"
    },
    {
     "name": "stdout",
     "output_type": "stream",
     "text": [
      "train Loss: 0.2343\n",
      "[[41411  1448]\n",
      " [ 2301 42264]]\n",
      "Precision: 0.95\n",
      "Recall   : 0.97\n",
      "Accuracy : 0.96\n"
     ]
    },
    {
     "data": {
      "application/vnd.jupyter.widget-view+json": {
       "model_id": "",
       "version_major": 2,
       "version_minor": 0
      },
      "text/plain": [
       "IntProgress(value=0, max=11719)"
      ]
     },
     "metadata": {},
     "output_type": "display_data"
    },
    {
     "name": "stdout",
     "output_type": "stream",
     "text": [
      "val Loss: 0.0743\n",
      "[[10633    16]\n",
      " [  294   801]]\n",
      "Precision: 0.73\n",
      "Recall   : 0.98\n",
      "Accuracy : 0.97\n",
      "Current mode has been saved to keypress_recognition/current_black.tar ...\n",
      "\n",
      "Epoch 81/200\n"
     ]
    },
    {
     "data": {
      "application/vnd.jupyter.widget-view+json": {
       "model_id": "",
       "version_major": 2,
       "version_minor": 0
      },
      "text/plain": [
       "IntProgress(value=0, max=87402)"
      ]
     },
     "metadata": {},
     "output_type": "display_data"
    },
    {
     "name": "stdout",
     "output_type": "stream",
     "text": [
      "train Loss: 0.2326\n",
      "[[41446  1434]\n",
      " [ 2266 42278]]\n",
      "Precision: 0.95\n",
      "Recall   : 0.97\n",
      "Accuracy : 0.96\n"
     ]
    },
    {
     "data": {
      "application/vnd.jupyter.widget-view+json": {
       "model_id": "",
       "version_major": 2,
       "version_minor": 0
      },
      "text/plain": [
       "IntProgress(value=0, max=11719)"
      ]
     },
     "metadata": {},
     "output_type": "display_data"
    },
    {
     "name": "stdout",
     "output_type": "stream",
     "text": [
      "val Loss: 0.0804\n",
      "[[10599    13]\n",
      " [  328   804]]\n",
      "Precision: 0.71\n",
      "Recall   : 0.98\n",
      "Accuracy : 0.97\n",
      "Current mode has been saved to keypress_recognition/current_black.tar ...\n",
      "\n",
      "Epoch 82/200\n"
     ]
    },
    {
     "data": {
      "application/vnd.jupyter.widget-view+json": {
       "model_id": "",
       "version_major": 2,
       "version_minor": 0
      },
      "text/plain": [
       "IntProgress(value=0, max=87402)"
      ]
     },
     "metadata": {},
     "output_type": "display_data"
    },
    {
     "name": "stdout",
     "output_type": "stream",
     "text": [
      "train Loss: 0.2335\n",
      "[[41411  1423]\n",
      " [ 2301 42289]]\n",
      "Precision: 0.95\n",
      "Recall   : 0.97\n",
      "Accuracy : 0.96\n"
     ]
    },
    {
     "data": {
      "application/vnd.jupyter.widget-view+json": {
       "model_id": "",
       "version_major": 2,
       "version_minor": 0
      },
      "text/plain": [
       "IntProgress(value=0, max=11719)"
      ]
     },
     "metadata": {},
     "output_type": "display_data"
    },
    {
     "name": "stdout",
     "output_type": "stream",
     "text": [
      "val Loss: 0.0816\n",
      "[[10594    13]\n",
      " [  333   804]]\n",
      "Precision: 0.71\n",
      "Recall   : 0.98\n",
      "Accuracy : 0.97\n",
      "Current mode has been saved to keypress_recognition/current_black.tar ...\n",
      "\n",
      "Epoch 83/200\n"
     ]
    },
    {
     "data": {
      "application/vnd.jupyter.widget-view+json": {
       "model_id": "",
       "version_major": 2,
       "version_minor": 0
      },
      "text/plain": [
       "IntProgress(value=0, max=87402)"
      ]
     },
     "metadata": {},
     "output_type": "display_data"
    },
    {
     "name": "stdout",
     "output_type": "stream",
     "text": [
      "train Loss: 0.2327\n",
      "[[41432  1417]\n",
      " [ 2280 42295]]\n",
      "Precision: 0.95\n",
      "Recall   : 0.97\n",
      "Accuracy : 0.96\n"
     ]
    },
    {
     "data": {
      "application/vnd.jupyter.widget-view+json": {
       "model_id": "",
       "version_major": 2,
       "version_minor": 0
      },
      "text/plain": [
       "IntProgress(value=0, max=11719)"
      ]
     },
     "metadata": {},
     "output_type": "display_data"
    },
    {
     "name": "stdout",
     "output_type": "stream",
     "text": [
      "val Loss: 0.0740\n",
      "[[10644    17]\n",
      " [  283   800]]\n",
      "Precision: 0.74\n",
      "Recall   : 0.98\n",
      "Accuracy : 0.97\n",
      "Current mode has been saved to keypress_recognition/current_black.tar ...\n",
      "\n",
      "Epoch 84/200\n"
     ]
    },
    {
     "data": {
      "application/vnd.jupyter.widget-view+json": {
       "model_id": "",
       "version_major": 2,
       "version_minor": 0
      },
      "text/plain": [
       "IntProgress(value=0, max=87402)"
      ]
     },
     "metadata": {},
     "output_type": "display_data"
    },
    {
     "name": "stdout",
     "output_type": "stream",
     "text": [
      "train Loss: 0.2333\n",
      "[[41447  1414]\n",
      " [ 2265 42298]]\n",
      "Precision: 0.95\n",
      "Recall   : 0.97\n",
      "Accuracy : 0.96\n"
     ]
    },
    {
     "data": {
      "application/vnd.jupyter.widget-view+json": {
       "model_id": "",
       "version_major": 2,
       "version_minor": 0
      },
      "text/plain": [
       "IntProgress(value=0, max=11719)"
      ]
     },
     "metadata": {},
     "output_type": "display_data"
    },
    {
     "name": "stdout",
     "output_type": "stream",
     "text": [
      "val Loss: 0.0738\n",
      "[[10634    15]\n",
      " [  293   802]]\n",
      "Precision: 0.73\n",
      "Recall   : 0.98\n",
      "Accuracy : 0.97\n",
      "Current mode has been saved to keypress_recognition/current_black.tar ...\n",
      "\n",
      "Epoch 85/200\n"
     ]
    },
    {
     "data": {
      "application/vnd.jupyter.widget-view+json": {
       "model_id": "",
       "version_major": 2,
       "version_minor": 0
      },
      "text/plain": [
       "IntProgress(value=0, max=87402)"
      ]
     },
     "metadata": {},
     "output_type": "display_data"
    },
    {
     "name": "stdout",
     "output_type": "stream",
     "text": [
      "train Loss: 0.2324\n",
      "[[41409  1410]\n",
      " [ 2303 42302]]\n",
      "Precision: 0.95\n",
      "Recall   : 0.97\n",
      "Accuracy : 0.96\n"
     ]
    },
    {
     "data": {
      "application/vnd.jupyter.widget-view+json": {
       "model_id": "",
       "version_major": 2,
       "version_minor": 0
      },
      "text/plain": [
       "IntProgress(value=0, max=11719)"
      ]
     },
     "metadata": {},
     "output_type": "display_data"
    },
    {
     "name": "stdout",
     "output_type": "stream",
     "text": [
      "val Loss: 0.0790\n",
      "[[10608    14]\n",
      " [  319   803]]\n",
      "Precision: 0.72\n",
      "Recall   : 0.98\n",
      "Accuracy : 0.97\n",
      "Current mode has been saved to keypress_recognition/current_black.tar ...\n",
      "\n",
      "Epoch 86/200\n"
     ]
    },
    {
     "data": {
      "application/vnd.jupyter.widget-view+json": {
       "model_id": "",
       "version_major": 2,
       "version_minor": 0
      },
      "text/plain": [
       "IntProgress(value=0, max=87402)"
      ]
     },
     "metadata": {},
     "output_type": "display_data"
    },
    {
     "name": "stdout",
     "output_type": "stream",
     "text": [
      "train Loss: 0.2325\n",
      "[[41433  1414]\n",
      " [ 2279 42298]]\n",
      "Precision: 0.95\n",
      "Recall   : 0.97\n",
      "Accuracy : 0.96\n"
     ]
    },
    {
     "data": {
      "application/vnd.jupyter.widget-view+json": {
       "model_id": "",
       "version_major": 2,
       "version_minor": 0
      },
      "text/plain": [
       "IntProgress(value=0, max=11719)"
      ]
     },
     "metadata": {},
     "output_type": "display_data"
    },
    {
     "name": "stdout",
     "output_type": "stream",
     "text": [
      "val Loss: 0.0754\n",
      "[[10625    14]\n",
      " [  302   803]]\n",
      "Precision: 0.73\n",
      "Recall   : 0.98\n",
      "Accuracy : 0.97\n",
      "Current mode has been saved to keypress_recognition/current_black.tar ...\n",
      "\n",
      "Epoch 87/200\n"
     ]
    },
    {
     "data": {
      "application/vnd.jupyter.widget-view+json": {
       "model_id": "",
       "version_major": 2,
       "version_minor": 0
      },
      "text/plain": [
       "IntProgress(value=0, max=87402)"
      ]
     },
     "metadata": {},
     "output_type": "display_data"
    },
    {
     "name": "stdout",
     "output_type": "stream",
     "text": [
      "train Loss: 0.2328\n",
      "[[41431  1391]\n",
      " [ 2281 42321]]\n",
      "Precision: 0.95\n",
      "Recall   : 0.97\n",
      "Accuracy : 0.96\n"
     ]
    },
    {
     "data": {
      "application/vnd.jupyter.widget-view+json": {
       "model_id": "",
       "version_major": 2,
       "version_minor": 0
      },
      "text/plain": [
       "IntProgress(value=0, max=11719)"
      ]
     },
     "metadata": {},
     "output_type": "display_data"
    },
    {
     "name": "stdout",
     "output_type": "stream",
     "text": [
      "val Loss: 0.0741\n",
      "[[10627    15]\n",
      " [  300   802]]\n",
      "Precision: 0.73\n",
      "Recall   : 0.98\n",
      "Accuracy : 0.97\n",
      "Current mode has been saved to keypress_recognition/current_black.tar ...\n",
      "\n",
      "Epoch 88/200\n"
     ]
    },
    {
     "data": {
      "application/vnd.jupyter.widget-view+json": {
       "model_id": "",
       "version_major": 2,
       "version_minor": 0
      },
      "text/plain": [
       "IntProgress(value=0, max=87402)"
      ]
     },
     "metadata": {},
     "output_type": "display_data"
    },
    {
     "name": "stdout",
     "output_type": "stream",
     "text": [
      "train Loss: 0.2329\n",
      "[[41406  1407]\n",
      " [ 2306 42305]]\n",
      "Precision: 0.95\n",
      "Recall   : 0.97\n",
      "Accuracy : 0.96\n"
     ]
    },
    {
     "data": {
      "application/vnd.jupyter.widget-view+json": {
       "model_id": "",
       "version_major": 2,
       "version_minor": 0
      },
      "text/plain": [
       "IntProgress(value=0, max=11719)"
      ]
     },
     "metadata": {},
     "output_type": "display_data"
    },
    {
     "name": "stdout",
     "output_type": "stream",
     "text": [
      "val Loss: 0.0817\n",
      "[[10594    11]\n",
      " [  333   806]]\n",
      "Precision: 0.71\n",
      "Recall   : 0.99\n",
      "Accuracy : 0.97\n",
      "Current mode has been saved to keypress_recognition/current_black.tar ...\n",
      "\n",
      "Epoch 89/200\n"
     ]
    },
    {
     "data": {
      "application/vnd.jupyter.widget-view+json": {
       "model_id": "",
       "version_major": 2,
       "version_minor": 0
      },
      "text/plain": [
       "IntProgress(value=0, max=87402)"
      ]
     },
     "metadata": {},
     "output_type": "display_data"
    },
    {
     "name": "stdout",
     "output_type": "stream",
     "text": [
      "train Loss: 0.2325\n",
      "[[41445  1407]\n",
      " [ 2267 42305]]\n",
      "Precision: 0.95\n",
      "Recall   : 0.97\n",
      "Accuracy : 0.96\n"
     ]
    },
    {
     "data": {
      "application/vnd.jupyter.widget-view+json": {
       "model_id": "",
       "version_major": 2,
       "version_minor": 0
      },
      "text/plain": [
       "IntProgress(value=0, max=11719)"
      ]
     },
     "metadata": {},
     "output_type": "display_data"
    },
    {
     "name": "stdout",
     "output_type": "stream",
     "text": [
      "val Loss: 0.0885\n",
      "[[10567    11]\n",
      " [  360   806]]\n",
      "Precision: 0.69\n",
      "Recall   : 0.99\n",
      "Accuracy : 0.97\n",
      "Current mode has been saved to keypress_recognition/current_black.tar ...\n",
      "\n",
      "Epoch 90/200\n"
     ]
    },
    {
     "data": {
      "application/vnd.jupyter.widget-view+json": {
       "model_id": "",
       "version_major": 2,
       "version_minor": 0
      },
      "text/plain": [
       "IntProgress(value=0, max=87402)"
      ]
     },
     "metadata": {},
     "output_type": "display_data"
    },
    {
     "name": "stdout",
     "output_type": "stream",
     "text": [
      "train Loss: 0.2323\n",
      "[[41407  1392]\n",
      " [ 2305 42320]]\n",
      "Precision: 0.95\n",
      "Recall   : 0.97\n",
      "Accuracy : 0.96\n"
     ]
    },
    {
     "data": {
      "application/vnd.jupyter.widget-view+json": {
       "model_id": "",
       "version_major": 2,
       "version_minor": 0
      },
      "text/plain": [
       "IntProgress(value=0, max=11719)"
      ]
     },
     "metadata": {},
     "output_type": "display_data"
    },
    {
     "name": "stdout",
     "output_type": "stream",
     "text": [
      "val Loss: 0.0742\n",
      "[[10632    15]\n",
      " [  295   802]]\n",
      "Precision: 0.73\n",
      "Recall   : 0.98\n",
      "Accuracy : 0.97\n",
      "Current mode has been saved to keypress_recognition/current_black.tar ...\n",
      "\n",
      "Epoch 91/200\n"
     ]
    },
    {
     "data": {
      "application/vnd.jupyter.widget-view+json": {
       "model_id": "",
       "version_major": 2,
       "version_minor": 0
      },
      "text/plain": [
       "IntProgress(value=0, max=87402)"
      ]
     },
     "metadata": {},
     "output_type": "display_data"
    },
    {
     "name": "stdout",
     "output_type": "stream",
     "text": [
      "train Loss: 0.2319\n",
      "[[41439  1402]\n",
      " [ 2273 42310]]\n",
      "Precision: 0.95\n",
      "Recall   : 0.97\n",
      "Accuracy : 0.96\n"
     ]
    },
    {
     "data": {
      "application/vnd.jupyter.widget-view+json": {
       "model_id": "",
       "version_major": 2,
       "version_minor": 0
      },
      "text/plain": [
       "IntProgress(value=0, max=11719)"
      ]
     },
     "metadata": {},
     "output_type": "display_data"
    },
    {
     "name": "stdout",
     "output_type": "stream",
     "text": [
      "val Loss: 0.0757\n",
      "[[10624    15]\n",
      " [  303   802]]\n",
      "Precision: 0.73\n",
      "Recall   : 0.98\n",
      "Accuracy : 0.97\n",
      "Current mode has been saved to keypress_recognition/current_black.tar ...\n",
      "\n",
      "Epoch 92/200\n"
     ]
    },
    {
     "data": {
      "application/vnd.jupyter.widget-view+json": {
       "model_id": "",
       "version_major": 2,
       "version_minor": 0
      },
      "text/plain": [
       "IntProgress(value=0, max=87402)"
      ]
     },
     "metadata": {},
     "output_type": "display_data"
    },
    {
     "name": "stdout",
     "output_type": "stream",
     "text": [
      "train Loss: 0.2325\n",
      "[[41439  1412]\n",
      " [ 2273 42300]]\n",
      "Precision: 0.95\n",
      "Recall   : 0.97\n",
      "Accuracy : 0.96\n"
     ]
    },
    {
     "data": {
      "application/vnd.jupyter.widget-view+json": {
       "model_id": "",
       "version_major": 2,
       "version_minor": 0
      },
      "text/plain": [
       "IntProgress(value=0, max=11719)"
      ]
     },
     "metadata": {},
     "output_type": "display_data"
    },
    {
     "name": "stdout",
     "output_type": "stream",
     "text": [
      "val Loss: 0.0742\n",
      "[[10632    14]\n",
      " [  295   803]]\n",
      "Precision: 0.73\n",
      "Recall   : 0.98\n",
      "Accuracy : 0.97\n",
      "Current mode has been saved to keypress_recognition/current_black.tar ...\n",
      "\n",
      "Epoch 93/200\n"
     ]
    },
    {
     "data": {
      "application/vnd.jupyter.widget-view+json": {
       "model_id": "",
       "version_major": 2,
       "version_minor": 0
      },
      "text/plain": [
       "IntProgress(value=0, max=87402)"
      ]
     },
     "metadata": {},
     "output_type": "display_data"
    },
    {
     "name": "stdout",
     "output_type": "stream",
     "text": [
      "train Loss: 0.2322\n",
      "[[41442  1393]\n",
      " [ 2270 42319]]\n",
      "Precision: 0.95\n",
      "Recall   : 0.97\n",
      "Accuracy : 0.96\n"
     ]
    },
    {
     "data": {
      "application/vnd.jupyter.widget-view+json": {
       "model_id": "",
       "version_major": 2,
       "version_minor": 0
      },
      "text/plain": [
       "IntProgress(value=0, max=11719)"
      ]
     },
     "metadata": {},
     "output_type": "display_data"
    },
    {
     "name": "stdout",
     "output_type": "stream",
     "text": [
      "val Loss: 0.0760\n",
      "[[10627    14]\n",
      " [  300   803]]\n",
      "Precision: 0.73\n",
      "Recall   : 0.98\n",
      "Accuracy : 0.97\n",
      "Current mode has been saved to keypress_recognition/current_black.tar ...\n",
      "\n",
      "Epoch 94/200\n"
     ]
    },
    {
     "data": {
      "application/vnd.jupyter.widget-view+json": {
       "model_id": "",
       "version_major": 2,
       "version_minor": 0
      },
      "text/plain": [
       "IntProgress(value=0, max=87402)"
      ]
     },
     "metadata": {},
     "output_type": "display_data"
    },
    {
     "name": "stdout",
     "output_type": "stream",
     "text": [
      "train Loss: 0.2327\n",
      "[[41435  1415]\n",
      " [ 2277 42297]]\n",
      "Precision: 0.95\n",
      "Recall   : 0.97\n",
      "Accuracy : 0.96\n"
     ]
    },
    {
     "data": {
      "application/vnd.jupyter.widget-view+json": {
       "model_id": "",
       "version_major": 2,
       "version_minor": 0
      },
      "text/plain": [
       "IntProgress(value=0, max=11719)"
      ]
     },
     "metadata": {},
     "output_type": "display_data"
    },
    {
     "name": "stdout",
     "output_type": "stream",
     "text": [
      "val Loss: 0.0758\n",
      "[[10614    15]\n",
      " [  313   802]]\n",
      "Precision: 0.72\n",
      "Recall   : 0.98\n",
      "Accuracy : 0.97\n",
      "Current mode has been saved to keypress_recognition/current_black.tar ...\n",
      "\n",
      "Epoch 95/200\n"
     ]
    },
    {
     "data": {
      "application/vnd.jupyter.widget-view+json": {
       "model_id": "",
       "version_major": 2,
       "version_minor": 0
      },
      "text/plain": [
       "IntProgress(value=0, max=87402)"
      ]
     },
     "metadata": {},
     "output_type": "display_data"
    },
    {
     "name": "stdout",
     "output_type": "stream",
     "text": [
      "train Loss: 0.2329\n",
      "[[41445  1416]\n",
      " [ 2267 42296]]\n",
      "Precision: 0.95\n",
      "Recall   : 0.97\n",
      "Accuracy : 0.96\n"
     ]
    },
    {
     "data": {
      "application/vnd.jupyter.widget-view+json": {
       "model_id": "",
       "version_major": 2,
       "version_minor": 0
      },
      "text/plain": [
       "IntProgress(value=0, max=11719)"
      ]
     },
     "metadata": {},
     "output_type": "display_data"
    },
    {
     "name": "stdout",
     "output_type": "stream",
     "text": [
      "val Loss: 0.0747\n",
      "[[10630    14]\n",
      " [  297   803]]\n",
      "Precision: 0.73\n",
      "Recall   : 0.98\n",
      "Accuracy : 0.97\n",
      "Current mode has been saved to keypress_recognition/current_black.tar ...\n",
      "\n",
      "Epoch 96/200\n"
     ]
    },
    {
     "data": {
      "application/vnd.jupyter.widget-view+json": {
       "model_id": "",
       "version_major": 2,
       "version_minor": 0
      },
      "text/plain": [
       "IntProgress(value=0, max=87402)"
      ]
     },
     "metadata": {},
     "output_type": "display_data"
    },
    {
     "name": "stdout",
     "output_type": "stream",
     "text": [
      "train Loss: 0.2322\n",
      "[[41447  1416]\n",
      " [ 2265 42296]]\n",
      "Precision: 0.95\n",
      "Recall   : 0.97\n",
      "Accuracy : 0.96\n"
     ]
    },
    {
     "data": {
      "application/vnd.jupyter.widget-view+json": {
       "model_id": "",
       "version_major": 2,
       "version_minor": 0
      },
      "text/plain": [
       "IntProgress(value=0, max=11719)"
      ]
     },
     "metadata": {},
     "output_type": "display_data"
    },
    {
     "name": "stdout",
     "output_type": "stream",
     "text": [
      "val Loss: 0.0694\n",
      "[[10673    19]\n",
      " [  254   798]]\n",
      "Precision: 0.76\n",
      "Recall   : 0.98\n",
      "Accuracy : 0.98\n",
      "Current mode has been saved to keypress_recognition/current_black.tar ...\n",
      "\n",
      "Epoch 97/200\n"
     ]
    },
    {
     "data": {
      "application/vnd.jupyter.widget-view+json": {
       "model_id": "",
       "version_major": 2,
       "version_minor": 0
      },
      "text/plain": [
       "IntProgress(value=0, max=87402)"
      ]
     },
     "metadata": {},
     "output_type": "display_data"
    },
    {
     "name": "stdout",
     "output_type": "stream",
     "text": [
      "train Loss: 0.2319\n",
      "[[41452  1393]\n",
      " [ 2260 42319]]\n",
      "Precision: 0.95\n",
      "Recall   : 0.97\n",
      "Accuracy : 0.96\n"
     ]
    },
    {
     "data": {
      "application/vnd.jupyter.widget-view+json": {
       "model_id": "",
       "version_major": 2,
       "version_minor": 0
      },
      "text/plain": [
       "IntProgress(value=0, max=11719)"
      ]
     },
     "metadata": {},
     "output_type": "display_data"
    },
    {
     "name": "stdout",
     "output_type": "stream",
     "text": [
      "val Loss: 0.0772\n",
      "[[10619    13]\n",
      " [  308   804]]\n",
      "Precision: 0.72\n",
      "Recall   : 0.98\n",
      "Accuracy : 0.97\n",
      "Current mode has been saved to keypress_recognition/current_black.tar ...\n",
      "\n",
      "Epoch 98/200\n"
     ]
    },
    {
     "data": {
      "application/vnd.jupyter.widget-view+json": {
       "model_id": "",
       "version_major": 2,
       "version_minor": 0
      },
      "text/plain": [
       "IntProgress(value=0, max=87402)"
      ]
     },
     "metadata": {},
     "output_type": "display_data"
    },
    {
     "name": "stdout",
     "output_type": "stream",
     "text": [
      "train Loss: 0.2321\n",
      "[[41447  1412]\n",
      " [ 2265 42300]]\n",
      "Precision: 0.95\n",
      "Recall   : 0.97\n",
      "Accuracy : 0.96\n"
     ]
    },
    {
     "data": {
      "application/vnd.jupyter.widget-view+json": {
       "model_id": "",
       "version_major": 2,
       "version_minor": 0
      },
      "text/plain": [
       "IntProgress(value=0, max=11719)"
      ]
     },
     "metadata": {},
     "output_type": "display_data"
    },
    {
     "name": "stdout",
     "output_type": "stream",
     "text": [
      "val Loss: 0.0806\n",
      "[[10595    12]\n",
      " [  332   805]]\n",
      "Precision: 0.71\n",
      "Recall   : 0.99\n",
      "Accuracy : 0.97\n",
      "Current mode has been saved to keypress_recognition/current_black.tar ...\n",
      "\n",
      "Epoch 99/200\n"
     ]
    },
    {
     "data": {
      "application/vnd.jupyter.widget-view+json": {
       "model_id": "",
       "version_major": 2,
       "version_minor": 0
      },
      "text/plain": [
       "IntProgress(value=0, max=87402)"
      ]
     },
     "metadata": {},
     "output_type": "display_data"
    },
    {
     "name": "stdout",
     "output_type": "stream",
     "text": [
      "train Loss: 0.2317\n",
      "[[41434  1397]\n",
      " [ 2278 42315]]\n",
      "Precision: 0.95\n",
      "Recall   : 0.97\n",
      "Accuracy : 0.96\n"
     ]
    },
    {
     "data": {
      "application/vnd.jupyter.widget-view+json": {
       "model_id": "",
       "version_major": 2,
       "version_minor": 0
      },
      "text/plain": [
       "IntProgress(value=0, max=11719)"
      ]
     },
     "metadata": {},
     "output_type": "display_data"
    },
    {
     "name": "stdout",
     "output_type": "stream",
     "text": [
      "val Loss: 0.0735\n",
      "[[10635    16]\n",
      " [  292   801]]\n",
      "Precision: 0.73\n",
      "Recall   : 0.98\n",
      "Accuracy : 0.97\n",
      "Current mode has been saved to keypress_recognition/current_black.tar ...\n",
      "\n",
      "Epoch 100/200\n"
     ]
    },
    {
     "data": {
      "application/vnd.jupyter.widget-view+json": {
       "model_id": "",
       "version_major": 2,
       "version_minor": 0
      },
      "text/plain": [
       "IntProgress(value=0, max=87402)"
      ]
     },
     "metadata": {},
     "output_type": "display_data"
    },
    {
     "name": "stdout",
     "output_type": "stream",
     "text": [
      "train Loss: 0.2322\n",
      "[[41434  1423]\n",
      " [ 2278 42289]]\n",
      "Precision: 0.95\n",
      "Recall   : 0.97\n",
      "Accuracy : 0.96\n"
     ]
    },
    {
     "data": {
      "application/vnd.jupyter.widget-view+json": {
       "model_id": "",
       "version_major": 2,
       "version_minor": 0
      },
      "text/plain": [
       "IntProgress(value=0, max=11719)"
      ]
     },
     "metadata": {},
     "output_type": "display_data"
    },
    {
     "name": "stdout",
     "output_type": "stream",
     "text": [
      "val Loss: 0.0763\n",
      "[[10622    14]\n",
      " [  305   803]]\n",
      "Precision: 0.72\n",
      "Recall   : 0.98\n",
      "Accuracy : 0.97\n",
      "Current mode has been saved to keypress_recognition/current_black.tar ...\n",
      "\n",
      "Epoch 101/200\n"
     ]
    },
    {
     "data": {
      "application/vnd.jupyter.widget-view+json": {
       "model_id": "",
       "version_major": 2,
       "version_minor": 0
      },
      "text/plain": [
       "IntProgress(value=0, max=87402)"
      ]
     },
     "metadata": {},
     "output_type": "display_data"
    },
    {
     "name": "stdout",
     "output_type": "stream",
     "text": [
      "train Loss: 0.2318\n",
      "[[41440  1432]\n",
      " [ 2272 42280]]\n",
      "Precision: 0.95\n",
      "Recall   : 0.97\n",
      "Accuracy : 0.96\n"
     ]
    },
    {
     "data": {
      "application/vnd.jupyter.widget-view+json": {
       "model_id": "",
       "version_major": 2,
       "version_minor": 0
      },
      "text/plain": [
       "IntProgress(value=0, max=11719)"
      ]
     },
     "metadata": {},
     "output_type": "display_data"
    },
    {
     "name": "stdout",
     "output_type": "stream",
     "text": [
      "val Loss: 0.0770\n",
      "[[10613    14]\n",
      " [  314   803]]\n",
      "Precision: 0.72\n",
      "Recall   : 0.98\n",
      "Accuracy : 0.97\n",
      "Current mode has been saved to keypress_recognition/current_black.tar ...\n",
      "\n",
      "Epoch 102/200\n"
     ]
    },
    {
     "data": {
      "application/vnd.jupyter.widget-view+json": {
       "model_id": "",
       "version_major": 2,
       "version_minor": 0
      },
      "text/plain": [
       "IntProgress(value=0, max=87402)"
      ]
     },
     "metadata": {},
     "output_type": "display_data"
    },
    {
     "name": "stdout",
     "output_type": "stream",
     "text": [
      "train Loss: 0.2309\n",
      "[[41431  1392]\n",
      " [ 2281 42320]]\n",
      "Precision: 0.95\n",
      "Recall   : 0.97\n",
      "Accuracy : 0.96\n"
     ]
    },
    {
     "data": {
      "application/vnd.jupyter.widget-view+json": {
       "model_id": "",
       "version_major": 2,
       "version_minor": 0
      },
      "text/plain": [
       "IntProgress(value=0, max=11719)"
      ]
     },
     "metadata": {},
     "output_type": "display_data"
    },
    {
     "name": "stdout",
     "output_type": "stream",
     "text": [
      "val Loss: 0.0788\n",
      "[[10601    13]\n",
      " [  326   804]]\n",
      "Precision: 0.71\n",
      "Recall   : 0.98\n",
      "Accuracy : 0.97\n",
      "Current mode has been saved to keypress_recognition/current_black.tar ...\n",
      "\n",
      "Epoch 103/200\n"
     ]
    },
    {
     "data": {
      "application/vnd.jupyter.widget-view+json": {
       "model_id": "",
       "version_major": 2,
       "version_minor": 0
      },
      "text/plain": [
       "IntProgress(value=0, max=87402)"
      ]
     },
     "metadata": {},
     "output_type": "display_data"
    },
    {
     "name": "stdout",
     "output_type": "stream",
     "text": [
      "train Loss: 0.2310\n",
      "[[41429  1403]\n",
      " [ 2283 42309]]\n",
      "Precision: 0.95\n",
      "Recall   : 0.97\n",
      "Accuracy : 0.96\n"
     ]
    },
    {
     "data": {
      "application/vnd.jupyter.widget-view+json": {
       "model_id": "",
       "version_major": 2,
       "version_minor": 0
      },
      "text/plain": [
       "IntProgress(value=0, max=11719)"
      ]
     },
     "metadata": {},
     "output_type": "display_data"
    },
    {
     "name": "stdout",
     "output_type": "stream",
     "text": [
      "val Loss: 0.0745\n",
      "[[10625    13]\n",
      " [  302   804]]\n",
      "Precision: 0.73\n",
      "Recall   : 0.98\n",
      "Accuracy : 0.97\n",
      "Current mode has been saved to keypress_recognition/current_black.tar ...\n",
      "\n",
      "Epoch 104/200\n"
     ]
    },
    {
     "data": {
      "application/vnd.jupyter.widget-view+json": {
       "model_id": "",
       "version_major": 2,
       "version_minor": 0
      },
      "text/plain": [
       "IntProgress(value=0, max=87402)"
      ]
     },
     "metadata": {},
     "output_type": "display_data"
    },
    {
     "name": "stdout",
     "output_type": "stream",
     "text": [
      "train Loss: 0.2315\n",
      "[[41437  1396]\n",
      " [ 2275 42316]]\n",
      "Precision: 0.95\n",
      "Recall   : 0.97\n",
      "Accuracy : 0.96\n"
     ]
    },
    {
     "data": {
      "application/vnd.jupyter.widget-view+json": {
       "model_id": "",
       "version_major": 2,
       "version_minor": 0
      },
      "text/plain": [
       "IntProgress(value=0, max=11719)"
      ]
     },
     "metadata": {},
     "output_type": "display_data"
    },
    {
     "name": "stdout",
     "output_type": "stream",
     "text": [
      "val Loss: 0.0773\n",
      "[[10621    14]\n",
      " [  306   803]]\n",
      "Precision: 0.72\n",
      "Recall   : 0.98\n",
      "Accuracy : 0.97\n",
      "Current mode has been saved to keypress_recognition/current_black.tar ...\n",
      "\n",
      "Epoch 105/200\n"
     ]
    },
    {
     "data": {
      "application/vnd.jupyter.widget-view+json": {
       "model_id": "",
       "version_major": 2,
       "version_minor": 0
      },
      "text/plain": [
       "IntProgress(value=0, max=87402)"
      ]
     },
     "metadata": {},
     "output_type": "display_data"
    },
    {
     "name": "stdout",
     "output_type": "stream",
     "text": [
      "train Loss: 0.2314\n",
      "[[41441  1417]\n",
      " [ 2271 42295]]\n",
      "Precision: 0.95\n",
      "Recall   : 0.97\n",
      "Accuracy : 0.96\n"
     ]
    },
    {
     "data": {
      "application/vnd.jupyter.widget-view+json": {
       "model_id": "",
       "version_major": 2,
       "version_minor": 0
      },
      "text/plain": [
       "IntProgress(value=0, max=11719)"
      ]
     },
     "metadata": {},
     "output_type": "display_data"
    },
    {
     "name": "stdout",
     "output_type": "stream",
     "text": [
      "val Loss: 0.0746\n",
      "[[10622    15]\n",
      " [  305   802]]\n",
      "Precision: 0.72\n",
      "Recall   : 0.98\n",
      "Accuracy : 0.97\n",
      "Current mode has been saved to keypress_recognition/current_black.tar ...\n",
      "\n",
      "Epoch 106/200\n"
     ]
    },
    {
     "data": {
      "application/vnd.jupyter.widget-view+json": {
       "model_id": "",
       "version_major": 2,
       "version_minor": 0
      },
      "text/plain": [
       "IntProgress(value=0, max=87402)"
      ]
     },
     "metadata": {},
     "output_type": "display_data"
    },
    {
     "name": "stdout",
     "output_type": "stream",
     "text": [
      "train Loss: 0.2311\n",
      "[[41433  1399]\n",
      " [ 2279 42313]]\n",
      "Precision: 0.95\n",
      "Recall   : 0.97\n",
      "Accuracy : 0.96\n"
     ]
    },
    {
     "data": {
      "application/vnd.jupyter.widget-view+json": {
       "model_id": "",
       "version_major": 2,
       "version_minor": 0
      },
      "text/plain": [
       "IntProgress(value=0, max=11719)"
      ]
     },
     "metadata": {},
     "output_type": "display_data"
    },
    {
     "name": "stdout",
     "output_type": "stream",
     "text": [
      "val Loss: 0.0716\n",
      "[[10646    17]\n",
      " [  281   800]]\n",
      "Precision: 0.74\n",
      "Recall   : 0.98\n",
      "Accuracy : 0.97\n",
      "Current mode has been saved to keypress_recognition/current_black.tar ...\n",
      "\n",
      "Epoch 107/200\n"
     ]
    },
    {
     "data": {
      "application/vnd.jupyter.widget-view+json": {
       "model_id": "",
       "version_major": 2,
       "version_minor": 0
      },
      "text/plain": [
       "IntProgress(value=0, max=87402)"
      ]
     },
     "metadata": {},
     "output_type": "display_data"
    },
    {
     "name": "stdout",
     "output_type": "stream",
     "text": [
      "train Loss: 0.2311\n",
      "[[41483  1415]\n",
      " [ 2229 42297]]\n",
      "Precision: 0.95\n",
      "Recall   : 0.97\n",
      "Accuracy : 0.96\n"
     ]
    },
    {
     "data": {
      "application/vnd.jupyter.widget-view+json": {
       "model_id": "",
       "version_major": 2,
       "version_minor": 0
      },
      "text/plain": [
       "IntProgress(value=0, max=11719)"
      ]
     },
     "metadata": {},
     "output_type": "display_data"
    },
    {
     "name": "stdout",
     "output_type": "stream",
     "text": [
      "val Loss: 0.0776\n",
      "[[10610    13]\n",
      " [  317   804]]\n",
      "Precision: 0.72\n",
      "Recall   : 0.98\n",
      "Accuracy : 0.97\n",
      "Current mode has been saved to keypress_recognition/current_black.tar ...\n",
      "\n",
      "Epoch 108/200\n"
     ]
    },
    {
     "data": {
      "application/vnd.jupyter.widget-view+json": {
       "model_id": "",
       "version_major": 2,
       "version_minor": 0
      },
      "text/plain": [
       "IntProgress(value=0, max=87402)"
      ]
     },
     "metadata": {},
     "output_type": "display_data"
    },
    {
     "name": "stdout",
     "output_type": "stream",
     "text": [
      "train Loss: 0.2316\n",
      "[[41423  1403]\n",
      " [ 2289 42309]]\n",
      "Precision: 0.95\n",
      "Recall   : 0.97\n",
      "Accuracy : 0.96\n"
     ]
    },
    {
     "data": {
      "application/vnd.jupyter.widget-view+json": {
       "model_id": "",
       "version_major": 2,
       "version_minor": 0
      },
      "text/plain": [
       "IntProgress(value=0, max=11719)"
      ]
     },
     "metadata": {},
     "output_type": "display_data"
    },
    {
     "name": "stdout",
     "output_type": "stream",
     "text": [
      "val Loss: 0.0746\n",
      "[[10623    14]\n",
      " [  304   803]]\n",
      "Precision: 0.73\n",
      "Recall   : 0.98\n",
      "Accuracy : 0.97\n",
      "Current mode has been saved to keypress_recognition/current_black.tar ...\n",
      "\n",
      "Epoch 109/200\n"
     ]
    },
    {
     "data": {
      "application/vnd.jupyter.widget-view+json": {
       "model_id": "",
       "version_major": 2,
       "version_minor": 0
      },
      "text/plain": [
       "IntProgress(value=0, max=87402)"
      ]
     },
     "metadata": {},
     "output_type": "display_data"
    },
    {
     "name": "stdout",
     "output_type": "stream",
     "text": [
      "train Loss: 0.2313\n",
      "[[41438  1399]\n",
      " [ 2274 42313]]\n",
      "Precision: 0.95\n",
      "Recall   : 0.97\n",
      "Accuracy : 0.96\n"
     ]
    },
    {
     "data": {
      "application/vnd.jupyter.widget-view+json": {
       "model_id": "",
       "version_major": 2,
       "version_minor": 0
      },
      "text/plain": [
       "IntProgress(value=0, max=11719)"
      ]
     },
     "metadata": {},
     "output_type": "display_data"
    },
    {
     "name": "stdout",
     "output_type": "stream",
     "text": [
      "val Loss: 0.0801\n",
      "[[10598    13]\n",
      " [  329   804]]\n",
      "Precision: 0.71\n",
      "Recall   : 0.98\n",
      "Accuracy : 0.97\n",
      "Current mode has been saved to keypress_recognition/current_black.tar ...\n",
      "\n",
      "Epoch 110/200\n"
     ]
    },
    {
     "data": {
      "application/vnd.jupyter.widget-view+json": {
       "model_id": "",
       "version_major": 2,
       "version_minor": 0
      },
      "text/plain": [
       "IntProgress(value=0, max=87402)"
      ]
     },
     "metadata": {},
     "output_type": "display_data"
    },
    {
     "name": "stdout",
     "output_type": "stream",
     "text": [
      "train Loss: 0.2313\n",
      "[[41443  1395]\n",
      " [ 2269 42317]]\n",
      "Precision: 0.95\n",
      "Recall   : 0.97\n",
      "Accuracy : 0.96\n"
     ]
    },
    {
     "data": {
      "application/vnd.jupyter.widget-view+json": {
       "model_id": "",
       "version_major": 2,
       "version_minor": 0
      },
      "text/plain": [
       "IntProgress(value=0, max=11719)"
      ]
     },
     "metadata": {},
     "output_type": "display_data"
    },
    {
     "name": "stdout",
     "output_type": "stream",
     "text": [
      "val Loss: 0.0776\n",
      "[[10610    14]\n",
      " [  317   803]]\n",
      "Precision: 0.72\n",
      "Recall   : 0.98\n",
      "Accuracy : 0.97\n",
      "Current mode has been saved to keypress_recognition/current_black.tar ...\n",
      "\n",
      "Epoch 111/200\n"
     ]
    },
    {
     "data": {
      "application/vnd.jupyter.widget-view+json": {
       "model_id": "",
       "version_major": 2,
       "version_minor": 0
      },
      "text/plain": [
       "IntProgress(value=0, max=87402)"
      ]
     },
     "metadata": {},
     "output_type": "display_data"
    },
    {
     "name": "stdout",
     "output_type": "stream",
     "text": [
      "train Loss: 0.2314\n",
      "[[41449  1404]\n",
      " [ 2263 42308]]\n",
      "Precision: 0.95\n",
      "Recall   : 0.97\n",
      "Accuracy : 0.96\n"
     ]
    },
    {
     "data": {
      "application/vnd.jupyter.widget-view+json": {
       "model_id": "",
       "version_major": 2,
       "version_minor": 0
      },
      "text/plain": [
       "IntProgress(value=0, max=11719)"
      ]
     },
     "metadata": {},
     "output_type": "display_data"
    },
    {
     "name": "stdout",
     "output_type": "stream",
     "text": [
      "val Loss: 0.0750\n",
      "[[10628    14]\n",
      " [  299   803]]\n",
      "Precision: 0.73\n",
      "Recall   : 0.98\n",
      "Accuracy : 0.97\n",
      "Current mode has been saved to keypress_recognition/current_black.tar ...\n",
      "\n",
      "Epoch 112/200\n"
     ]
    },
    {
     "data": {
      "application/vnd.jupyter.widget-view+json": {
       "model_id": "",
       "version_major": 2,
       "version_minor": 0
      },
      "text/plain": [
       "IntProgress(value=0, max=87402)"
      ]
     },
     "metadata": {},
     "output_type": "display_data"
    },
    {
     "name": "stdout",
     "output_type": "stream",
     "text": [
      "train Loss: 0.2311\n",
      "[[41451  1394]\n",
      " [ 2261 42318]]\n",
      "Precision: 0.95\n",
      "Recall   : 0.97\n",
      "Accuracy : 0.96\n"
     ]
    },
    {
     "data": {
      "application/vnd.jupyter.widget-view+json": {
       "model_id": "",
       "version_major": 2,
       "version_minor": 0
      },
      "text/plain": [
       "IntProgress(value=0, max=11719)"
      ]
     },
     "metadata": {},
     "output_type": "display_data"
    },
    {
     "name": "stdout",
     "output_type": "stream",
     "text": [
      "val Loss: 0.0796\n",
      "[[10602    13]\n",
      " [  325   804]]\n",
      "Precision: 0.71\n",
      "Recall   : 0.98\n",
      "Accuracy : 0.97\n",
      "Current mode has been saved to keypress_recognition/current_black.tar ...\n",
      "\n",
      "Epoch 113/200\n"
     ]
    },
    {
     "data": {
      "application/vnd.jupyter.widget-view+json": {
       "model_id": "",
       "version_major": 2,
       "version_minor": 0
      },
      "text/plain": [
       "IntProgress(value=0, max=87402)"
      ]
     },
     "metadata": {},
     "output_type": "display_data"
    },
    {
     "name": "stdout",
     "output_type": "stream",
     "text": [
      "train Loss: 0.2318\n",
      "[[41442  1389]\n",
      " [ 2270 42323]]\n",
      "Precision: 0.95\n",
      "Recall   : 0.97\n",
      "Accuracy : 0.96\n"
     ]
    },
    {
     "data": {
      "application/vnd.jupyter.widget-view+json": {
       "model_id": "",
       "version_major": 2,
       "version_minor": 0
      },
      "text/plain": [
       "IntProgress(value=0, max=11719)"
      ]
     },
     "metadata": {},
     "output_type": "display_data"
    },
    {
     "name": "stdout",
     "output_type": "stream",
     "text": [
      "val Loss: 0.0724\n",
      "[[10647    15]\n",
      " [  280   802]]\n",
      "Precision: 0.74\n",
      "Recall   : 0.98\n",
      "Accuracy : 0.97\n",
      "Current mode has been saved to keypress_recognition/current_black.tar ...\n",
      "\n",
      "Epoch 114/200\n"
     ]
    },
    {
     "data": {
      "application/vnd.jupyter.widget-view+json": {
       "model_id": "",
       "version_major": 2,
       "version_minor": 0
      },
      "text/plain": [
       "IntProgress(value=0, max=87402)"
      ]
     },
     "metadata": {},
     "output_type": "display_data"
    },
    {
     "name": "stdout",
     "output_type": "stream",
     "text": [
      "train Loss: 0.2319\n",
      "[[41446  1397]\n",
      " [ 2266 42315]]\n",
      "Precision: 0.95\n",
      "Recall   : 0.97\n",
      "Accuracy : 0.96\n"
     ]
    },
    {
     "data": {
      "application/vnd.jupyter.widget-view+json": {
       "model_id": "",
       "version_major": 2,
       "version_minor": 0
      },
      "text/plain": [
       "IntProgress(value=0, max=11719)"
      ]
     },
     "metadata": {},
     "output_type": "display_data"
    },
    {
     "name": "stdout",
     "output_type": "stream",
     "text": [
      "val Loss: 0.0731\n",
      "[[10643    15]\n",
      " [  284   802]]\n",
      "Precision: 0.74\n",
      "Recall   : 0.98\n",
      "Accuracy : 0.97\n",
      "Current mode has been saved to keypress_recognition/current_black.tar ...\n",
      "\n",
      "Epoch 115/200\n"
     ]
    },
    {
     "data": {
      "application/vnd.jupyter.widget-view+json": {
       "model_id": "",
       "version_major": 2,
       "version_minor": 0
      },
      "text/plain": [
       "IntProgress(value=0, max=87402)"
      ]
     },
     "metadata": {},
     "output_type": "display_data"
    },
    {
     "name": "stdout",
     "output_type": "stream",
     "text": [
      "train Loss: 0.2312\n",
      "[[41458  1401]\n",
      " [ 2254 42311]]\n",
      "Precision: 0.95\n",
      "Recall   : 0.97\n",
      "Accuracy : 0.96\n"
     ]
    },
    {
     "data": {
      "application/vnd.jupyter.widget-view+json": {
       "model_id": "",
       "version_major": 2,
       "version_minor": 0
      },
      "text/plain": [
       "IntProgress(value=0, max=11719)"
      ]
     },
     "metadata": {},
     "output_type": "display_data"
    },
    {
     "name": "stdout",
     "output_type": "stream",
     "text": [
      "val Loss: 0.0719\n",
      "[[10644    15]\n",
      " [  283   802]]\n",
      "Precision: 0.74\n",
      "Recall   : 0.98\n",
      "Accuracy : 0.97\n",
      "Current mode has been saved to keypress_recognition/current_black.tar ...\n",
      "\n",
      "Epoch 116/200\n"
     ]
    },
    {
     "data": {
      "application/vnd.jupyter.widget-view+json": {
       "model_id": "",
       "version_major": 2,
       "version_minor": 0
      },
      "text/plain": [
       "IntProgress(value=0, max=87402)"
      ]
     },
     "metadata": {},
     "output_type": "display_data"
    },
    {
     "name": "stdout",
     "output_type": "stream",
     "text": [
      "train Loss: 0.2302\n",
      "[[41442  1411]\n",
      " [ 2270 42301]]\n",
      "Precision: 0.95\n",
      "Recall   : 0.97\n",
      "Accuracy : 0.96\n"
     ]
    },
    {
     "data": {
      "application/vnd.jupyter.widget-view+json": {
       "model_id": "",
       "version_major": 2,
       "version_minor": 0
      },
      "text/plain": [
       "IntProgress(value=0, max=11719)"
      ]
     },
     "metadata": {},
     "output_type": "display_data"
    },
    {
     "name": "stdout",
     "output_type": "stream",
     "text": [
      "val Loss: 0.0735\n",
      "[[10633    15]\n",
      " [  294   802]]\n",
      "Precision: 0.73\n",
      "Recall   : 0.98\n",
      "Accuracy : 0.97\n",
      "Current mode has been saved to keypress_recognition/current_black.tar ...\n",
      "\n",
      "Epoch 117/200\n"
     ]
    },
    {
     "data": {
      "application/vnd.jupyter.widget-view+json": {
       "model_id": "",
       "version_major": 2,
       "version_minor": 0
      },
      "text/plain": [
       "IntProgress(value=0, max=87402)"
      ]
     },
     "metadata": {},
     "output_type": "display_data"
    },
    {
     "name": "stdout",
     "output_type": "stream",
     "text": [
      "train Loss: 0.2310\n",
      "[[41449  1404]\n",
      " [ 2263 42308]]\n",
      "Precision: 0.95\n",
      "Recall   : 0.97\n",
      "Accuracy : 0.96\n"
     ]
    },
    {
     "data": {
      "application/vnd.jupyter.widget-view+json": {
       "model_id": "",
       "version_major": 2,
       "version_minor": 0
      },
      "text/plain": [
       "IntProgress(value=0, max=11719)"
      ]
     },
     "metadata": {},
     "output_type": "display_data"
    },
    {
     "name": "stdout",
     "output_type": "stream",
     "text": [
      "val Loss: 0.0809\n",
      "[[10596    12]\n",
      " [  331   805]]\n",
      "Precision: 0.71\n",
      "Recall   : 0.99\n",
      "Accuracy : 0.97\n",
      "Current mode has been saved to keypress_recognition/current_black.tar ...\n",
      "\n",
      "Epoch 118/200\n"
     ]
    },
    {
     "data": {
      "application/vnd.jupyter.widget-view+json": {
       "model_id": "",
       "version_major": 2,
       "version_minor": 0
      },
      "text/plain": [
       "IntProgress(value=0, max=87402)"
      ]
     },
     "metadata": {},
     "output_type": "display_data"
    },
    {
     "name": "stdout",
     "output_type": "stream",
     "text": [
      "train Loss: 0.2311\n",
      "[[41447  1386]\n",
      " [ 2265 42326]]\n",
      "Precision: 0.95\n",
      "Recall   : 0.97\n",
      "Accuracy : 0.96\n"
     ]
    },
    {
     "data": {
      "application/vnd.jupyter.widget-view+json": {
       "model_id": "",
       "version_major": 2,
       "version_minor": 0
      },
      "text/plain": [
       "IntProgress(value=0, max=11719)"
      ]
     },
     "metadata": {},
     "output_type": "display_data"
    },
    {
     "name": "stdout",
     "output_type": "stream",
     "text": [
      "val Loss: 0.0727\n",
      "[[10638    15]\n",
      " [  289   802]]\n",
      "Precision: 0.74\n",
      "Recall   : 0.98\n",
      "Accuracy : 0.97\n",
      "Current mode has been saved to keypress_recognition/current_black.tar ...\n",
      "\n",
      "Epoch 119/200\n"
     ]
    },
    {
     "data": {
      "application/vnd.jupyter.widget-view+json": {
       "model_id": "",
       "version_major": 2,
       "version_minor": 0
      },
      "text/plain": [
       "IntProgress(value=0, max=87402)"
      ]
     },
     "metadata": {},
     "output_type": "display_data"
    },
    {
     "name": "stdout",
     "output_type": "stream",
     "text": [
      "train Loss: 0.2315\n",
      "[[41451  1406]\n",
      " [ 2261 42306]]\n",
      "Precision: 0.95\n",
      "Recall   : 0.97\n",
      "Accuracy : 0.96\n"
     ]
    },
    {
     "data": {
      "application/vnd.jupyter.widget-view+json": {
       "model_id": "",
       "version_major": 2,
       "version_minor": 0
      },
      "text/plain": [
       "IntProgress(value=0, max=11719)"
      ]
     },
     "metadata": {},
     "output_type": "display_data"
    },
    {
     "name": "stdout",
     "output_type": "stream",
     "text": [
      "val Loss: 0.0781\n",
      "[[10607    14]\n",
      " [  320   803]]\n",
      "Precision: 0.72\n",
      "Recall   : 0.98\n",
      "Accuracy : 0.97\n",
      "Current mode has been saved to keypress_recognition/current_black.tar ...\n",
      "\n",
      "Epoch 120/200\n"
     ]
    },
    {
     "data": {
      "application/vnd.jupyter.widget-view+json": {
       "model_id": "",
       "version_major": 2,
       "version_minor": 0
      },
      "text/plain": [
       "IntProgress(value=0, max=87402)"
      ]
     },
     "metadata": {},
     "output_type": "display_data"
    },
    {
     "name": "stdout",
     "output_type": "stream",
     "text": [
      "train Loss: 0.2314\n",
      "[[41453  1386]\n",
      " [ 2259 42326]]\n",
      "Precision: 0.95\n",
      "Recall   : 0.97\n",
      "Accuracy : 0.96\n"
     ]
    },
    {
     "data": {
      "application/vnd.jupyter.widget-view+json": {
       "model_id": "",
       "version_major": 2,
       "version_minor": 0
      },
      "text/plain": [
       "IntProgress(value=0, max=11719)"
      ]
     },
     "metadata": {},
     "output_type": "display_data"
    },
    {
     "name": "stdout",
     "output_type": "stream",
     "text": [
      "val Loss: 0.0803\n",
      "[[10600    12]\n",
      " [  327   805]]\n",
      "Precision: 0.71\n",
      "Recall   : 0.99\n",
      "Accuracy : 0.97\n",
      "Current mode has been saved to keypress_recognition/current_black.tar ...\n",
      "\n",
      "Epoch 121/200\n"
     ]
    },
    {
     "data": {
      "application/vnd.jupyter.widget-view+json": {
       "model_id": "",
       "version_major": 2,
       "version_minor": 0
      },
      "text/plain": [
       "IntProgress(value=0, max=87402)"
      ]
     },
     "metadata": {},
     "output_type": "display_data"
    },
    {
     "name": "stdout",
     "output_type": "stream",
     "text": [
      "train Loss: 0.2310\n",
      "[[41452  1397]\n",
      " [ 2260 42315]]\n",
      "Precision: 0.95\n",
      "Recall   : 0.97\n",
      "Accuracy : 0.96\n"
     ]
    },
    {
     "data": {
      "application/vnd.jupyter.widget-view+json": {
       "model_id": "",
       "version_major": 2,
       "version_minor": 0
      },
      "text/plain": [
       "IntProgress(value=0, max=11719)"
      ]
     },
     "metadata": {},
     "output_type": "display_data"
    },
    {
     "name": "stdout",
     "output_type": "stream",
     "text": [
      "val Loss: 0.0737\n",
      "[[10637    15]\n",
      " [  290   802]]\n",
      "Precision: 0.73\n",
      "Recall   : 0.98\n",
      "Accuracy : 0.97\n",
      "Current mode has been saved to keypress_recognition/current_black.tar ...\n",
      "\n",
      "Epoch 122/200\n"
     ]
    },
    {
     "data": {
      "application/vnd.jupyter.widget-view+json": {
       "model_id": "",
       "version_major": 2,
       "version_minor": 0
      },
      "text/plain": [
       "IntProgress(value=0, max=87402)"
      ]
     },
     "metadata": {},
     "output_type": "display_data"
    },
    {
     "name": "stdout",
     "output_type": "stream",
     "text": [
      "train Loss: 0.2312\n",
      "[[41454  1380]\n",
      " [ 2258 42332]]\n",
      "Precision: 0.95\n",
      "Recall   : 0.97\n",
      "Accuracy : 0.96\n"
     ]
    },
    {
     "data": {
      "application/vnd.jupyter.widget-view+json": {
       "model_id": "",
       "version_major": 2,
       "version_minor": 0
      },
      "text/plain": [
       "IntProgress(value=0, max=11719)"
      ]
     },
     "metadata": {},
     "output_type": "display_data"
    },
    {
     "name": "stdout",
     "output_type": "stream",
     "text": [
      "val Loss: 0.0754\n",
      "[[10628    14]\n",
      " [  299   803]]\n",
      "Precision: 0.73\n",
      "Recall   : 0.98\n",
      "Accuracy : 0.97\n",
      "Current mode has been saved to keypress_recognition/current_black.tar ...\n",
      "\n",
      "Epoch 123/200\n"
     ]
    },
    {
     "data": {
      "application/vnd.jupyter.widget-view+json": {
       "model_id": "",
       "version_major": 2,
       "version_minor": 0
      },
      "text/plain": [
       "IntProgress(value=0, max=87402)"
      ]
     },
     "metadata": {},
     "output_type": "display_data"
    },
    {
     "name": "stdout",
     "output_type": "stream",
     "text": [
      "train Loss: 0.2309\n",
      "[[41428  1405]\n",
      " [ 2284 42307]]\n",
      "Precision: 0.95\n",
      "Recall   : 0.97\n",
      "Accuracy : 0.96\n"
     ]
    },
    {
     "data": {
      "application/vnd.jupyter.widget-view+json": {
       "model_id": "",
       "version_major": 2,
       "version_minor": 0
      },
      "text/plain": [
       "IntProgress(value=0, max=11719)"
      ]
     },
     "metadata": {},
     "output_type": "display_data"
    },
    {
     "name": "stdout",
     "output_type": "stream",
     "text": [
      "val Loss: 0.0737\n",
      "[[10633    15]\n",
      " [  294   802]]\n",
      "Precision: 0.73\n",
      "Recall   : 0.98\n",
      "Accuracy : 0.97\n",
      "Current mode has been saved to keypress_recognition/current_black.tar ...\n",
      "\n",
      "Epoch 124/200\n"
     ]
    },
    {
     "data": {
      "application/vnd.jupyter.widget-view+json": {
       "model_id": "",
       "version_major": 2,
       "version_minor": 0
      },
      "text/plain": [
       "IntProgress(value=0, max=87402)"
      ]
     },
     "metadata": {},
     "output_type": "display_data"
    },
    {
     "name": "stdout",
     "output_type": "stream",
     "text": [
      "train Loss: 0.2306\n",
      "[[41460  1406]\n",
      " [ 2252 42306]]\n",
      "Precision: 0.95\n",
      "Recall   : 0.97\n",
      "Accuracy : 0.96\n"
     ]
    },
    {
     "data": {
      "application/vnd.jupyter.widget-view+json": {
       "model_id": "",
       "version_major": 2,
       "version_minor": 0
      },
      "text/plain": [
       "IntProgress(value=0, max=11719)"
      ]
     },
     "metadata": {},
     "output_type": "display_data"
    },
    {
     "name": "stdout",
     "output_type": "stream",
     "text": [
      "val Loss: 0.0750\n",
      "[[10632    14]\n",
      " [  295   803]]\n",
      "Precision: 0.73\n",
      "Recall   : 0.98\n",
      "Accuracy : 0.97\n",
      "Current mode has been saved to keypress_recognition/current_black.tar ...\n",
      "\n",
      "Epoch 125/200\n"
     ]
    },
    {
     "data": {
      "application/vnd.jupyter.widget-view+json": {
       "model_id": "",
       "version_major": 2,
       "version_minor": 0
      },
      "text/plain": [
       "IntProgress(value=0, max=87402)"
      ]
     },
     "metadata": {},
     "output_type": "display_data"
    },
    {
     "name": "stdout",
     "output_type": "stream",
     "text": [
      "train Loss: 0.2309\n",
      "[[41454  1404]\n",
      " [ 2258 42308]]\n",
      "Precision: 0.95\n",
      "Recall   : 0.97\n",
      "Accuracy : 0.96\n"
     ]
    },
    {
     "data": {
      "application/vnd.jupyter.widget-view+json": {
       "model_id": "",
       "version_major": 2,
       "version_minor": 0
      },
      "text/plain": [
       "IntProgress(value=0, max=11719)"
      ]
     },
     "metadata": {},
     "output_type": "display_data"
    },
    {
     "name": "stdout",
     "output_type": "stream",
     "text": [
      "val Loss: 0.0745\n",
      "[[10626    14]\n",
      " [  301   803]]\n",
      "Precision: 0.73\n",
      "Recall   : 0.98\n",
      "Accuracy : 0.97\n",
      "Current mode has been saved to keypress_recognition/current_black.tar ...\n",
      "\n",
      "Epoch 126/200\n"
     ]
    },
    {
     "data": {
      "application/vnd.jupyter.widget-view+json": {
       "model_id": "",
       "version_major": 2,
       "version_minor": 0
      },
      "text/plain": [
       "IntProgress(value=0, max=87402)"
      ]
     },
     "metadata": {},
     "output_type": "display_data"
    },
    {
     "name": "stdout",
     "output_type": "stream",
     "text": [
      "train Loss: 0.2310\n",
      "[[41449  1400]\n",
      " [ 2263 42312]]\n",
      "Precision: 0.95\n",
      "Recall   : 0.97\n",
      "Accuracy : 0.96\n"
     ]
    },
    {
     "data": {
      "application/vnd.jupyter.widget-view+json": {
       "model_id": "",
       "version_major": 2,
       "version_minor": 0
      },
      "text/plain": [
       "IntProgress(value=0, max=11719)"
      ]
     },
     "metadata": {},
     "output_type": "display_data"
    },
    {
     "name": "stdout",
     "output_type": "stream",
     "text": [
      "val Loss: 0.0742\n",
      "[[10627    14]\n",
      " [  300   803]]\n",
      "Precision: 0.73\n",
      "Recall   : 0.98\n",
      "Accuracy : 0.97\n",
      "Current mode has been saved to keypress_recognition/current_black.tar ...\n",
      "\n",
      "Epoch 127/200\n"
     ]
    },
    {
     "data": {
      "application/vnd.jupyter.widget-view+json": {
       "model_id": "",
       "version_major": 2,
       "version_minor": 0
      },
      "text/plain": [
       "IntProgress(value=0, max=87402)"
      ]
     },
     "metadata": {},
     "output_type": "display_data"
    },
    {
     "name": "stdout",
     "output_type": "stream",
     "text": [
      "train Loss: 0.2309\n",
      "[[41456  1405]\n",
      " [ 2256 42307]]\n",
      "Precision: 0.95\n",
      "Recall   : 0.97\n",
      "Accuracy : 0.96\n"
     ]
    },
    {
     "data": {
      "application/vnd.jupyter.widget-view+json": {
       "model_id": "",
       "version_major": 2,
       "version_minor": 0
      },
      "text/plain": [
       "IntProgress(value=0, max=11719)"
      ]
     },
     "metadata": {},
     "output_type": "display_data"
    },
    {
     "name": "stdout",
     "output_type": "stream",
     "text": [
      "val Loss: 0.0753\n",
      "[[10622    14]\n",
      " [  305   803]]\n",
      "Precision: 0.72\n",
      "Recall   : 0.98\n",
      "Accuracy : 0.97\n",
      "Current mode has been saved to keypress_recognition/current_black.tar ...\n",
      "\n",
      "Epoch 128/200\n"
     ]
    },
    {
     "data": {
      "application/vnd.jupyter.widget-view+json": {
       "model_id": "",
       "version_major": 2,
       "version_minor": 0
      },
      "text/plain": [
       "IntProgress(value=0, max=87402)"
      ]
     },
     "metadata": {},
     "output_type": "display_data"
    },
    {
     "name": "stdout",
     "output_type": "stream",
     "text": [
      "train Loss: 0.2309\n",
      "[[41441  1404]\n",
      " [ 2271 42308]]\n",
      "Precision: 0.95\n",
      "Recall   : 0.97\n",
      "Accuracy : 0.96\n"
     ]
    },
    {
     "data": {
      "application/vnd.jupyter.widget-view+json": {
       "model_id": "",
       "version_major": 2,
       "version_minor": 0
      },
      "text/plain": [
       "IntProgress(value=0, max=11719)"
      ]
     },
     "metadata": {},
     "output_type": "display_data"
    },
    {
     "name": "stdout",
     "output_type": "stream",
     "text": [
      "val Loss: 0.0753\n",
      "[[10630    14]\n",
      " [  297   803]]\n",
      "Precision: 0.73\n",
      "Recall   : 0.98\n",
      "Accuracy : 0.97\n",
      "Current mode has been saved to keypress_recognition/current_black.tar ...\n",
      "\n",
      "Epoch 129/200\n"
     ]
    },
    {
     "data": {
      "application/vnd.jupyter.widget-view+json": {
       "model_id": "",
       "version_major": 2,
       "version_minor": 0
      },
      "text/plain": [
       "IntProgress(value=0, max=87402)"
      ]
     },
     "metadata": {},
     "output_type": "display_data"
    },
    {
     "name": "stdout",
     "output_type": "stream",
     "text": [
      "train Loss: 0.2303\n",
      "[[41461  1409]\n",
      " [ 2251 42303]]\n",
      "Precision: 0.95\n",
      "Recall   : 0.97\n",
      "Accuracy : 0.96\n"
     ]
    },
    {
     "data": {
      "application/vnd.jupyter.widget-view+json": {
       "model_id": "",
       "version_major": 2,
       "version_minor": 0
      },
      "text/plain": [
       "IntProgress(value=0, max=11719)"
      ]
     },
     "metadata": {},
     "output_type": "display_data"
    },
    {
     "name": "stdout",
     "output_type": "stream",
     "text": [
      "val Loss: 0.0796\n",
      "[[10600    12]\n",
      " [  327   805]]\n",
      "Precision: 0.71\n",
      "Recall   : 0.99\n",
      "Accuracy : 0.97\n",
      "Current mode has been saved to keypress_recognition/current_black.tar ...\n",
      "\n",
      "Epoch 130/200\n"
     ]
    },
    {
     "data": {
      "application/vnd.jupyter.widget-view+json": {
       "model_id": "",
       "version_major": 2,
       "version_minor": 0
      },
      "text/plain": [
       "IntProgress(value=0, max=87402)"
      ]
     },
     "metadata": {},
     "output_type": "display_data"
    },
    {
     "name": "stdout",
     "output_type": "stream",
     "text": [
      "train Loss: 0.2303\n",
      "[[41452  1422]\n",
      " [ 2260 42290]]\n",
      "Precision: 0.95\n",
      "Recall   : 0.97\n",
      "Accuracy : 0.96\n"
     ]
    },
    {
     "data": {
      "application/vnd.jupyter.widget-view+json": {
       "model_id": "",
       "version_major": 2,
       "version_minor": 0
      },
      "text/plain": [
       "IntProgress(value=0, max=11719)"
      ]
     },
     "metadata": {},
     "output_type": "display_data"
    },
    {
     "name": "stdout",
     "output_type": "stream",
     "text": [
      "val Loss: 0.0817\n",
      "[[10594    13]\n",
      " [  333   804]]\n",
      "Precision: 0.71\n",
      "Recall   : 0.98\n",
      "Accuracy : 0.97\n",
      "Current mode has been saved to keypress_recognition/current_black.tar ...\n",
      "\n",
      "Epoch 131/200\n"
     ]
    },
    {
     "data": {
      "application/vnd.jupyter.widget-view+json": {
       "model_id": "",
       "version_major": 2,
       "version_minor": 0
      },
      "text/plain": [
       "IntProgress(value=0, max=87402)"
      ]
     },
     "metadata": {},
     "output_type": "display_data"
    },
    {
     "name": "stdout",
     "output_type": "stream",
     "text": [
      "train Loss: 0.2305\n",
      "[[41439  1400]\n",
      " [ 2273 42312]]\n",
      "Precision: 0.95\n",
      "Recall   : 0.97\n",
      "Accuracy : 0.96\n"
     ]
    },
    {
     "data": {
      "application/vnd.jupyter.widget-view+json": {
       "model_id": "",
       "version_major": 2,
       "version_minor": 0
      },
      "text/plain": [
       "IntProgress(value=0, max=11719)"
      ]
     },
     "metadata": {},
     "output_type": "display_data"
    },
    {
     "name": "stdout",
     "output_type": "stream",
     "text": [
      "val Loss: 0.0753\n",
      "[[10626    14]\n",
      " [  301   803]]\n",
      "Precision: 0.73\n",
      "Recall   : 0.98\n",
      "Accuracy : 0.97\n",
      "Current mode has been saved to keypress_recognition/current_black.tar ...\n",
      "\n",
      "Epoch 132/200\n"
     ]
    },
    {
     "data": {
      "application/vnd.jupyter.widget-view+json": {
       "model_id": "",
       "version_major": 2,
       "version_minor": 0
      },
      "text/plain": [
       "IntProgress(value=0, max=87402)"
      ]
     },
     "metadata": {},
     "output_type": "display_data"
    },
    {
     "name": "stdout",
     "output_type": "stream",
     "text": [
      "train Loss: 0.2313\n",
      "[[41453  1392]\n",
      " [ 2259 42320]]\n",
      "Precision: 0.95\n",
      "Recall   : 0.97\n",
      "Accuracy : 0.96\n"
     ]
    },
    {
     "data": {
      "application/vnd.jupyter.widget-view+json": {
       "model_id": "",
       "version_major": 2,
       "version_minor": 0
      },
      "text/plain": [
       "IntProgress(value=0, max=11719)"
      ]
     },
     "metadata": {},
     "output_type": "display_data"
    },
    {
     "name": "stdout",
     "output_type": "stream",
     "text": [
      "val Loss: 0.0780\n",
      "[[10605    13]\n",
      " [  322   804]]\n",
      "Precision: 0.71\n",
      "Recall   : 0.98\n",
      "Accuracy : 0.97\n",
      "Current mode has been saved to keypress_recognition/current_black.tar ...\n",
      "\n",
      "Epoch 133/200\n"
     ]
    },
    {
     "data": {
      "application/vnd.jupyter.widget-view+json": {
       "model_id": "",
       "version_major": 2,
       "version_minor": 0
      },
      "text/plain": [
       "IntProgress(value=0, max=87402)"
      ]
     },
     "metadata": {},
     "output_type": "display_data"
    },
    {
     "name": "stdout",
     "output_type": "stream",
     "text": [
      "train Loss: 0.2306\n",
      "[[41442  1414]\n",
      " [ 2270 42298]]\n",
      "Precision: 0.95\n",
      "Recall   : 0.97\n",
      "Accuracy : 0.96\n"
     ]
    },
    {
     "data": {
      "application/vnd.jupyter.widget-view+json": {
       "model_id": "",
       "version_major": 2,
       "version_minor": 0
      },
      "text/plain": [
       "IntProgress(value=0, max=11719)"
      ]
     },
     "metadata": {},
     "output_type": "display_data"
    },
    {
     "name": "stdout",
     "output_type": "stream",
     "text": [
      "val Loss: 0.0782\n",
      "[[10609    13]\n",
      " [  318   804]]\n",
      "Precision: 0.72\n",
      "Recall   : 0.98\n",
      "Accuracy : 0.97\n",
      "Current mode has been saved to keypress_recognition/current_black.tar ...\n",
      "\n",
      "Epoch 134/200\n"
     ]
    },
    {
     "data": {
      "application/vnd.jupyter.widget-view+json": {
       "model_id": "",
       "version_major": 2,
       "version_minor": 0
      },
      "text/plain": [
       "IntProgress(value=0, max=87402)"
      ]
     },
     "metadata": {},
     "output_type": "display_data"
    },
    {
     "name": "stdout",
     "output_type": "stream",
     "text": [
      "train Loss: 0.2304\n",
      "[[41456  1416]\n",
      " [ 2256 42296]]\n",
      "Precision: 0.95\n",
      "Recall   : 0.97\n",
      "Accuracy : 0.96\n"
     ]
    },
    {
     "data": {
      "application/vnd.jupyter.widget-view+json": {
       "model_id": "",
       "version_major": 2,
       "version_minor": 0
      },
      "text/plain": [
       "IntProgress(value=0, max=11719)"
      ]
     },
     "metadata": {},
     "output_type": "display_data"
    },
    {
     "name": "stdout",
     "output_type": "stream",
     "text": [
      "val Loss: 0.0764\n",
      "[[10615    14]\n",
      " [  312   803]]\n",
      "Precision: 0.72\n",
      "Recall   : 0.98\n",
      "Accuracy : 0.97\n",
      "Current mode has been saved to keypress_recognition/current_black.tar ...\n",
      "\n",
      "Epoch 135/200\n"
     ]
    },
    {
     "data": {
      "application/vnd.jupyter.widget-view+json": {
       "model_id": "",
       "version_major": 2,
       "version_minor": 0
      },
      "text/plain": [
       "IntProgress(value=0, max=87402)"
      ]
     },
     "metadata": {},
     "output_type": "display_data"
    },
    {
     "name": "stdout",
     "output_type": "stream",
     "text": [
      "train Loss: 0.2306\n",
      "[[41452  1402]\n",
      " [ 2260 42310]]\n",
      "Precision: 0.95\n",
      "Recall   : 0.97\n",
      "Accuracy : 0.96\n"
     ]
    },
    {
     "data": {
      "application/vnd.jupyter.widget-view+json": {
       "model_id": "",
       "version_major": 2,
       "version_minor": 0
      },
      "text/plain": [
       "IntProgress(value=0, max=11719)"
      ]
     },
     "metadata": {},
     "output_type": "display_data"
    },
    {
     "name": "stdout",
     "output_type": "stream",
     "text": [
      "val Loss: 0.0767\n",
      "[[10614    14]\n",
      " [  313   803]]\n",
      "Precision: 0.72\n",
      "Recall   : 0.98\n",
      "Accuracy : 0.97\n",
      "Current mode has been saved to keypress_recognition/current_black.tar ...\n",
      "\n",
      "Epoch 136/200\n"
     ]
    },
    {
     "data": {
      "application/vnd.jupyter.widget-view+json": {
       "model_id": "",
       "version_major": 2,
       "version_minor": 0
      },
      "text/plain": [
       "IntProgress(value=0, max=87402)"
      ]
     },
     "metadata": {},
     "output_type": "display_data"
    },
    {
     "name": "stdout",
     "output_type": "stream",
     "text": [
      "train Loss: 0.2311\n",
      "[[41459  1403]\n",
      " [ 2253 42309]]\n",
      "Precision: 0.95\n",
      "Recall   : 0.97\n",
      "Accuracy : 0.96\n"
     ]
    },
    {
     "data": {
      "application/vnd.jupyter.widget-view+json": {
       "model_id": "",
       "version_major": 2,
       "version_minor": 0
      },
      "text/plain": [
       "IntProgress(value=0, max=11719)"
      ]
     },
     "metadata": {},
     "output_type": "display_data"
    },
    {
     "name": "stdout",
     "output_type": "stream",
     "text": [
      "val Loss: 0.0744\n",
      "[[10636    14]\n",
      " [  291   803]]\n",
      "Precision: 0.73\n",
      "Recall   : 0.98\n",
      "Accuracy : 0.97\n",
      "Current mode has been saved to keypress_recognition/current_black.tar ...\n",
      "\n",
      "Epoch 137/200\n"
     ]
    },
    {
     "data": {
      "application/vnd.jupyter.widget-view+json": {
       "model_id": "",
       "version_major": 2,
       "version_minor": 0
      },
      "text/plain": [
       "IntProgress(value=0, max=87402)"
      ]
     },
     "metadata": {},
     "output_type": "display_data"
    },
    {
     "name": "stdout",
     "output_type": "stream",
     "text": [
      "train Loss: 0.2310\n",
      "[[41451  1398]\n",
      " [ 2261 42314]]\n",
      "Precision: 0.95\n",
      "Recall   : 0.97\n",
      "Accuracy : 0.96\n"
     ]
    },
    {
     "data": {
      "application/vnd.jupyter.widget-view+json": {
       "model_id": "",
       "version_major": 2,
       "version_minor": 0
      },
      "text/plain": [
       "IntProgress(value=0, max=11719)"
      ]
     },
     "metadata": {},
     "output_type": "display_data"
    },
    {
     "name": "stdout",
     "output_type": "stream",
     "text": [
      "val Loss: 0.0743\n",
      "[[10631    15]\n",
      " [  296   802]]\n",
      "Precision: 0.73\n",
      "Recall   : 0.98\n",
      "Accuracy : 0.97\n",
      "Current mode has been saved to keypress_recognition/current_black.tar ...\n",
      "\n",
      "Epoch 138/200\n"
     ]
    },
    {
     "data": {
      "application/vnd.jupyter.widget-view+json": {
       "model_id": "",
       "version_major": 2,
       "version_minor": 0
      },
      "text/plain": [
       "IntProgress(value=0, max=87402)"
      ]
     },
     "metadata": {},
     "output_type": "display_data"
    },
    {
     "name": "stdout",
     "output_type": "stream",
     "text": [
      "train Loss: 0.2308\n",
      "[[41451  1417]\n",
      " [ 2261 42295]]\n",
      "Precision: 0.95\n",
      "Recall   : 0.97\n",
      "Accuracy : 0.96\n"
     ]
    },
    {
     "data": {
      "application/vnd.jupyter.widget-view+json": {
       "model_id": "",
       "version_major": 2,
       "version_minor": 0
      },
      "text/plain": [
       "IntProgress(value=0, max=11719)"
      ]
     },
     "metadata": {},
     "output_type": "display_data"
    },
    {
     "name": "stdout",
     "output_type": "stream",
     "text": [
      "val Loss: 0.0754\n",
      "[[10629    14]\n",
      " [  298   803]]\n",
      "Precision: 0.73\n",
      "Recall   : 0.98\n",
      "Accuracy : 0.97\n",
      "Current mode has been saved to keypress_recognition/current_black.tar ...\n",
      "\n",
      "Epoch 139/200\n"
     ]
    },
    {
     "data": {
      "application/vnd.jupyter.widget-view+json": {
       "model_id": "",
       "version_major": 2,
       "version_minor": 0
      },
      "text/plain": [
       "IntProgress(value=0, max=87402)"
      ]
     },
     "metadata": {},
     "output_type": "display_data"
    },
    {
     "name": "stdout",
     "output_type": "stream",
     "text": [
      "train Loss: 0.2307\n",
      "[[41441  1402]\n",
      " [ 2271 42310]]\n",
      "Precision: 0.95\n",
      "Recall   : 0.97\n",
      "Accuracy : 0.96\n"
     ]
    },
    {
     "data": {
      "application/vnd.jupyter.widget-view+json": {
       "model_id": "",
       "version_major": 2,
       "version_minor": 0
      },
      "text/plain": [
       "IntProgress(value=0, max=11719)"
      ]
     },
     "metadata": {},
     "output_type": "display_data"
    },
    {
     "name": "stdout",
     "output_type": "stream",
     "text": [
      "val Loss: 0.0749\n",
      "[[10624    13]\n",
      " [  303   804]]\n",
      "Precision: 0.73\n",
      "Recall   : 0.98\n",
      "Accuracy : 0.97\n",
      "Current mode has been saved to keypress_recognition/current_black.tar ...\n",
      "\n",
      "Epoch 140/200\n"
     ]
    },
    {
     "data": {
      "application/vnd.jupyter.widget-view+json": {
       "model_id": "",
       "version_major": 2,
       "version_minor": 0
      },
      "text/plain": [
       "IntProgress(value=0, max=87402)"
      ]
     },
     "metadata": {},
     "output_type": "display_data"
    },
    {
     "name": "stdout",
     "output_type": "stream",
     "text": [
      "train Loss: 0.2315\n",
      "[[41439  1404]\n",
      " [ 2273 42308]]\n",
      "Precision: 0.95\n",
      "Recall   : 0.97\n",
      "Accuracy : 0.96\n"
     ]
    },
    {
     "data": {
      "application/vnd.jupyter.widget-view+json": {
       "model_id": "",
       "version_major": 2,
       "version_minor": 0
      },
      "text/plain": [
       "IntProgress(value=0, max=11719)"
      ]
     },
     "metadata": {},
     "output_type": "display_data"
    },
    {
     "name": "stdout",
     "output_type": "stream",
     "text": [
      "val Loss: 0.0754\n",
      "[[10623    14]\n",
      " [  304   803]]\n",
      "Precision: 0.73\n",
      "Recall   : 0.98\n",
      "Accuracy : 0.97\n",
      "Current mode has been saved to keypress_recognition/current_black.tar ...\n",
      "\n",
      "Epoch 141/200\n"
     ]
    },
    {
     "data": {
      "application/vnd.jupyter.widget-view+json": {
       "model_id": "",
       "version_major": 2,
       "version_minor": 0
      },
      "text/plain": [
       "IntProgress(value=0, max=87402)"
      ]
     },
     "metadata": {},
     "output_type": "display_data"
    },
    {
     "name": "stdout",
     "output_type": "stream",
     "text": [
      "train Loss: 0.2307\n",
      "[[41445  1396]\n",
      " [ 2267 42316]]\n",
      "Precision: 0.95\n",
      "Recall   : 0.97\n",
      "Accuracy : 0.96\n"
     ]
    },
    {
     "data": {
      "application/vnd.jupyter.widget-view+json": {
       "model_id": "",
       "version_major": 2,
       "version_minor": 0
      },
      "text/plain": [
       "IntProgress(value=0, max=11719)"
      ]
     },
     "metadata": {},
     "output_type": "display_data"
    },
    {
     "name": "stdout",
     "output_type": "stream",
     "text": [
      "val Loss: 0.0759\n",
      "[[10620    14]\n",
      " [  307   803]]\n",
      "Precision: 0.72\n",
      "Recall   : 0.98\n",
      "Accuracy : 0.97\n",
      "Current mode has been saved to keypress_recognition/current_black.tar ...\n",
      "\n",
      "Epoch 142/200\n"
     ]
    },
    {
     "data": {
      "application/vnd.jupyter.widget-view+json": {
       "model_id": "",
       "version_major": 2,
       "version_minor": 0
      },
      "text/plain": [
       "IntProgress(value=0, max=87402)"
      ]
     },
     "metadata": {},
     "output_type": "display_data"
    },
    {
     "name": "stdout",
     "output_type": "stream",
     "text": [
      "train Loss: 0.2308\n",
      "[[41451  1388]\n",
      " [ 2261 42324]]\n",
      "Precision: 0.95\n",
      "Recall   : 0.97\n",
      "Accuracy : 0.96\n"
     ]
    },
    {
     "data": {
      "application/vnd.jupyter.widget-view+json": {
       "model_id": "",
       "version_major": 2,
       "version_minor": 0
      },
      "text/plain": [
       "IntProgress(value=0, max=11719)"
      ]
     },
     "metadata": {},
     "output_type": "display_data"
    },
    {
     "name": "stdout",
     "output_type": "stream",
     "text": [
      "val Loss: 0.0734\n",
      "[[10636    14]\n",
      " [  291   803]]\n",
      "Precision: 0.73\n",
      "Recall   : 0.98\n",
      "Accuracy : 0.97\n",
      "Current mode has been saved to keypress_recognition/current_black.tar ...\n",
      "\n",
      "Epoch 143/200\n"
     ]
    },
    {
     "data": {
      "application/vnd.jupyter.widget-view+json": {
       "model_id": "",
       "version_major": 2,
       "version_minor": 0
      },
      "text/plain": [
       "IntProgress(value=0, max=87402)"
      ]
     },
     "metadata": {},
     "output_type": "display_data"
    },
    {
     "name": "stdout",
     "output_type": "stream",
     "text": [
      "train Loss: 0.2307\n",
      "[[41438  1394]\n",
      " [ 2274 42318]]\n",
      "Precision: 0.95\n",
      "Recall   : 0.97\n",
      "Accuracy : 0.96\n"
     ]
    },
    {
     "data": {
      "application/vnd.jupyter.widget-view+json": {
       "model_id": "",
       "version_major": 2,
       "version_minor": 0
      },
      "text/plain": [
       "IntProgress(value=0, max=11719)"
      ]
     },
     "metadata": {},
     "output_type": "display_data"
    },
    {
     "name": "stdout",
     "output_type": "stream",
     "text": [
      "val Loss: 0.0776\n",
      "[[10610    14]\n",
      " [  317   803]]\n",
      "Precision: 0.72\n",
      "Recall   : 0.98\n",
      "Accuracy : 0.97\n",
      "Current mode has been saved to keypress_recognition/current_black.tar ...\n",
      "\n",
      "Epoch 144/200\n"
     ]
    },
    {
     "data": {
      "application/vnd.jupyter.widget-view+json": {
       "model_id": "",
       "version_major": 2,
       "version_minor": 0
      },
      "text/plain": [
       "IntProgress(value=0, max=87402)"
      ]
     },
     "metadata": {},
     "output_type": "display_data"
    },
    {
     "name": "stdout",
     "output_type": "stream",
     "text": [
      "train Loss: 0.2303\n",
      "[[41451  1399]\n",
      " [ 2261 42313]]\n",
      "Precision: 0.95\n",
      "Recall   : 0.97\n",
      "Accuracy : 0.96\n"
     ]
    },
    {
     "data": {
      "application/vnd.jupyter.widget-view+json": {
       "model_id": "",
       "version_major": 2,
       "version_minor": 0
      },
      "text/plain": [
       "IntProgress(value=0, max=11719)"
      ]
     },
     "metadata": {},
     "output_type": "display_data"
    },
    {
     "name": "stdout",
     "output_type": "stream",
     "text": [
      "val Loss: 0.0740\n",
      "[[10640    14]\n",
      " [  287   803]]\n",
      "Precision: 0.74\n",
      "Recall   : 0.98\n",
      "Accuracy : 0.97\n",
      "Current mode has been saved to keypress_recognition/current_black.tar ...\n",
      "\n",
      "Epoch 145/200\n"
     ]
    },
    {
     "data": {
      "application/vnd.jupyter.widget-view+json": {
       "model_id": "",
       "version_major": 2,
       "version_minor": 0
      },
      "text/plain": [
       "IntProgress(value=0, max=87402)"
      ]
     },
     "metadata": {},
     "output_type": "display_data"
    },
    {
     "name": "stdout",
     "output_type": "stream",
     "text": [
      "train Loss: 0.2309\n",
      "[[41439  1394]\n",
      " [ 2273 42318]]\n",
      "Precision: 0.95\n",
      "Recall   : 0.97\n",
      "Accuracy : 0.96\n"
     ]
    },
    {
     "data": {
      "application/vnd.jupyter.widget-view+json": {
       "model_id": "",
       "version_major": 2,
       "version_minor": 0
      },
      "text/plain": [
       "IntProgress(value=0, max=11719)"
      ]
     },
     "metadata": {},
     "output_type": "display_data"
    },
    {
     "name": "stdout",
     "output_type": "stream",
     "text": [
      "val Loss: 0.0715\n",
      "[[10655    15]\n",
      " [  272   802]]\n",
      "Precision: 0.75\n",
      "Recall   : 0.98\n",
      "Accuracy : 0.98\n",
      "Current mode has been saved to keypress_recognition/current_black.tar ...\n",
      "\n",
      "Epoch 146/200\n"
     ]
    },
    {
     "data": {
      "application/vnd.jupyter.widget-view+json": {
       "model_id": "",
       "version_major": 2,
       "version_minor": 0
      },
      "text/plain": [
       "IntProgress(value=0, max=87402)"
      ]
     },
     "metadata": {},
     "output_type": "display_data"
    },
    {
     "name": "stdout",
     "output_type": "stream",
     "text": [
      "train Loss: 0.2308\n",
      "[[41453  1402]\n",
      " [ 2259 42310]]\n",
      "Precision: 0.95\n",
      "Recall   : 0.97\n",
      "Accuracy : 0.96\n"
     ]
    },
    {
     "data": {
      "application/vnd.jupyter.widget-view+json": {
       "model_id": "",
       "version_major": 2,
       "version_minor": 0
      },
      "text/plain": [
       "IntProgress(value=0, max=11719)"
      ]
     },
     "metadata": {},
     "output_type": "display_data"
    },
    {
     "name": "stdout",
     "output_type": "stream",
     "text": [
      "val Loss: 0.0774\n",
      "[[10613    14]\n",
      " [  314   803]]\n",
      "Precision: 0.72\n",
      "Recall   : 0.98\n",
      "Accuracy : 0.97\n",
      "Current mode has been saved to keypress_recognition/current_black.tar ...\n",
      "\n",
      "Epoch 147/200\n"
     ]
    },
    {
     "data": {
      "application/vnd.jupyter.widget-view+json": {
       "model_id": "",
       "version_major": 2,
       "version_minor": 0
      },
      "text/plain": [
       "IntProgress(value=0, max=87402)"
      ]
     },
     "metadata": {},
     "output_type": "display_data"
    },
    {
     "name": "stdout",
     "output_type": "stream",
     "text": [
      "train Loss: 0.2311\n",
      "[[41458  1407]\n",
      " [ 2254 42305]]\n",
      "Precision: 0.95\n",
      "Recall   : 0.97\n",
      "Accuracy : 0.96\n"
     ]
    },
    {
     "data": {
      "application/vnd.jupyter.widget-view+json": {
       "model_id": "",
       "version_major": 2,
       "version_minor": 0
      },
      "text/plain": [
       "IntProgress(value=0, max=11719)"
      ]
     },
     "metadata": {},
     "output_type": "display_data"
    },
    {
     "name": "stdout",
     "output_type": "stream",
     "text": [
      "val Loss: 0.0756\n",
      "[[10619    13]\n",
      " [  308   804]]\n",
      "Precision: 0.72\n",
      "Recall   : 0.98\n",
      "Accuracy : 0.97\n",
      "Current mode has been saved to keypress_recognition/current_black.tar ...\n",
      "\n",
      "Epoch 148/200\n"
     ]
    },
    {
     "data": {
      "application/vnd.jupyter.widget-view+json": {
       "model_id": "",
       "version_major": 2,
       "version_minor": 0
      },
      "text/plain": [
       "IntProgress(value=0, max=87402)"
      ]
     },
     "metadata": {},
     "output_type": "display_data"
    },
    {
     "name": "stdout",
     "output_type": "stream",
     "text": [
      "train Loss: 0.2308\n",
      "[[41454  1400]\n",
      " [ 2258 42312]]\n",
      "Precision: 0.95\n",
      "Recall   : 0.97\n",
      "Accuracy : 0.96\n"
     ]
    },
    {
     "data": {
      "application/vnd.jupyter.widget-view+json": {
       "model_id": "",
       "version_major": 2,
       "version_minor": 0
      },
      "text/plain": [
       "IntProgress(value=0, max=11719)"
      ]
     },
     "metadata": {},
     "output_type": "display_data"
    },
    {
     "name": "stdout",
     "output_type": "stream",
     "text": [
      "val Loss: 0.0750\n",
      "[[10621    15]\n",
      " [  306   802]]\n",
      "Precision: 0.72\n",
      "Recall   : 0.98\n",
      "Accuracy : 0.97\n",
      "Current mode has been saved to keypress_recognition/current_black.tar ...\n",
      "\n",
      "Epoch 149/200\n"
     ]
    },
    {
     "data": {
      "application/vnd.jupyter.widget-view+json": {
       "model_id": "",
       "version_major": 2,
       "version_minor": 0
      },
      "text/plain": [
       "IntProgress(value=0, max=87402)"
      ]
     },
     "metadata": {},
     "output_type": "display_data"
    },
    {
     "name": "stdout",
     "output_type": "stream",
     "text": [
      "train Loss: 0.2314\n",
      "[[41447  1421]\n",
      " [ 2265 42291]]\n",
      "Precision: 0.95\n",
      "Recall   : 0.97\n",
      "Accuracy : 0.96\n"
     ]
    },
    {
     "data": {
      "application/vnd.jupyter.widget-view+json": {
       "model_id": "",
       "version_major": 2,
       "version_minor": 0
      },
      "text/plain": [
       "IntProgress(value=0, max=11719)"
      ]
     },
     "metadata": {},
     "output_type": "display_data"
    },
    {
     "name": "stdout",
     "output_type": "stream",
     "text": [
      "val Loss: 0.0761\n",
      "[[10619    14]\n",
      " [  308   803]]\n",
      "Precision: 0.72\n",
      "Recall   : 0.98\n",
      "Accuracy : 0.97\n",
      "Current mode has been saved to keypress_recognition/current_black.tar ...\n",
      "\n",
      "Epoch 150/200\n"
     ]
    },
    {
     "data": {
      "application/vnd.jupyter.widget-view+json": {
       "model_id": "",
       "version_major": 2,
       "version_minor": 0
      },
      "text/plain": [
       "IntProgress(value=0, max=87402)"
      ]
     },
     "metadata": {},
     "output_type": "display_data"
    },
    {
     "name": "stdout",
     "output_type": "stream",
     "text": [
      "train Loss: 0.2300\n",
      "[[41438  1385]\n",
      " [ 2274 42327]]\n",
      "Precision: 0.95\n",
      "Recall   : 0.97\n",
      "Accuracy : 0.96\n"
     ]
    },
    {
     "data": {
      "application/vnd.jupyter.widget-view+json": {
       "model_id": "",
       "version_major": 2,
       "version_minor": 0
      },
      "text/plain": [
       "IntProgress(value=0, max=11719)"
      ]
     },
     "metadata": {},
     "output_type": "display_data"
    },
    {
     "name": "stdout",
     "output_type": "stream",
     "text": [
      "val Loss: 0.0736\n",
      "[[10632    15]\n",
      " [  295   802]]\n",
      "Precision: 0.73\n",
      "Recall   : 0.98\n",
      "Accuracy : 0.97\n",
      "Current mode has been saved to keypress_recognition/current_black.tar ...\n",
      "\n",
      "Epoch 151/200\n"
     ]
    },
    {
     "data": {
      "application/vnd.jupyter.widget-view+json": {
       "model_id": "",
       "version_major": 2,
       "version_minor": 0
      },
      "text/plain": [
       "IntProgress(value=0, max=87402)"
      ]
     },
     "metadata": {},
     "output_type": "display_data"
    },
    {
     "name": "stdout",
     "output_type": "stream",
     "text": [
      "train Loss: 0.2309\n",
      "[[41442  1398]\n",
      " [ 2270 42314]]\n",
      "Precision: 0.95\n",
      "Recall   : 0.97\n",
      "Accuracy : 0.96\n"
     ]
    },
    {
     "data": {
      "application/vnd.jupyter.widget-view+json": {
       "model_id": "",
       "version_major": 2,
       "version_minor": 0
      },
      "text/plain": [
       "IntProgress(value=0, max=11719)"
      ]
     },
     "metadata": {},
     "output_type": "display_data"
    },
    {
     "name": "stdout",
     "output_type": "stream",
     "text": [
      "val Loss: 0.0762\n",
      "[[10615    14]\n",
      " [  312   803]]\n",
      "Precision: 0.72\n",
      "Recall   : 0.98\n",
      "Accuracy : 0.97\n",
      "Current mode has been saved to keypress_recognition/current_black.tar ...\n",
      "\n",
      "Epoch 152/200\n"
     ]
    },
    {
     "data": {
      "application/vnd.jupyter.widget-view+json": {
       "model_id": "",
       "version_major": 2,
       "version_minor": 0
      },
      "text/plain": [
       "IntProgress(value=0, max=87402)"
      ]
     },
     "metadata": {},
     "output_type": "display_data"
    },
    {
     "name": "stdout",
     "output_type": "stream",
     "text": [
      "train Loss: 0.2311\n",
      "[[41437  1409]\n",
      " [ 2275 42303]]\n",
      "Precision: 0.95\n",
      "Recall   : 0.97\n",
      "Accuracy : 0.96\n"
     ]
    },
    {
     "data": {
      "application/vnd.jupyter.widget-view+json": {
       "model_id": "",
       "version_major": 2,
       "version_minor": 0
      },
      "text/plain": [
       "IntProgress(value=0, max=11719)"
      ]
     },
     "metadata": {},
     "output_type": "display_data"
    },
    {
     "name": "stdout",
     "output_type": "stream",
     "text": [
      "val Loss: 0.0757\n",
      "[[10622    14]\n",
      " [  305   803]]\n",
      "Precision: 0.72\n",
      "Recall   : 0.98\n",
      "Accuracy : 0.97\n",
      "Current mode has been saved to keypress_recognition/current_black.tar ...\n",
      "\n",
      "Epoch 153/200\n"
     ]
    },
    {
     "data": {
      "application/vnd.jupyter.widget-view+json": {
       "model_id": "",
       "version_major": 2,
       "version_minor": 0
      },
      "text/plain": [
       "IntProgress(value=0, max=87402)"
      ]
     },
     "metadata": {},
     "output_type": "display_data"
    },
    {
     "name": "stdout",
     "output_type": "stream",
     "text": [
      "train Loss: 0.2306\n",
      "[[41445  1381]\n",
      " [ 2267 42331]]\n",
      "Precision: 0.95\n",
      "Recall   : 0.97\n",
      "Accuracy : 0.96\n"
     ]
    },
    {
     "data": {
      "application/vnd.jupyter.widget-view+json": {
       "model_id": "",
       "version_major": 2,
       "version_minor": 0
      },
      "text/plain": [
       "IntProgress(value=0, max=11719)"
      ]
     },
     "metadata": {},
     "output_type": "display_data"
    },
    {
     "name": "stdout",
     "output_type": "stream",
     "text": [
      "val Loss: 0.0775\n",
      "[[10622    14]\n",
      " [  305   803]]\n",
      "Precision: 0.72\n",
      "Recall   : 0.98\n",
      "Accuracy : 0.97\n",
      "Current mode has been saved to keypress_recognition/current_black.tar ...\n",
      "\n",
      "Epoch 154/200\n"
     ]
    },
    {
     "data": {
      "application/vnd.jupyter.widget-view+json": {
       "model_id": "",
       "version_major": 2,
       "version_minor": 0
      },
      "text/plain": [
       "IntProgress(value=0, max=87402)"
      ]
     },
     "metadata": {},
     "output_type": "display_data"
    },
    {
     "name": "stdout",
     "output_type": "stream",
     "text": [
      "train Loss: 0.2310\n",
      "[[41445  1414]\n",
      " [ 2267 42298]]\n",
      "Precision: 0.95\n",
      "Recall   : 0.97\n",
      "Accuracy : 0.96\n"
     ]
    },
    {
     "data": {
      "application/vnd.jupyter.widget-view+json": {
       "model_id": "",
       "version_major": 2,
       "version_minor": 0
      },
      "text/plain": [
       "IntProgress(value=0, max=11719)"
      ]
     },
     "metadata": {},
     "output_type": "display_data"
    },
    {
     "name": "stdout",
     "output_type": "stream",
     "text": [
      "val Loss: 0.0814\n",
      "[[10593    12]\n",
      " [  334   805]]\n",
      "Precision: 0.71\n",
      "Recall   : 0.99\n",
      "Accuracy : 0.97\n",
      "Current mode has been saved to keypress_recognition/current_black.tar ...\n",
      "\n",
      "Epoch 155/200\n"
     ]
    },
    {
     "data": {
      "application/vnd.jupyter.widget-view+json": {
       "model_id": "",
       "version_major": 2,
       "version_minor": 0
      },
      "text/plain": [
       "IntProgress(value=0, max=87402)"
      ]
     },
     "metadata": {},
     "output_type": "display_data"
    },
    {
     "name": "stdout",
     "output_type": "stream",
     "text": [
      "train Loss: 0.2308\n",
      "[[41442  1384]\n",
      " [ 2270 42328]]\n",
      "Precision: 0.95\n",
      "Recall   : 0.97\n",
      "Accuracy : 0.96\n"
     ]
    },
    {
     "data": {
      "application/vnd.jupyter.widget-view+json": {
       "model_id": "",
       "version_major": 2,
       "version_minor": 0
      },
      "text/plain": [
       "IntProgress(value=0, max=11719)"
      ]
     },
     "metadata": {},
     "output_type": "display_data"
    },
    {
     "name": "stdout",
     "output_type": "stream",
     "text": [
      "val Loss: 0.0767\n",
      "[[10612    14]\n",
      " [  315   803]]\n",
      "Precision: 0.72\n",
      "Recall   : 0.98\n",
      "Accuracy : 0.97\n",
      "Current mode has been saved to keypress_recognition/current_black.tar ...\n",
      "\n",
      "Epoch 156/200\n"
     ]
    },
    {
     "data": {
      "application/vnd.jupyter.widget-view+json": {
       "model_id": "",
       "version_major": 2,
       "version_minor": 0
      },
      "text/plain": [
       "IntProgress(value=0, max=87402)"
      ]
     },
     "metadata": {},
     "output_type": "display_data"
    },
    {
     "name": "stdout",
     "output_type": "stream",
     "text": [
      "train Loss: 0.2309\n",
      "[[41443  1390]\n",
      " [ 2269 42322]]\n",
      "Precision: 0.95\n",
      "Recall   : 0.97\n",
      "Accuracy : 0.96\n"
     ]
    },
    {
     "data": {
      "application/vnd.jupyter.widget-view+json": {
       "model_id": "",
       "version_major": 2,
       "version_minor": 0
      },
      "text/plain": [
       "IntProgress(value=0, max=11719)"
      ]
     },
     "metadata": {},
     "output_type": "display_data"
    },
    {
     "name": "stdout",
     "output_type": "stream",
     "text": [
      "val Loss: 0.0781\n",
      "[[10610    14]\n",
      " [  317   803]]\n",
      "Precision: 0.72\n",
      "Recall   : 0.98\n",
      "Accuracy : 0.97\n",
      "Current mode has been saved to keypress_recognition/current_black.tar ...\n",
      "\n",
      "Epoch 157/200\n"
     ]
    },
    {
     "data": {
      "application/vnd.jupyter.widget-view+json": {
       "model_id": "",
       "version_major": 2,
       "version_minor": 0
      },
      "text/plain": [
       "IntProgress(value=0, max=87402)"
      ]
     },
     "metadata": {},
     "output_type": "display_data"
    },
    {
     "name": "stdout",
     "output_type": "stream",
     "text": [
      "train Loss: 0.2311\n",
      "[[41434  1409]\n",
      " [ 2278 42303]]\n",
      "Precision: 0.95\n",
      "Recall   : 0.97\n",
      "Accuracy : 0.96\n"
     ]
    },
    {
     "data": {
      "application/vnd.jupyter.widget-view+json": {
       "model_id": "",
       "version_major": 2,
       "version_minor": 0
      },
      "text/plain": [
       "IntProgress(value=0, max=11719)"
      ]
     },
     "metadata": {},
     "output_type": "display_data"
    },
    {
     "name": "stdout",
     "output_type": "stream",
     "text": [
      "val Loss: 0.0756\n",
      "[[10625    14]\n",
      " [  302   803]]\n",
      "Precision: 0.73\n",
      "Recall   : 0.98\n",
      "Accuracy : 0.97\n",
      "Current mode has been saved to keypress_recognition/current_black.tar ...\n",
      "\n",
      "Epoch 158/200\n"
     ]
    },
    {
     "data": {
      "application/vnd.jupyter.widget-view+json": {
       "model_id": "",
       "version_major": 2,
       "version_minor": 0
      },
      "text/plain": [
       "IntProgress(value=0, max=87402)"
      ]
     },
     "metadata": {},
     "output_type": "display_data"
    },
    {
     "name": "stdout",
     "output_type": "stream",
     "text": [
      "train Loss: 0.2308\n",
      "[[41454  1419]\n",
      " [ 2258 42293]]\n",
      "Precision: 0.95\n",
      "Recall   : 0.97\n",
      "Accuracy : 0.96\n"
     ]
    },
    {
     "data": {
      "application/vnd.jupyter.widget-view+json": {
       "model_id": "",
       "version_major": 2,
       "version_minor": 0
      },
      "text/plain": [
       "IntProgress(value=0, max=11719)"
      ]
     },
     "metadata": {},
     "output_type": "display_data"
    },
    {
     "name": "stdout",
     "output_type": "stream",
     "text": [
      "val Loss: 0.0766\n",
      "[[10615    14]\n",
      " [  312   803]]\n",
      "Precision: 0.72\n",
      "Recall   : 0.98\n",
      "Accuracy : 0.97\n",
      "Current mode has been saved to keypress_recognition/current_black.tar ...\n",
      "\n",
      "Epoch 159/200\n"
     ]
    },
    {
     "data": {
      "application/vnd.jupyter.widget-view+json": {
       "model_id": "",
       "version_major": 2,
       "version_minor": 0
      },
      "text/plain": [
       "IntProgress(value=0, max=87402)"
      ]
     },
     "metadata": {},
     "output_type": "display_data"
    },
    {
     "name": "stdout",
     "output_type": "stream",
     "text": [
      "train Loss: 0.2307\n",
      "[[41459  1394]\n",
      " [ 2253 42318]]\n",
      "Precision: 0.95\n",
      "Recall   : 0.97\n",
      "Accuracy : 0.96\n"
     ]
    },
    {
     "data": {
      "application/vnd.jupyter.widget-view+json": {
       "model_id": "",
       "version_major": 2,
       "version_minor": 0
      },
      "text/plain": [
       "IntProgress(value=0, max=11719)"
      ]
     },
     "metadata": {},
     "output_type": "display_data"
    },
    {
     "name": "stdout",
     "output_type": "stream",
     "text": [
      "val Loss: 0.0699\n",
      "[[10667    17]\n",
      " [  260   800]]\n",
      "Precision: 0.75\n",
      "Recall   : 0.98\n",
      "Accuracy : 0.98\n",
      "Current mode has been saved to keypress_recognition/current_black.tar ...\n",
      "\n",
      "Epoch 160/200\n"
     ]
    },
    {
     "data": {
      "application/vnd.jupyter.widget-view+json": {
       "model_id": "",
       "version_major": 2,
       "version_minor": 0
      },
      "text/plain": [
       "IntProgress(value=0, max=87402)"
      ]
     },
     "metadata": {},
     "output_type": "display_data"
    },
    {
     "name": "stdout",
     "output_type": "stream",
     "text": [
      "train Loss: 0.2313\n",
      "[[41435  1413]\n",
      " [ 2277 42299]]\n",
      "Precision: 0.95\n",
      "Recall   : 0.97\n",
      "Accuracy : 0.96\n"
     ]
    },
    {
     "data": {
      "application/vnd.jupyter.widget-view+json": {
       "model_id": "",
       "version_major": 2,
       "version_minor": 0
      },
      "text/plain": [
       "IntProgress(value=0, max=11719)"
      ]
     },
     "metadata": {},
     "output_type": "display_data"
    },
    {
     "name": "stdout",
     "output_type": "stream",
     "text": [
      "val Loss: 0.0713\n",
      "[[10663    17]\n",
      " [  264   800]]\n",
      "Precision: 0.75\n",
      "Recall   : 0.98\n",
      "Accuracy : 0.98\n",
      "Current mode has been saved to keypress_recognition/current_black.tar ...\n",
      "\n",
      "Epoch 161/200\n"
     ]
    },
    {
     "data": {
      "application/vnd.jupyter.widget-view+json": {
       "model_id": "",
       "version_major": 2,
       "version_minor": 0
      },
      "text/plain": [
       "IntProgress(value=0, max=87402)"
      ]
     },
     "metadata": {},
     "output_type": "display_data"
    },
    {
     "name": "stdout",
     "output_type": "stream",
     "text": [
      "train Loss: 0.2314\n",
      "[[41449  1397]\n",
      " [ 2263 42315]]\n",
      "Precision: 0.95\n",
      "Recall   : 0.97\n",
      "Accuracy : 0.96\n"
     ]
    },
    {
     "data": {
      "application/vnd.jupyter.widget-view+json": {
       "model_id": "",
       "version_major": 2,
       "version_minor": 0
      },
      "text/plain": [
       "IntProgress(value=0, max=11719)"
      ]
     },
     "metadata": {},
     "output_type": "display_data"
    },
    {
     "name": "stdout",
     "output_type": "stream",
     "text": [
      "val Loss: 0.0761\n",
      "[[10622    13]\n",
      " [  305   804]]\n",
      "Precision: 0.72\n",
      "Recall   : 0.98\n",
      "Accuracy : 0.97\n",
      "Current mode has been saved to keypress_recognition/current_black.tar ...\n",
      "\n",
      "Epoch 162/200\n"
     ]
    },
    {
     "data": {
      "application/vnd.jupyter.widget-view+json": {
       "model_id": "",
       "version_major": 2,
       "version_minor": 0
      },
      "text/plain": [
       "IntProgress(value=0, max=87402)"
      ]
     },
     "metadata": {},
     "output_type": "display_data"
    },
    {
     "name": "stdout",
     "output_type": "stream",
     "text": [
      "train Loss: 0.2301\n",
      "[[41450  1394]\n",
      " [ 2262 42318]]\n",
      "Precision: 0.95\n",
      "Recall   : 0.97\n",
      "Accuracy : 0.96\n"
     ]
    },
    {
     "data": {
      "application/vnd.jupyter.widget-view+json": {
       "model_id": "",
       "version_major": 2,
       "version_minor": 0
      },
      "text/plain": [
       "IntProgress(value=0, max=11719)"
      ]
     },
     "metadata": {},
     "output_type": "display_data"
    },
    {
     "name": "stdout",
     "output_type": "stream",
     "text": [
      "val Loss: 0.0785\n",
      "[[10602    13]\n",
      " [  325   804]]\n",
      "Precision: 0.71\n",
      "Recall   : 0.98\n",
      "Accuracy : 0.97\n",
      "Current mode has been saved to keypress_recognition/current_black.tar ...\n",
      "\n",
      "Epoch 163/200\n"
     ]
    },
    {
     "data": {
      "application/vnd.jupyter.widget-view+json": {
       "model_id": "",
       "version_major": 2,
       "version_minor": 0
      },
      "text/plain": [
       "IntProgress(value=0, max=87402)"
      ]
     },
     "metadata": {},
     "output_type": "display_data"
    },
    {
     "name": "stdout",
     "output_type": "stream",
     "text": [
      "train Loss: 0.2309\n",
      "[[41444  1388]\n",
      " [ 2268 42324]]\n",
      "Precision: 0.95\n",
      "Recall   : 0.97\n",
      "Accuracy : 0.96\n"
     ]
    },
    {
     "data": {
      "application/vnd.jupyter.widget-view+json": {
       "model_id": "",
       "version_major": 2,
       "version_minor": 0
      },
      "text/plain": [
       "IntProgress(value=0, max=11719)"
      ]
     },
     "metadata": {},
     "output_type": "display_data"
    },
    {
     "name": "stdout",
     "output_type": "stream",
     "text": [
      "val Loss: 0.0774\n",
      "[[10613    14]\n",
      " [  314   803]]\n",
      "Precision: 0.72\n",
      "Recall   : 0.98\n",
      "Accuracy : 0.97\n",
      "Current mode has been saved to keypress_recognition/current_black.tar ...\n",
      "\n",
      "Epoch 164/200\n"
     ]
    },
    {
     "data": {
      "application/vnd.jupyter.widget-view+json": {
       "model_id": "",
       "version_major": 2,
       "version_minor": 0
      },
      "text/plain": [
       "IntProgress(value=0, max=87402)"
      ]
     },
     "metadata": {},
     "output_type": "display_data"
    },
    {
     "name": "stdout",
     "output_type": "stream",
     "text": [
      "train Loss: 0.2306\n",
      "[[41450  1397]\n",
      " [ 2262 42315]]\n",
      "Precision: 0.95\n",
      "Recall   : 0.97\n",
      "Accuracy : 0.96\n"
     ]
    },
    {
     "data": {
      "application/vnd.jupyter.widget-view+json": {
       "model_id": "",
       "version_major": 2,
       "version_minor": 0
      },
      "text/plain": [
       "IntProgress(value=0, max=11719)"
      ]
     },
     "metadata": {},
     "output_type": "display_data"
    },
    {
     "name": "stdout",
     "output_type": "stream",
     "text": [
      "val Loss: 0.0747\n",
      "[[10623    13]\n",
      " [  304   804]]\n",
      "Precision: 0.73\n",
      "Recall   : 0.98\n",
      "Accuracy : 0.97\n",
      "Current mode has been saved to keypress_recognition/current_black.tar ...\n",
      "\n",
      "Epoch 165/200\n"
     ]
    },
    {
     "data": {
      "application/vnd.jupyter.widget-view+json": {
       "model_id": "",
       "version_major": 2,
       "version_minor": 0
      },
      "text/plain": [
       "IntProgress(value=0, max=87402)"
      ]
     },
     "metadata": {},
     "output_type": "display_data"
    },
    {
     "name": "stdout",
     "output_type": "stream",
     "text": [
      "train Loss: 0.2310\n",
      "[[41441  1399]\n",
      " [ 2271 42313]]\n",
      "Precision: 0.95\n",
      "Recall   : 0.97\n",
      "Accuracy : 0.96\n"
     ]
    },
    {
     "data": {
      "application/vnd.jupyter.widget-view+json": {
       "model_id": "",
       "version_major": 2,
       "version_minor": 0
      },
      "text/plain": [
       "IntProgress(value=0, max=11719)"
      ]
     },
     "metadata": {},
     "output_type": "display_data"
    },
    {
     "name": "stdout",
     "output_type": "stream",
     "text": [
      "val Loss: 0.0747\n",
      "[[10627    14]\n",
      " [  300   803]]\n",
      "Precision: 0.73\n",
      "Recall   : 0.98\n",
      "Accuracy : 0.97\n",
      "Current mode has been saved to keypress_recognition/current_black.tar ...\n",
      "\n",
      "Epoch 166/200\n"
     ]
    },
    {
     "data": {
      "application/vnd.jupyter.widget-view+json": {
       "model_id": "",
       "version_major": 2,
       "version_minor": 0
      },
      "text/plain": [
       "IntProgress(value=0, max=87402)"
      ]
     },
     "metadata": {},
     "output_type": "display_data"
    },
    {
     "name": "stdout",
     "output_type": "stream",
     "text": [
      "train Loss: 0.2307\n",
      "[[41451  1390]\n",
      " [ 2261 42322]]\n",
      "Precision: 0.95\n",
      "Recall   : 0.97\n",
      "Accuracy : 0.96\n"
     ]
    },
    {
     "data": {
      "application/vnd.jupyter.widget-view+json": {
       "model_id": "",
       "version_major": 2,
       "version_minor": 0
      },
      "text/plain": [
       "IntProgress(value=0, max=11719)"
      ]
     },
     "metadata": {},
     "output_type": "display_data"
    },
    {
     "name": "stdout",
     "output_type": "stream",
     "text": [
      "val Loss: 0.0782\n",
      "[[10607    13]\n",
      " [  320   804]]\n",
      "Precision: 0.72\n",
      "Recall   : 0.98\n",
      "Accuracy : 0.97\n",
      "Current mode has been saved to keypress_recognition/current_black.tar ...\n",
      "\n",
      "Epoch 167/200\n"
     ]
    },
    {
     "data": {
      "application/vnd.jupyter.widget-view+json": {
       "model_id": "",
       "version_major": 2,
       "version_minor": 0
      },
      "text/plain": [
       "IntProgress(value=0, max=87402)"
      ]
     },
     "metadata": {},
     "output_type": "display_data"
    },
    {
     "name": "stdout",
     "output_type": "stream",
     "text": [
      "train Loss: 0.2316\n",
      "[[41435  1410]\n",
      " [ 2277 42302]]\n",
      "Precision: 0.95\n",
      "Recall   : 0.97\n",
      "Accuracy : 0.96\n"
     ]
    },
    {
     "data": {
      "application/vnd.jupyter.widget-view+json": {
       "model_id": "",
       "version_major": 2,
       "version_minor": 0
      },
      "text/plain": [
       "IntProgress(value=0, max=11719)"
      ]
     },
     "metadata": {},
     "output_type": "display_data"
    },
    {
     "name": "stdout",
     "output_type": "stream",
     "text": [
      "val Loss: 0.0703\n",
      "[[10664    16]\n",
      " [  263   801]]\n",
      "Precision: 0.75\n",
      "Recall   : 0.98\n",
      "Accuracy : 0.98\n",
      "Current mode has been saved to keypress_recognition/current_black.tar ...\n",
      "\n",
      "Epoch 168/200\n"
     ]
    },
    {
     "data": {
      "application/vnd.jupyter.widget-view+json": {
       "model_id": "",
       "version_major": 2,
       "version_minor": 0
      },
      "text/plain": [
       "IntProgress(value=0, max=87402)"
      ]
     },
     "metadata": {},
     "output_type": "display_data"
    },
    {
     "name": "stdout",
     "output_type": "stream",
     "text": [
      "train Loss: 0.2304\n",
      "[[41442  1393]\n",
      " [ 2270 42319]]\n",
      "Precision: 0.95\n",
      "Recall   : 0.97\n",
      "Accuracy : 0.96\n"
     ]
    },
    {
     "data": {
      "application/vnd.jupyter.widget-view+json": {
       "model_id": "",
       "version_major": 2,
       "version_minor": 0
      },
      "text/plain": [
       "IntProgress(value=0, max=11719)"
      ]
     },
     "metadata": {},
     "output_type": "display_data"
    },
    {
     "name": "stdout",
     "output_type": "stream",
     "text": [
      "val Loss: 0.0774\n",
      "[[10614    13]\n",
      " [  313   804]]\n",
      "Precision: 0.72\n",
      "Recall   : 0.98\n",
      "Accuracy : 0.97\n",
      "Current mode has been saved to keypress_recognition/current_black.tar ...\n",
      "\n",
      "Epoch 169/200\n"
     ]
    },
    {
     "data": {
      "application/vnd.jupyter.widget-view+json": {
       "model_id": "",
       "version_major": 2,
       "version_minor": 0
      },
      "text/plain": [
       "IntProgress(value=0, max=87402)"
      ]
     },
     "metadata": {},
     "output_type": "display_data"
    },
    {
     "name": "stdout",
     "output_type": "stream",
     "text": [
      "train Loss: 0.2308\n",
      "[[41459  1420]\n",
      " [ 2253 42292]]\n",
      "Precision: 0.95\n",
      "Recall   : 0.97\n",
      "Accuracy : 0.96\n"
     ]
    },
    {
     "data": {
      "application/vnd.jupyter.widget-view+json": {
       "model_id": "",
       "version_major": 2,
       "version_minor": 0
      },
      "text/plain": [
       "IntProgress(value=0, max=11719)"
      ]
     },
     "metadata": {},
     "output_type": "display_data"
    },
    {
     "name": "stdout",
     "output_type": "stream",
     "text": [
      "val Loss: 0.0764\n",
      "[[10618    14]\n",
      " [  309   803]]\n",
      "Precision: 0.72\n",
      "Recall   : 0.98\n",
      "Accuracy : 0.97\n",
      "Current mode has been saved to keypress_recognition/current_black.tar ...\n",
      "\n",
      "Epoch 170/200\n"
     ]
    },
    {
     "data": {
      "application/vnd.jupyter.widget-view+json": {
       "model_id": "",
       "version_major": 2,
       "version_minor": 0
      },
      "text/plain": [
       "IntProgress(value=0, max=87402)"
      ]
     },
     "metadata": {},
     "output_type": "display_data"
    },
    {
     "name": "stdout",
     "output_type": "stream",
     "text": [
      "train Loss: 0.2306\n",
      "[[41446  1396]\n",
      " [ 2266 42316]]\n",
      "Precision: 0.95\n",
      "Recall   : 0.97\n",
      "Accuracy : 0.96\n"
     ]
    },
    {
     "data": {
      "application/vnd.jupyter.widget-view+json": {
       "model_id": "",
       "version_major": 2,
       "version_minor": 0
      },
      "text/plain": [
       "IntProgress(value=0, max=11719)"
      ]
     },
     "metadata": {},
     "output_type": "display_data"
    },
    {
     "name": "stdout",
     "output_type": "stream",
     "text": [
      "val Loss: 0.0753\n",
      "[[10621    14]\n",
      " [  306   803]]\n",
      "Precision: 0.72\n",
      "Recall   : 0.98\n",
      "Accuracy : 0.97\n",
      "Current mode has been saved to keypress_recognition/current_black.tar ...\n",
      "\n",
      "Epoch 171/200\n"
     ]
    },
    {
     "data": {
      "application/vnd.jupyter.widget-view+json": {
       "model_id": "",
       "version_major": 2,
       "version_minor": 0
      },
      "text/plain": [
       "IntProgress(value=0, max=87402)"
      ]
     },
     "metadata": {},
     "output_type": "display_data"
    },
    {
     "name": "stdout",
     "output_type": "stream",
     "text": [
      "train Loss: 0.2307\n",
      "[[41450  1391]\n",
      " [ 2262 42321]]\n",
      "Precision: 0.95\n",
      "Recall   : 0.97\n",
      "Accuracy : 0.96\n"
     ]
    },
    {
     "data": {
      "application/vnd.jupyter.widget-view+json": {
       "model_id": "",
       "version_major": 2,
       "version_minor": 0
      },
      "text/plain": [
       "IntProgress(value=0, max=11719)"
      ]
     },
     "metadata": {},
     "output_type": "display_data"
    },
    {
     "name": "stdout",
     "output_type": "stream",
     "text": [
      "val Loss: 0.0751\n",
      "[[10629    14]\n",
      " [  298   803]]\n",
      "Precision: 0.73\n",
      "Recall   : 0.98\n",
      "Accuracy : 0.97\n",
      "Current mode has been saved to keypress_recognition/current_black.tar ...\n",
      "\n",
      "Epoch 172/200\n"
     ]
    },
    {
     "data": {
      "application/vnd.jupyter.widget-view+json": {
       "model_id": "",
       "version_major": 2,
       "version_minor": 0
      },
      "text/plain": [
       "IntProgress(value=0, max=87402)"
      ]
     },
     "metadata": {},
     "output_type": "display_data"
    },
    {
     "name": "stdout",
     "output_type": "stream",
     "text": [
      "train Loss: 0.2308\n",
      "[[41436  1401]\n",
      " [ 2276 42311]]\n",
      "Precision: 0.95\n",
      "Recall   : 0.97\n",
      "Accuracy : 0.96\n"
     ]
    },
    {
     "data": {
      "application/vnd.jupyter.widget-view+json": {
       "model_id": "",
       "version_major": 2,
       "version_minor": 0
      },
      "text/plain": [
       "IntProgress(value=0, max=11719)"
      ]
     },
     "metadata": {},
     "output_type": "display_data"
    },
    {
     "name": "stdout",
     "output_type": "stream",
     "text": [
      "val Loss: 0.0823\n",
      "[[10586    12]\n",
      " [  341   805]]\n",
      "Precision: 0.70\n",
      "Recall   : 0.99\n",
      "Accuracy : 0.97\n",
      "Current mode has been saved to keypress_recognition/current_black.tar ...\n",
      "\n",
      "Epoch 173/200\n"
     ]
    },
    {
     "data": {
      "application/vnd.jupyter.widget-view+json": {
       "model_id": "",
       "version_major": 2,
       "version_minor": 0
      },
      "text/plain": [
       "IntProgress(value=0, max=87402)"
      ]
     },
     "metadata": {},
     "output_type": "display_data"
    },
    {
     "name": "stdout",
     "output_type": "stream",
     "text": [
      "train Loss: 0.2307\n",
      "[[41445  1392]\n",
      " [ 2267 42320]]\n",
      "Precision: 0.95\n",
      "Recall   : 0.97\n",
      "Accuracy : 0.96\n"
     ]
    },
    {
     "data": {
      "application/vnd.jupyter.widget-view+json": {
       "model_id": "",
       "version_major": 2,
       "version_minor": 0
      },
      "text/plain": [
       "IntProgress(value=0, max=11719)"
      ]
     },
     "metadata": {},
     "output_type": "display_data"
    },
    {
     "name": "stdout",
     "output_type": "stream",
     "text": [
      "val Loss: 0.0787\n",
      "[[10600    14]\n",
      " [  327   803]]\n",
      "Precision: 0.71\n",
      "Recall   : 0.98\n",
      "Accuracy : 0.97\n",
      "Current mode has been saved to keypress_recognition/current_black.tar ...\n",
      "\n",
      "Epoch 174/200\n"
     ]
    },
    {
     "data": {
      "application/vnd.jupyter.widget-view+json": {
       "model_id": "",
       "version_major": 2,
       "version_minor": 0
      },
      "text/plain": [
       "IntProgress(value=0, max=87402)"
      ]
     },
     "metadata": {},
     "output_type": "display_data"
    },
    {
     "name": "stdout",
     "output_type": "stream",
     "text": [
      "train Loss: 0.2307\n",
      "[[41452  1391]\n",
      " [ 2260 42321]]\n",
      "Precision: 0.95\n",
      "Recall   : 0.97\n",
      "Accuracy : 0.96\n"
     ]
    },
    {
     "data": {
      "application/vnd.jupyter.widget-view+json": {
       "model_id": "",
       "version_major": 2,
       "version_minor": 0
      },
      "text/plain": [
       "IntProgress(value=0, max=11719)"
      ]
     },
     "metadata": {},
     "output_type": "display_data"
    },
    {
     "name": "stdout",
     "output_type": "stream",
     "text": [
      "val Loss: 0.0754\n",
      "[[10620    14]\n",
      " [  307   803]]\n",
      "Precision: 0.72\n",
      "Recall   : 0.98\n",
      "Accuracy : 0.97\n",
      "Current mode has been saved to keypress_recognition/current_black.tar ...\n",
      "\n",
      "Epoch 175/200\n"
     ]
    },
    {
     "data": {
      "application/vnd.jupyter.widget-view+json": {
       "model_id": "",
       "version_major": 2,
       "version_minor": 0
      },
      "text/plain": [
       "IntProgress(value=0, max=87402)"
      ]
     },
     "metadata": {},
     "output_type": "display_data"
    },
    {
     "name": "stdout",
     "output_type": "stream",
     "text": [
      "train Loss: 0.2313\n",
      "[[41438  1403]\n",
      " [ 2274 42309]]\n",
      "Precision: 0.95\n",
      "Recall   : 0.97\n",
      "Accuracy : 0.96\n"
     ]
    },
    {
     "data": {
      "application/vnd.jupyter.widget-view+json": {
       "model_id": "",
       "version_major": 2,
       "version_minor": 0
      },
      "text/plain": [
       "IntProgress(value=0, max=11719)"
      ]
     },
     "metadata": {},
     "output_type": "display_data"
    },
    {
     "name": "stdout",
     "output_type": "stream",
     "text": [
      "val Loss: 0.0795\n",
      "[[10602    14]\n",
      " [  325   803]]\n",
      "Precision: 0.71\n",
      "Recall   : 0.98\n",
      "Accuracy : 0.97\n",
      "Current mode has been saved to keypress_recognition/current_black.tar ...\n",
      "\n",
      "Epoch 176/200\n"
     ]
    },
    {
     "data": {
      "application/vnd.jupyter.widget-view+json": {
       "model_id": "",
       "version_major": 2,
       "version_minor": 0
      },
      "text/plain": [
       "IntProgress(value=0, max=87402)"
      ]
     },
     "metadata": {},
     "output_type": "display_data"
    },
    {
     "name": "stdout",
     "output_type": "stream",
     "text": [
      "train Loss: 0.2308\n",
      "[[41453  1400]\n",
      " [ 2259 42312]]\n",
      "Precision: 0.95\n",
      "Recall   : 0.97\n",
      "Accuracy : 0.96\n"
     ]
    },
    {
     "data": {
      "application/vnd.jupyter.widget-view+json": {
       "model_id": "",
       "version_major": 2,
       "version_minor": 0
      },
      "text/plain": [
       "IntProgress(value=0, max=11719)"
      ]
     },
     "metadata": {},
     "output_type": "display_data"
    },
    {
     "name": "stdout",
     "output_type": "stream",
     "text": [
      "val Loss: 0.0764\n",
      "[[10615    14]\n",
      " [  312   803]]\n",
      "Precision: 0.72\n",
      "Recall   : 0.98\n",
      "Accuracy : 0.97\n",
      "Current mode has been saved to keypress_recognition/current_black.tar ...\n",
      "\n",
      "Epoch 177/200\n"
     ]
    },
    {
     "data": {
      "application/vnd.jupyter.widget-view+json": {
       "model_id": "",
       "version_major": 2,
       "version_minor": 0
      },
      "text/plain": [
       "IntProgress(value=0, max=87402)"
      ]
     },
     "metadata": {},
     "output_type": "display_data"
    },
    {
     "name": "stdout",
     "output_type": "stream",
     "text": [
      "train Loss: 0.2308\n",
      "[[41441  1398]\n",
      " [ 2271 42314]]\n",
      "Precision: 0.95\n",
      "Recall   : 0.97\n",
      "Accuracy : 0.96\n"
     ]
    },
    {
     "data": {
      "application/vnd.jupyter.widget-view+json": {
       "model_id": "",
       "version_major": 2,
       "version_minor": 0
      },
      "text/plain": [
       "IntProgress(value=0, max=11719)"
      ]
     },
     "metadata": {},
     "output_type": "display_data"
    },
    {
     "name": "stdout",
     "output_type": "stream",
     "text": [
      "val Loss: 0.0779\n",
      "[[10610    13]\n",
      " [  317   804]]\n",
      "Precision: 0.72\n",
      "Recall   : 0.98\n",
      "Accuracy : 0.97\n",
      "Current mode has been saved to keypress_recognition/current_black.tar ...\n",
      "\n",
      "Epoch 178/200\n"
     ]
    },
    {
     "data": {
      "application/vnd.jupyter.widget-view+json": {
       "model_id": "",
       "version_major": 2,
       "version_minor": 0
      },
      "text/plain": [
       "IntProgress(value=0, max=87402)"
      ]
     },
     "metadata": {},
     "output_type": "display_data"
    },
    {
     "name": "stdout",
     "output_type": "stream",
     "text": [
      "train Loss: 0.2306\n",
      "[[41452  1399]\n",
      " [ 2260 42313]]\n",
      "Precision: 0.95\n",
      "Recall   : 0.97\n",
      "Accuracy : 0.96\n"
     ]
    },
    {
     "data": {
      "application/vnd.jupyter.widget-view+json": {
       "model_id": "",
       "version_major": 2,
       "version_minor": 0
      },
      "text/plain": [
       "IntProgress(value=0, max=11719)"
      ]
     },
     "metadata": {},
     "output_type": "display_data"
    },
    {
     "name": "stdout",
     "output_type": "stream",
     "text": [
      "val Loss: 0.0756\n",
      "[[10622    14]\n",
      " [  305   803]]\n",
      "Precision: 0.72\n",
      "Recall   : 0.98\n",
      "Accuracy : 0.97\n",
      "Current mode has been saved to keypress_recognition/current_black.tar ...\n",
      "\n",
      "Epoch 179/200\n"
     ]
    },
    {
     "data": {
      "application/vnd.jupyter.widget-view+json": {
       "model_id": "",
       "version_major": 2,
       "version_minor": 0
      },
      "text/plain": [
       "IntProgress(value=0, max=87402)"
      ]
     },
     "metadata": {},
     "output_type": "display_data"
    },
    {
     "name": "stdout",
     "output_type": "stream",
     "text": [
      "train Loss: 0.2311\n",
      "[[41446  1408]\n",
      " [ 2266 42304]]\n",
      "Precision: 0.95\n",
      "Recall   : 0.97\n",
      "Accuracy : 0.96\n"
     ]
    },
    {
     "data": {
      "application/vnd.jupyter.widget-view+json": {
       "model_id": "",
       "version_major": 2,
       "version_minor": 0
      },
      "text/plain": [
       "IntProgress(value=0, max=11719)"
      ]
     },
     "metadata": {},
     "output_type": "display_data"
    },
    {
     "name": "stdout",
     "output_type": "stream",
     "text": [
      "val Loss: 0.0791\n",
      "[[10603    13]\n",
      " [  324   804]]\n",
      "Precision: 0.71\n",
      "Recall   : 0.98\n",
      "Accuracy : 0.97\n",
      "Current mode has been saved to keypress_recognition/current_black.tar ...\n",
      "\n",
      "Epoch 180/200\n"
     ]
    },
    {
     "data": {
      "application/vnd.jupyter.widget-view+json": {
       "model_id": "",
       "version_major": 2,
       "version_minor": 0
      },
      "text/plain": [
       "IntProgress(value=0, max=87402)"
      ]
     },
     "metadata": {},
     "output_type": "display_data"
    },
    {
     "name": "stdout",
     "output_type": "stream",
     "text": [
      "train Loss: 0.2313\n",
      "[[41445  1390]\n",
      " [ 2267 42322]]\n",
      "Precision: 0.95\n",
      "Recall   : 0.97\n",
      "Accuracy : 0.96\n"
     ]
    },
    {
     "data": {
      "application/vnd.jupyter.widget-view+json": {
       "model_id": "",
       "version_major": 2,
       "version_minor": 0
      },
      "text/plain": [
       "IntProgress(value=0, max=11719)"
      ]
     },
     "metadata": {},
     "output_type": "display_data"
    },
    {
     "name": "stdout",
     "output_type": "stream",
     "text": [
      "val Loss: 0.0727\n",
      "[[10635    14]\n",
      " [  292   803]]\n",
      "Precision: 0.73\n",
      "Recall   : 0.98\n",
      "Accuracy : 0.97\n",
      "Current mode has been saved to keypress_recognition/current_black.tar ...\n",
      "\n",
      "Epoch 181/200\n"
     ]
    },
    {
     "data": {
      "application/vnd.jupyter.widget-view+json": {
       "model_id": "",
       "version_major": 2,
       "version_minor": 0
      },
      "text/plain": [
       "IntProgress(value=0, max=87402)"
      ]
     },
     "metadata": {},
     "output_type": "display_data"
    },
    {
     "name": "stdout",
     "output_type": "stream",
     "text": [
      "train Loss: 0.2313\n",
      "[[41452  1405]\n",
      " [ 2260 42307]]\n",
      "Precision: 0.95\n",
      "Recall   : 0.97\n",
      "Accuracy : 0.96\n"
     ]
    },
    {
     "data": {
      "application/vnd.jupyter.widget-view+json": {
       "model_id": "",
       "version_major": 2,
       "version_minor": 0
      },
      "text/plain": [
       "IntProgress(value=0, max=11719)"
      ]
     },
     "metadata": {},
     "output_type": "display_data"
    },
    {
     "name": "stdout",
     "output_type": "stream",
     "text": [
      "val Loss: 0.0799\n",
      "[[10597    13]\n",
      " [  330   804]]\n",
      "Precision: 0.71\n",
      "Recall   : 0.98\n",
      "Accuracy : 0.97\n",
      "Current mode has been saved to keypress_recognition/current_black.tar ...\n",
      "\n",
      "Epoch 182/200\n"
     ]
    },
    {
     "data": {
      "application/vnd.jupyter.widget-view+json": {
       "model_id": "",
       "version_major": 2,
       "version_minor": 0
      },
      "text/plain": [
       "IntProgress(value=0, max=87402)"
      ]
     },
     "metadata": {},
     "output_type": "display_data"
    },
    {
     "name": "stdout",
     "output_type": "stream",
     "text": [
      "train Loss: 0.2303\n",
      "[[41454  1394]\n",
      " [ 2258 42318]]\n",
      "Precision: 0.95\n",
      "Recall   : 0.97\n",
      "Accuracy : 0.96\n"
     ]
    },
    {
     "data": {
      "application/vnd.jupyter.widget-view+json": {
       "model_id": "",
       "version_major": 2,
       "version_minor": 0
      },
      "text/plain": [
       "IntProgress(value=0, max=11719)"
      ]
     },
     "metadata": {},
     "output_type": "display_data"
    },
    {
     "name": "stdout",
     "output_type": "stream",
     "text": [
      "val Loss: 0.0780\n",
      "[[10615    14]\n",
      " [  312   803]]\n",
      "Precision: 0.72\n",
      "Recall   : 0.98\n",
      "Accuracy : 0.97\n",
      "Current mode has been saved to keypress_recognition/current_black.tar ...\n",
      "\n",
      "Epoch 183/200\n"
     ]
    },
    {
     "data": {
      "application/vnd.jupyter.widget-view+json": {
       "model_id": "",
       "version_major": 2,
       "version_minor": 0
      },
      "text/plain": [
       "IntProgress(value=0, max=87402)"
      ]
     },
     "metadata": {},
     "output_type": "display_data"
    },
    {
     "name": "stdout",
     "output_type": "stream",
     "text": [
      "train Loss: 0.2311\n",
      "[[41440  1390]\n",
      " [ 2272 42322]]\n",
      "Precision: 0.95\n",
      "Recall   : 0.97\n",
      "Accuracy : 0.96\n"
     ]
    },
    {
     "data": {
      "application/vnd.jupyter.widget-view+json": {
       "model_id": "",
       "version_major": 2,
       "version_minor": 0
      },
      "text/plain": [
       "IntProgress(value=0, max=11719)"
      ]
     },
     "metadata": {},
     "output_type": "display_data"
    },
    {
     "name": "stdout",
     "output_type": "stream",
     "text": [
      "val Loss: 0.0755\n",
      "[[10623    15]\n",
      " [  304   802]]\n",
      "Precision: 0.73\n",
      "Recall   : 0.98\n",
      "Accuracy : 0.97\n",
      "Current mode has been saved to keypress_recognition/current_black.tar ...\n",
      "\n",
      "Epoch 184/200\n"
     ]
    },
    {
     "data": {
      "application/vnd.jupyter.widget-view+json": {
       "model_id": "",
       "version_major": 2,
       "version_minor": 0
      },
      "text/plain": [
       "IntProgress(value=0, max=87402)"
      ]
     },
     "metadata": {},
     "output_type": "display_data"
    },
    {
     "name": "stdout",
     "output_type": "stream",
     "text": [
      "train Loss: 0.2307\n",
      "[[41442  1394]\n",
      " [ 2270 42318]]\n",
      "Precision: 0.95\n",
      "Recall   : 0.97\n",
      "Accuracy : 0.96\n"
     ]
    },
    {
     "data": {
      "application/vnd.jupyter.widget-view+json": {
       "model_id": "",
       "version_major": 2,
       "version_minor": 0
      },
      "text/plain": [
       "IntProgress(value=0, max=11719)"
      ]
     },
     "metadata": {},
     "output_type": "display_data"
    },
    {
     "name": "stdout",
     "output_type": "stream",
     "text": [
      "val Loss: 0.0774\n",
      "[[10612    13]\n",
      " [  315   804]]\n",
      "Precision: 0.72\n",
      "Recall   : 0.98\n",
      "Accuracy : 0.97\n",
      "Current mode has been saved to keypress_recognition/current_black.tar ...\n",
      "\n",
      "Epoch 185/200\n"
     ]
    },
    {
     "data": {
      "application/vnd.jupyter.widget-view+json": {
       "model_id": "",
       "version_major": 2,
       "version_minor": 0
      },
      "text/plain": [
       "IntProgress(value=0, max=87402)"
      ]
     },
     "metadata": {},
     "output_type": "display_data"
    },
    {
     "name": "stdout",
     "output_type": "stream",
     "text": [
      "train Loss: 0.2303\n",
      "[[41445  1408]\n",
      " [ 2267 42304]]\n",
      "Precision: 0.95\n",
      "Recall   : 0.97\n",
      "Accuracy : 0.96\n"
     ]
    },
    {
     "data": {
      "application/vnd.jupyter.widget-view+json": {
       "model_id": "",
       "version_major": 2,
       "version_minor": 0
      },
      "text/plain": [
       "IntProgress(value=0, max=11719)"
      ]
     },
     "metadata": {},
     "output_type": "display_data"
    },
    {
     "name": "stdout",
     "output_type": "stream",
     "text": [
      "val Loss: 0.0723\n",
      "[[10649    14]\n",
      " [  278   803]]\n",
      "Precision: 0.74\n",
      "Recall   : 0.98\n",
      "Accuracy : 0.98\n",
      "Current mode has been saved to keypress_recognition/current_black.tar ...\n",
      "\n",
      "Epoch 186/200\n"
     ]
    },
    {
     "data": {
      "application/vnd.jupyter.widget-view+json": {
       "model_id": "",
       "version_major": 2,
       "version_minor": 0
      },
      "text/plain": [
       "IntProgress(value=0, max=87402)"
      ]
     },
     "metadata": {},
     "output_type": "display_data"
    },
    {
     "name": "stdout",
     "output_type": "stream",
     "text": [
      "train Loss: 0.2310\n",
      "[[41444  1400]\n",
      " [ 2268 42312]]\n",
      "Precision: 0.95\n",
      "Recall   : 0.97\n",
      "Accuracy : 0.96\n"
     ]
    },
    {
     "data": {
      "application/vnd.jupyter.widget-view+json": {
       "model_id": "",
       "version_major": 2,
       "version_minor": 0
      },
      "text/plain": [
       "IntProgress(value=0, max=11719)"
      ]
     },
     "metadata": {},
     "output_type": "display_data"
    },
    {
     "name": "stdout",
     "output_type": "stream",
     "text": [
      "val Loss: 0.0722\n",
      "[[10652    16]\n",
      " [  275   801]]\n",
      "Precision: 0.74\n",
      "Recall   : 0.98\n",
      "Accuracy : 0.98\n",
      "Current mode has been saved to keypress_recognition/current_black.tar ...\n",
      "\n",
      "Epoch 187/200\n"
     ]
    },
    {
     "data": {
      "application/vnd.jupyter.widget-view+json": {
       "model_id": "",
       "version_major": 2,
       "version_minor": 0
      },
      "text/plain": [
       "IntProgress(value=0, max=87402)"
      ]
     },
     "metadata": {},
     "output_type": "display_data"
    },
    {
     "name": "stdout",
     "output_type": "stream",
     "text": [
      "train Loss: 0.2301\n",
      "[[41452  1394]\n",
      " [ 2260 42318]]\n",
      "Precision: 0.95\n",
      "Recall   : 0.97\n",
      "Accuracy : 0.96\n"
     ]
    },
    {
     "data": {
      "application/vnd.jupyter.widget-view+json": {
       "model_id": "",
       "version_major": 2,
       "version_minor": 0
      },
      "text/plain": [
       "IntProgress(value=0, max=11719)"
      ]
     },
     "metadata": {},
     "output_type": "display_data"
    },
    {
     "name": "stdout",
     "output_type": "stream",
     "text": [
      "val Loss: 0.0740\n",
      "[[10631    14]\n",
      " [  296   803]]\n",
      "Precision: 0.73\n",
      "Recall   : 0.98\n",
      "Accuracy : 0.97\n",
      "Current mode has been saved to keypress_recognition/current_black.tar ...\n",
      "\n",
      "Epoch 188/200\n"
     ]
    },
    {
     "data": {
      "application/vnd.jupyter.widget-view+json": {
       "model_id": "",
       "version_major": 2,
       "version_minor": 0
      },
      "text/plain": [
       "IntProgress(value=0, max=87402)"
      ]
     },
     "metadata": {},
     "output_type": "display_data"
    },
    {
     "name": "stdout",
     "output_type": "stream",
     "text": [
      "train Loss: 0.2307\n",
      "[[41451  1425]\n",
      " [ 2261 42287]]\n",
      "Precision: 0.95\n",
      "Recall   : 0.97\n",
      "Accuracy : 0.96\n"
     ]
    },
    {
     "data": {
      "application/vnd.jupyter.widget-view+json": {
       "model_id": "",
       "version_major": 2,
       "version_minor": 0
      },
      "text/plain": [
       "IntProgress(value=0, max=11719)"
      ]
     },
     "metadata": {},
     "output_type": "display_data"
    },
    {
     "name": "stdout",
     "output_type": "stream",
     "text": [
      "val Loss: 0.0742\n",
      "[[10631    15]\n",
      " [  296   802]]\n",
      "Precision: 0.73\n",
      "Recall   : 0.98\n",
      "Accuracy : 0.97\n",
      "Current mode has been saved to keypress_recognition/current_black.tar ...\n",
      "\n",
      "Epoch 189/200\n"
     ]
    },
    {
     "data": {
      "application/vnd.jupyter.widget-view+json": {
       "model_id": "",
       "version_major": 2,
       "version_minor": 0
      },
      "text/plain": [
       "IntProgress(value=0, max=87402)"
      ]
     },
     "metadata": {},
     "output_type": "display_data"
    },
    {
     "name": "stdout",
     "output_type": "stream",
     "text": [
      "train Loss: 0.2313\n",
      "[[41449  1413]\n",
      " [ 2263 42299]]\n",
      "Precision: 0.95\n",
      "Recall   : 0.97\n",
      "Accuracy : 0.96\n"
     ]
    },
    {
     "data": {
      "application/vnd.jupyter.widget-view+json": {
       "model_id": "",
       "version_major": 2,
       "version_minor": 0
      },
      "text/plain": [
       "IntProgress(value=0, max=11719)"
      ]
     },
     "metadata": {},
     "output_type": "display_data"
    },
    {
     "name": "stdout",
     "output_type": "stream",
     "text": [
      "val Loss: 0.0732\n",
      "[[10643    14]\n",
      " [  284   803]]\n",
      "Precision: 0.74\n",
      "Recall   : 0.98\n",
      "Accuracy : 0.97\n",
      "Current mode has been saved to keypress_recognition/current_black.tar ...\n",
      "\n",
      "Epoch 190/200\n"
     ]
    },
    {
     "data": {
      "application/vnd.jupyter.widget-view+json": {
       "model_id": "",
       "version_major": 2,
       "version_minor": 0
      },
      "text/plain": [
       "IntProgress(value=0, max=87402)"
      ]
     },
     "metadata": {},
     "output_type": "display_data"
    },
    {
     "name": "stdout",
     "output_type": "stream",
     "text": [
      "train Loss: 0.2316\n",
      "[[41445  1388]\n",
      " [ 2267 42324]]\n",
      "Precision: 0.95\n",
      "Recall   : 0.97\n",
      "Accuracy : 0.96\n"
     ]
    },
    {
     "data": {
      "application/vnd.jupyter.widget-view+json": {
       "model_id": "",
       "version_major": 2,
       "version_minor": 0
      },
      "text/plain": [
       "IntProgress(value=0, max=11719)"
      ]
     },
     "metadata": {},
     "output_type": "display_data"
    },
    {
     "name": "stdout",
     "output_type": "stream",
     "text": [
      "val Loss: 0.0752\n",
      "[[10626    14]\n",
      " [  301   803]]\n",
      "Precision: 0.73\n",
      "Recall   : 0.98\n",
      "Accuracy : 0.97\n",
      "Current mode has been saved to keypress_recognition/current_black.tar ...\n",
      "\n",
      "Epoch 191/200\n"
     ]
    },
    {
     "data": {
      "application/vnd.jupyter.widget-view+json": {
       "model_id": "",
       "version_major": 2,
       "version_minor": 0
      },
      "text/plain": [
       "IntProgress(value=0, max=87402)"
      ]
     },
     "metadata": {},
     "output_type": "display_data"
    },
    {
     "name": "stdout",
     "output_type": "stream",
     "text": [
      "train Loss: 0.2313\n",
      "[[41451  1405]\n",
      " [ 2261 42307]]\n",
      "Precision: 0.95\n",
      "Recall   : 0.97\n",
      "Accuracy : 0.96\n"
     ]
    },
    {
     "data": {
      "application/vnd.jupyter.widget-view+json": {
       "model_id": "",
       "version_major": 2,
       "version_minor": 0
      },
      "text/plain": [
       "IntProgress(value=0, max=11719)"
      ]
     },
     "metadata": {},
     "output_type": "display_data"
    },
    {
     "name": "stdout",
     "output_type": "stream",
     "text": [
      "val Loss: 0.0761\n",
      "[[10618    14]\n",
      " [  309   803]]\n",
      "Precision: 0.72\n",
      "Recall   : 0.98\n",
      "Accuracy : 0.97\n",
      "Current mode has been saved to keypress_recognition/current_black.tar ...\n",
      "\n",
      "Epoch 192/200\n"
     ]
    },
    {
     "data": {
      "application/vnd.jupyter.widget-view+json": {
       "model_id": "",
       "version_major": 2,
       "version_minor": 0
      },
      "text/plain": [
       "IntProgress(value=0, max=87402)"
      ]
     },
     "metadata": {},
     "output_type": "display_data"
    },
    {
     "name": "stdout",
     "output_type": "stream",
     "text": [
      "train Loss: 0.2311\n",
      "[[41445  1396]\n",
      " [ 2267 42316]]\n",
      "Precision: 0.95\n",
      "Recall   : 0.97\n",
      "Accuracy : 0.96\n"
     ]
    },
    {
     "data": {
      "application/vnd.jupyter.widget-view+json": {
       "model_id": "",
       "version_major": 2,
       "version_minor": 0
      },
      "text/plain": [
       "IntProgress(value=0, max=11719)"
      ]
     },
     "metadata": {},
     "output_type": "display_data"
    },
    {
     "name": "stdout",
     "output_type": "stream",
     "text": [
      "val Loss: 0.0719\n",
      "[[10652    17]\n",
      " [  275   800]]\n",
      "Precision: 0.74\n",
      "Recall   : 0.98\n",
      "Accuracy : 0.98\n",
      "Current mode has been saved to keypress_recognition/current_black.tar ...\n",
      "\n",
      "Epoch 193/200\n"
     ]
    },
    {
     "data": {
      "application/vnd.jupyter.widget-view+json": {
       "model_id": "",
       "version_major": 2,
       "version_minor": 0
      },
      "text/plain": [
       "IntProgress(value=0, max=87402)"
      ]
     },
     "metadata": {},
     "output_type": "display_data"
    },
    {
     "name": "stdout",
     "output_type": "stream",
     "text": [
      "train Loss: 0.2306\n",
      "[[41457  1404]\n",
      " [ 2255 42308]]\n",
      "Precision: 0.95\n",
      "Recall   : 0.97\n",
      "Accuracy : 0.96\n"
     ]
    },
    {
     "data": {
      "application/vnd.jupyter.widget-view+json": {
       "model_id": "",
       "version_major": 2,
       "version_minor": 0
      },
      "text/plain": [
       "IntProgress(value=0, max=11719)"
      ]
     },
     "metadata": {},
     "output_type": "display_data"
    },
    {
     "name": "stdout",
     "output_type": "stream",
     "text": [
      "val Loss: 0.0752\n",
      "[[10622    14]\n",
      " [  305   803]]\n",
      "Precision: 0.72\n",
      "Recall   : 0.98\n",
      "Accuracy : 0.97\n",
      "Current mode has been saved to keypress_recognition/current_black.tar ...\n",
      "\n",
      "Epoch 194/200\n"
     ]
    },
    {
     "data": {
      "application/vnd.jupyter.widget-view+json": {
       "model_id": "",
       "version_major": 2,
       "version_minor": 0
      },
      "text/plain": [
       "IntProgress(value=0, max=87402)"
      ]
     },
     "metadata": {},
     "output_type": "display_data"
    },
    {
     "name": "stdout",
     "output_type": "stream",
     "text": [
      "train Loss: 0.2308\n",
      "[[41433  1376]\n",
      " [ 2279 42336]]\n",
      "Precision: 0.95\n",
      "Recall   : 0.97\n",
      "Accuracy : 0.96\n"
     ]
    },
    {
     "data": {
      "application/vnd.jupyter.widget-view+json": {
       "model_id": "",
       "version_major": 2,
       "version_minor": 0
      },
      "text/plain": [
       "IntProgress(value=0, max=11719)"
      ]
     },
     "metadata": {},
     "output_type": "display_data"
    },
    {
     "name": "stdout",
     "output_type": "stream",
     "text": [
      "val Loss: 0.0724\n",
      "[[10635    14]\n",
      " [  292   803]]\n",
      "Precision: 0.73\n",
      "Recall   : 0.98\n",
      "Accuracy : 0.97\n",
      "Current mode has been saved to keypress_recognition/current_black.tar ...\n",
      "\n",
      "Epoch 195/200\n"
     ]
    },
    {
     "data": {
      "application/vnd.jupyter.widget-view+json": {
       "model_id": "",
       "version_major": 2,
       "version_minor": 0
      },
      "text/plain": [
       "IntProgress(value=0, max=87402)"
      ]
     },
     "metadata": {},
     "output_type": "display_data"
    },
    {
     "name": "stdout",
     "output_type": "stream",
     "text": [
      "train Loss: 0.2311\n",
      "[[41448  1413]\n",
      " [ 2264 42299]]\n",
      "Precision: 0.95\n",
      "Recall   : 0.97\n",
      "Accuracy : 0.96\n"
     ]
    },
    {
     "data": {
      "application/vnd.jupyter.widget-view+json": {
       "model_id": "",
       "version_major": 2,
       "version_minor": 0
      },
      "text/plain": [
       "IntProgress(value=0, max=11719)"
      ]
     },
     "metadata": {},
     "output_type": "display_data"
    },
    {
     "name": "stdout",
     "output_type": "stream",
     "text": [
      "val Loss: 0.0744\n",
      "[[10637    14]\n",
      " [  290   803]]\n",
      "Precision: 0.73\n",
      "Recall   : 0.98\n",
      "Accuracy : 0.97\n",
      "Current mode has been saved to keypress_recognition/current_black.tar ...\n",
      "\n",
      "Epoch 196/200\n"
     ]
    },
    {
     "data": {
      "application/vnd.jupyter.widget-view+json": {
       "model_id": "",
       "version_major": 2,
       "version_minor": 0
      },
      "text/plain": [
       "IntProgress(value=0, max=87402)"
      ]
     },
     "metadata": {},
     "output_type": "display_data"
    },
    {
     "name": "stdout",
     "output_type": "stream",
     "text": [
      "train Loss: 0.2308\n",
      "[[41457  1406]\n",
      " [ 2255 42306]]\n",
      "Precision: 0.95\n",
      "Recall   : 0.97\n",
      "Accuracy : 0.96\n"
     ]
    },
    {
     "data": {
      "application/vnd.jupyter.widget-view+json": {
       "model_id": "",
       "version_major": 2,
       "version_minor": 0
      },
      "text/plain": [
       "IntProgress(value=0, max=11719)"
      ]
     },
     "metadata": {},
     "output_type": "display_data"
    },
    {
     "name": "stdout",
     "output_type": "stream",
     "text": [
      "val Loss: 0.0774\n",
      "[[10614    13]\n",
      " [  313   804]]\n",
      "Precision: 0.72\n",
      "Recall   : 0.98\n",
      "Accuracy : 0.97\n",
      "Current mode has been saved to keypress_recognition/current_black.tar ...\n",
      "\n",
      "Epoch 197/200\n"
     ]
    },
    {
     "data": {
      "application/vnd.jupyter.widget-view+json": {
       "model_id": "",
       "version_major": 2,
       "version_minor": 0
      },
      "text/plain": [
       "IntProgress(value=0, max=87402)"
      ]
     },
     "metadata": {},
     "output_type": "display_data"
    },
    {
     "name": "stdout",
     "output_type": "stream",
     "text": [
      "train Loss: 0.2320\n",
      "[[41456  1395]\n",
      " [ 2256 42317]]\n",
      "Precision: 0.95\n",
      "Recall   : 0.97\n",
      "Accuracy : 0.96\n"
     ]
    },
    {
     "data": {
      "application/vnd.jupyter.widget-view+json": {
       "model_id": "",
       "version_major": 2,
       "version_minor": 0
      },
      "text/plain": [
       "IntProgress(value=0, max=11719)"
      ]
     },
     "metadata": {},
     "output_type": "display_data"
    },
    {
     "name": "stdout",
     "output_type": "stream",
     "text": [
      "val Loss: 0.0750\n",
      "[[10624    14]\n",
      " [  303   803]]\n",
      "Precision: 0.73\n",
      "Recall   : 0.98\n",
      "Accuracy : 0.97\n",
      "Current mode has been saved to keypress_recognition/current_black.tar ...\n",
      "\n",
      "Epoch 198/200\n"
     ]
    },
    {
     "data": {
      "application/vnd.jupyter.widget-view+json": {
       "model_id": "",
       "version_major": 2,
       "version_minor": 0
      },
      "text/plain": [
       "IntProgress(value=0, max=87402)"
      ]
     },
     "metadata": {},
     "output_type": "display_data"
    },
    {
     "name": "stdout",
     "output_type": "stream",
     "text": [
      "train Loss: 0.2308\n",
      "[[41446  1398]\n",
      " [ 2266 42314]]\n",
      "Precision: 0.95\n",
      "Recall   : 0.97\n",
      "Accuracy : 0.96\n"
     ]
    },
    {
     "data": {
      "application/vnd.jupyter.widget-view+json": {
       "model_id": "",
       "version_major": 2,
       "version_minor": 0
      },
      "text/plain": [
       "IntProgress(value=0, max=11719)"
      ]
     },
     "metadata": {},
     "output_type": "display_data"
    },
    {
     "name": "stdout",
     "output_type": "stream",
     "text": [
      "val Loss: 0.0781\n",
      "[[10609    14]\n",
      " [  318   803]]\n",
      "Precision: 0.72\n",
      "Recall   : 0.98\n",
      "Accuracy : 0.97\n",
      "Current mode has been saved to keypress_recognition/current_black.tar ...\n",
      "\n",
      "Epoch 199/200\n"
     ]
    },
    {
     "data": {
      "application/vnd.jupyter.widget-view+json": {
       "model_id": "",
       "version_major": 2,
       "version_minor": 0
      },
      "text/plain": [
       "IntProgress(value=0, max=87402)"
      ]
     },
     "metadata": {},
     "output_type": "display_data"
    },
    {
     "name": "stdout",
     "output_type": "stream",
     "text": [
      "train Loss: 0.2311\n",
      "[[41444  1399]\n",
      " [ 2268 42313]]\n",
      "Precision: 0.95\n",
      "Recall   : 0.97\n",
      "Accuracy : 0.96\n"
     ]
    },
    {
     "data": {
      "application/vnd.jupyter.widget-view+json": {
       "model_id": "",
       "version_major": 2,
       "version_minor": 0
      },
      "text/plain": [
       "IntProgress(value=0, max=11719)"
      ]
     },
     "metadata": {},
     "output_type": "display_data"
    },
    {
     "name": "stdout",
     "output_type": "stream",
     "text": [
      "val Loss: 0.0767\n",
      "[[10619    14]\n",
      " [  308   803]]\n",
      "Precision: 0.72\n",
      "Recall   : 0.98\n",
      "Accuracy : 0.97\n",
      "Current mode has been saved to keypress_recognition/current_black.tar ...\n",
      "\n",
      "Epoch 200/200\n"
     ]
    },
    {
     "data": {
      "application/vnd.jupyter.widget-view+json": {
       "model_id": "",
       "version_major": 2,
       "version_minor": 0
      },
      "text/plain": [
       "IntProgress(value=0, max=87402)"
      ]
     },
     "metadata": {},
     "output_type": "display_data"
    },
    {
     "name": "stdout",
     "output_type": "stream",
     "text": [
      "train Loss: 0.2306\n",
      "[[41454  1387]\n",
      " [ 2258 42325]]\n",
      "Precision: 0.95\n",
      "Recall   : 0.97\n",
      "Accuracy : 0.96\n"
     ]
    },
    {
     "data": {
      "application/vnd.jupyter.widget-view+json": {
       "model_id": "",
       "version_major": 2,
       "version_minor": 0
      },
      "text/plain": [
       "IntProgress(value=0, max=11719)"
      ]
     },
     "metadata": {},
     "output_type": "display_data"
    },
    {
     "name": "stdout",
     "output_type": "stream",
     "text": [
      "val Loss: 0.0753\n",
      "[[10624    15]\n",
      " [  303   802]]\n",
      "Precision: 0.73\n",
      "Recall   : 0.98\n",
      "Accuracy : 0.97\n",
      "Current mode has been saved to keypress_recognition/current_black.tar ...\n",
      "\n",
      "Training complete in 244m 10s\n",
      "Best val loss: 0.056376\n"
     ]
    }
   ],
   "source": [
    "bmodel = models.get_black_key_model(channels)\n",
    "bmodel.train(dataset, batch_size=32, size='single', color='black',\n",
    "             concatenate=concat,\n",
    "             num_epochs=200,\n",
    "             weight_decay=0.1,\n",
    "             max_num=-1,\n",
    "             learning_rate=1e-3,\n",
    "             decay_every=10,\n",
    "             decay_by=0.5,\n",
    "             best_path='keypress_recognition/best_black_model.tar',\n",
    "             current_path='keypress_recognition/current_black.tar',\n",
    "             method=0)"
   ]
  },
  {
   "cell_type": "code",
   "execution_count": 7,
   "metadata": {},
   "outputs": [
    {
     "data": {
      "application/vnd.jupyter.widget-view+json": {
       "model_id": "c874bd1fb58244ce9a1b18851dfd9ae5",
       "version_major": 2,
       "version_minor": 0
      },
      "text/plain": [
       "IntProgress(value=0, max=23275)"
      ]
     },
     "metadata": {},
     "output_type": "display_data"
    },
    {
     "name": "stdout",
     "output_type": "stream",
     "text": [
      "(12, 106, 20, 3)\n",
      "tensor([0, 0, 0, 0, 0, 0, 0, 0, 0, 0, 0, 0], dtype=torch.uint8)\n"
     ]
    },
    {
     "data": {
      "image/png": "[encoded data removed]",
      "text/plain": [
       "<Figure size 1080x288 with 12 Axes>"
      ]
     },
     "metadata": {},
     "output_type": "display_data"
    }
   ],
   "source": [
    "example_batch = 12\n",
    "fig, axarr = plt.subplots(1, example_batch, figsize=(15,4))\n",
    "for imgb, noteb, _ in dataset.data_batch(type='test', size='single', color='black', batch_size=example_batch, NCHW=True, need_velocity=False, concatenate=concat):\n",
    "    yb = bmodel.evaluate(imgb, threshold=0.5)\n",
    "    imgb = np.transpose(imgb, (0, 2, 3, 1))\n",
    "    print(imgb.shape)\n",
    "    print(yb)\n",
    "    for i in range(example_batch):\n",
    "        axarr[i].imshow(cv2.cvtColor(display_concat_img(imgb, i), cv2.COLOR_BGR2RGB))\n",
    "        axarr[i].set_title('Truth: ' + visualize_keys(noteb[i]) + '\\nPred:  ' + visualize_keys(yb[i]))\n",
    "        axarr[i].axis('off')\n",
    "    break\n",
    "plt.show()"
   ]
  },
  {
   "cell_type": "code",
   "execution_count": null,
   "metadata": {},
   "outputs": [],
   "source": []
  }
 ],
 "metadata": {
  "kernelspec": {
   "display_name": "Environment (conda_pytorch_p36)",
   "language": "python",
   "name": "conda_pytorch_p36"
  },
  "language_info": {
   "codemirror_mode": {
    "name": "ipython",
    "version": 3
   },
   "file_extension": ".py",
   "mimetype": "text/x-python",
   "name": "python",
   "nbconvert_exporter": "python",
   "pygments_lexer": "ipython3",
   "version": "3.6.5"
  }
 },
 "nbformat": 4,
 "nbformat_minor": 2
}
